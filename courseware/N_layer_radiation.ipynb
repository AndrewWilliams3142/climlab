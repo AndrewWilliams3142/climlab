{
 "cells": [
  {
   "cell_type": "markdown",
   "metadata": {},
   "source": [
    "# N layer radiation"
   ]
  },
  {
   "cell_type": "code",
   "execution_count": 1,
   "metadata": {
    "collapsed": false
   },
   "outputs": [],
   "source": [
    "%matplotlib inline\n",
    "import numpy as np\n",
    "from climlab import constants as const\n",
    "from climlab.model import column\n",
    "import sympy\n",
    "sympy.init_printing()"
   ]
  },
  {
   "cell_type": "markdown",
   "metadata": {},
   "source": [
    "Suppose we have an atmosphere of $N$ layers. We want to model the radiative fluxes in a particular spectral band with absorptivities\n",
    "\n",
    "$${\\bf{\\epsilon}} = [\\epsilon_0, \\epsilon_1, ..., \\epsilon_{N-1}]$$\n",
    "\n",
    "Let the **upwelling flux between levels** be a vector ${\\bf{U}} = [U_0, U_1, ..., U_{N-1}, U_N]$.\n",
    "\n",
    "If there are $N$ levels then $\\bf{U}$ has $N+1$ elements. We will number the layers starting from 0 following `numpy` index conventions.\n",
    "\n",
    "- $U_0$ is the upwelling flux from surface to layer 0.\n",
    "- $U_1$ is the upwelling flux layer 0 to layer 1, etc.\n",
    "- $U_N$ is the upwelling flux from layer N-1 (the top level) to space.\n",
    "\n",
    "Same for the downwelling flux ${\\bf{D}} = [D_0, D_1, ..., D_N]$. So $D_N$ is the flux down from space and $D_0$ is the backradiation to the surface.\n"
   ]
  },
  {
   "cell_type": "code",
   "execution_count": 2,
   "metadata": {
    "collapsed": false
   },
   "outputs": [],
   "source": [
    "epsilon, epsilon_i, N, sigma = sympy.symbols('epsilon, epsilon_i, N, sigma', nonnegative=True )"
   ]
  },
  {
   "cell_type": "markdown",
   "metadata": {},
   "source": [
    "For this spectral band, we need to specify:\n",
    "\n",
    "- Absorptivity of each layer\n",
    "- Emission of each layer (assumed equal up and down)\n",
    "- Flux down through the top\n",
    "- Flux up through the bottom"
   ]
  },
  {
   "cell_type": "code",
   "execution_count": 3,
   "metadata": {
    "collapsed": false
   },
   "outputs": [],
   "source": [
    "E, E_i, Fdowntop, Fupbottom = sympy.symbols('E, E_i, Fdowntop, Fupbottom', nonnegative=True )"
   ]
  },
  {
   "cell_type": "code",
   "execution_count": 4,
   "metadata": {
    "collapsed": false
   },
   "outputs": [
    {
     "data": {
      "image/png": "[encoded data removed]",
      "text/latex": [
       "$$\\left[\\begin{matrix}0.0\\\\0.0\\\\0.0\\\\0.0\\end{matrix}\\right]$$"
      ],
      "text/plain": [
       "⎡0.0⎤\n",
       "⎢   ⎥\n",
       "⎢0.0⎥\n",
       "⎢   ⎥\n",
       "⎢0.0⎥\n",
       "⎢   ⎥\n",
       "⎣0.0⎦"
      ]
     },
     "execution_count": 4,
     "metadata": {},
     "output_type": "execute_result"
    }
   ],
   "source": [
    "N = 3\n",
    "U = sympy.Matrix(np.zeros(N+1))\n",
    "U"
   ]
  },
  {
   "cell_type": "code",
   "execution_count": 5,
   "metadata": {
    "collapsed": false
   },
   "outputs": [
    {
     "data": {
      "image/png": "[encoded data removed]",
      "text/latex": [
       "$$\\left[\\begin{matrix}3906250000.0 \\sigma\\\\3906250000.0 \\sigma\\\\3906250000.0 \\sigma\\end{matrix}\\right]$$"
      ],
      "text/plain": [
       "⎡3906250000.0⋅σ⎤\n",
       "⎢              ⎥\n",
       "⎢3906250000.0⋅σ⎥\n",
       "⎢              ⎥\n",
       "⎣3906250000.0⋅σ⎦"
      ]
     },
     "execution_count": 5,
     "metadata": {},
     "output_type": "execute_result"
    }
   ],
   "source": [
    "# formula to construct U for arbitrary N\n",
    "\n",
    "#  need to choose appropriate values\n",
    "epsilon = sympy.Matrix(0.3*np.ones(N))\n",
    "tau = sympy.Matrix(np.ones(N)) - epsilon\n",
    "\n",
    "T = sympy.Matrix(250. * np.ones(N))\n",
    "T\n",
    "\n",
    "E = sympy.Matrix([sigma * x**4 for x in T])\n",
    "E\n"
   ]
  },
  {
   "cell_type": "code",
   "execution_count": 6,
   "metadata": {
    "collapsed": false
   },
   "outputs": [],
   "source": [
    "U = sympy.Matrix(np.zeros(N+1))\n",
    "U[0] = Fupbottom\n",
    "for n in range(N):\n",
    "    U[n+1] = tau[n]*U[n] + E[n]"
   ]
  },
  {
   "cell_type": "code",
   "execution_count": 7,
   "metadata": {
    "collapsed": false
   },
   "outputs": [
    {
     "ename": "SyntaxError",
     "evalue": "invalid syntax (<ipython-input-7-6ab3772c610c>, line 3)",
     "output_type": "error",
     "traceback": [
      "\u001b[0;36m  File \u001b[0;32m\"<ipython-input-7-6ab3772c610c>\"\u001b[0;36m, line \u001b[0;32m3\u001b[0m\n\u001b[0;31m    for n in\u001b[0m\n\u001b[0m             ^\u001b[0m\n\u001b[0;31mSyntaxError\u001b[0m\u001b[0;31m:\u001b[0m invalid syntax\n"
     ]
    }
   ],
   "source": [
    "D = sympy.Matrix(np.zeros(N+1))\n",
    "D[N] = Fdowntop\n",
    "for n in "
   ]
  },
  {
   "cell_type": "code",
   "execution_count": null,
   "metadata": {
    "collapsed": false
   },
   "outputs": [],
   "source": [
    "joe = np.ones(N+1)"
   ]
  },
  {
   "cell_type": "code",
   "execution_count": null,
   "metadata": {
    "collapsed": false
   },
   "outputs": [],
   "source": [
    "joe"
   ]
  },
  {
   "cell_type": "code",
   "execution_count": null,
   "metadata": {
    "collapsed": false
   },
   "outputs": [],
   "source": [
    "np.cumprod(joe)"
   ]
  },
  {
   "cell_type": "code",
   "execution_count": null,
   "metadata": {
    "collapsed": false
   },
   "outputs": [],
   "source": []
  }
 ],
 "metadata": {
  "kernelspec": {
   "display_name": "Python 2",
   "language": "python",
   "name": "python2"
  },
  "language_info": {
   "codemirror_mode": {
    "name": "ipython",
    "version": 2
   },
   "file_extension": ".py",
   "mimetype": "text/x-python",
   "name": "python",
   "nbconvert_exporter": "python",
   "pygments_lexer": "ipython2",
   "version": "2.7.9"
  }
 },
 "nbformat": 4,
 "nbformat_minor": 0
}
