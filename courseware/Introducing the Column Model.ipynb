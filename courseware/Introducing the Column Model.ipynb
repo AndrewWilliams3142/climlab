{
 "metadata": {
  "name": "",
  "signature": "sha256:206141ac649c6e381cda7b37cbcbb64e0049669224d12f266e7dc7eafe8fd078"
 },
 "nbformat": 3,
 "nbformat_minor": 0,
 "worksheets": [
  {
   "cells": [
    {
     "cell_type": "heading",
     "level": 1,
     "metadata": {},
     "source": [
      "Introducing the Column Model"
     ]
    },
    {
     "cell_type": "heading",
     "level": 2,
     "metadata": {},
     "source": [
      "About this exercise:"
     ]
    },
    {
     "cell_type": "markdown",
     "metadata": {},
     "source": [
      "There are two goals for this (hopefully straightforward) exercise:\n",
      "\n",
      "1. To introduce you to working with files and modules in Python\n",
      "2. To introduce the column radiation model\n",
      "\n",
      "We will be working with this same model code for the next few weeks.\n",
      "\n",
      "Your job is to go through the whole exercise. There are 3 questions clearly marked below for you to answer. Hand in ONLY your answers to those questions."
     ]
    },
    {
     "cell_type": "heading",
     "level": 4,
     "metadata": {},
     "source": [
      "Please DO NOT just copy and paste the examples from here. Type them in yourself! This is MUCH better way to learn what you are doing."
     ]
    },
    {
     "cell_type": "heading",
     "level": 3,
     "metadata": {},
     "source": [
      "Answers are due on Tuesday February 25, 2014"
     ]
    },
    {
     "cell_type": "heading",
     "level": 2,
     "metadata": {},
     "source": [
      "About Python modules:"
     ]
    },
    {
     "cell_type": "markdown",
     "metadata": {},
     "source": [
      "Every time we use the import statement in Python, the interpreter loads instructions from a file, usually with the extension .py at the end of the file name.\n",
      "\n",
      "For example if we typed 'import foo' the interpreter would try to open and read a file called 'foo.py'\n",
      "\n",
      "This file would contain the same types of Python code that you have been entering manually on the command line, e.g. definitions of variables and functions.\n",
      "\n",
      "The real beauty of the import statement is that it makes the Python language very modular. With one 'import' we can have access to all kinds of useful code.\n",
      "\n",
      "To then access variables and functions in a module, we usually type the name of the module, followed by period (.), followed by the variable or function name. You've already seen a bit of this with the netCDF4 module you used in the last homework. You'll practice these skills again here."
     ]
    },
    {
     "cell_type": "code",
     "collapsed": false,
     "input": [
      "%matplotlib inline\n",
      "import numpy as np\n",
      "from climlab import constants as const\n",
      "from climlab import column"
     ],
     "language": "python",
     "metadata": {},
     "outputs": [],
     "prompt_number": 1
    },
    {
     "cell_type": "heading",
     "level": 2,
     "metadata": {},
     "source": [
      "Obtaining the code files for the Column Model"
     ]
    },
    {
     "cell_type": "markdown",
     "metadata": {},
     "source": [
      "### This is out of date and needs to be revised...\n",
      "###  we have changed the name to column.py, put it in the package called climlab, etc.\n",
      "\n",
      "You will need to download two .py files from the class website. 'ColumnModel.py' has the actual model code, and 'ClimateUtils.py' has a bunch of useful constants and functions that we will use repeatedly throughout the semester.  Find links to the code on the class web page:\n",
      "<http://www.atmos.albany.edu/facstaff/brose/classes/ENV480_Spring2014/styled-5/index.html>\n",
      "\n",
      "You need to choose a directory on your computer to work in (or create a new one). Save both .py files to this directory.\n",
      "\n",
      "Then, open up Canopy and try this:"
     ]
    },
    {
     "cell_type": "code",
     "collapsed": false,
     "input": [
      "import ColumnModel"
     ],
     "language": "python",
     "metadata": {},
     "outputs": [],
     "prompt_number": 2
    },
    {
     "cell_type": "markdown",
     "metadata": {},
     "source": [
      "What happened? Did you get an error message such as this:"
     ]
    },
    {
     "cell_type": "raw",
     "metadata": {},
     "source": [
      "---------------------------------------------------------------------------\n",
      "ImportError                               Traceback (most recent call last)\n",
      "<ipython-input-1-5933880538c1> in <module>()\n",
      "----> 1 import ColumnModel\n",
      "\n",
      "ImportError: No module named ColumnModel \n"
     ]
    },
    {
     "cell_type": "markdown",
     "metadata": {},
     "source": [
      "If so, the reason is that the Python interpreter is looking for a file called 'ColumnModel.py' but can't find it!\n",
      "\n",
      "This is because we haven't told Python where to look for it. The easiest thing to do is set Python's current working directory to the same directory where you saved the code files.\n",
      "\n",
      "Find the little arrow on the right-hand side of the Canopy window, just above your interpreter box. Clicking on this arrow should make a window pop up allowing you to \"Change Working Directory...\"\n",
      "\n",
      "Choose the directory where the code files are sitting, and try the import statement again. No error message = a successful import!"
     ]
    },
    {
     "cell_type": "heading",
     "level": 2,
     "metadata": {},
     "source": [
      "Creating a new instance of the Column Model"
     ]
    },
    {
     "cell_type": "markdown",
     "metadata": {},
     "source": [
      "To begin working with the model, we just need to tell Python to create a new object called a 'column' that is defined in the file ColumnModel.py\n",
      "\n",
      "Try this:"
     ]
    },
    {
     "cell_type": "code",
     "collapsed": false,
     "input": [
      "mycolumn = column.SingleColumnModel( num_levels=2 )"
     ],
     "language": "python",
     "metadata": {},
     "outputs": [],
     "prompt_number": 3
    },
    {
     "cell_type": "markdown",
     "metadata": {},
     "source": [
      "You have just created a new column object. What is that? Let's take a look:"
     ]
    },
    {
     "cell_type": "code",
     "collapsed": false,
     "input": [
      "print mycolumn"
     ],
     "language": "python",
     "metadata": {},
     "outputs": [
      {
       "output_type": "stream",
       "stream": "stdout",
       "text": [
        "<climlab.column.SingleColumnModel object at 0x10e6483d0>\n"
       ]
      }
     ],
     "prompt_number": 4
    },
    {
     "cell_type": "markdown",
     "metadata": {},
     "source": [
      "Try just typing mycolumn. and then hitting the tab key. You should see a list pop up. Everything on that list is the name of some object that is contained within mycolumn.\n",
      "\n",
      "\"Object\" is a very general concept. Everything in Python that has a name is an object. This includes variables (numbers, character strings, etc.), but also functions.\n",
      "\n",
      "Our object called mycolumn contains a bunch of data, and it also contains some functions that operate on those data.\n",
      "\n",
      "Try this:"
     ]
    },
    {
     "cell_type": "code",
     "collapsed": false,
     "input": [
      "print mycolumn.state"
     ],
     "language": "python",
     "metadata": {},
     "outputs": [
      {
       "output_type": "stream",
       "stream": "stdout",
       "text": [
        "{'Tatm': array([ 278.,  200.]), 'Ts': 288.0}\n"
       ]
      }
     ],
     "prompt_number": 5
    },
    {
     "cell_type": "markdown",
     "metadata": {},
     "source": [
      "We will use the column object to model temperature in a column. What you just did above was to look at the temperatures currently stored in mycolumn, for the surface (a single number), and the atmosphere.\n",
      "\n",
      "When you created mycolumn a few lines ago, you specifically asked for a column with 2 levels in the atmosphere.\n",
      "\n",
      "We can see where those levels are in the atmosphere as follows:"
     ]
    },
    {
     "cell_type": "code",
     "collapsed": false,
     "input": [
      "print mycolumn.grid['lev'].points"
     ],
     "language": "python",
     "metadata": {},
     "outputs": [
      {
       "output_type": "stream",
       "stream": "stdout",
       "text": [
        "[ 750.  250.]\n"
       ]
      }
     ],
     "prompt_number": 6
    },
    {
     "cell_type": "markdown",
     "metadata": {},
     "source": [
      "which is actually the pressure (in mb or hPa) at which we are specifying the temperature -- in this case essentially the lower and upper troposphere."
     ]
    },
    {
     "cell_type": "heading",
     "level": 3,
     "metadata": {},
     "source": [
      "So what does this code actually do?"
     ]
    },
    {
     "cell_type": "markdown",
     "metadata": {},
     "source": [
      "It calculates the warming and cooling of the air and the surface based on the grey radition approximation that we have looked at in class.\n",
      "\n",
      "I encourage you to look through the code. Try typing this:"
     ]
    },
    {
     "cell_type": "raw",
     "metadata": {},
     "source": [
      "edit ColumnModel"
     ]
    },
    {
     "cell_type": "markdown",
     "metadata": {},
     "source": [
      "You should find that the code is now displayed in your editor window. Have a look, but obviously don't fret about not understanding it at this point.\n",
      "\n",
      "Notice, though, that there are lots of comments sprinkled throughout the code. Comments in Python begin with # and are just words to help us understand the code. Comments are never executed by the Python interpreter.\n",
      "\n",
      "Convince yourself of this by typing something like this:"
     ]
    },
    {
     "cell_type": "code",
     "collapsed": false,
     "input": [
      "# this is not valid Python code"
     ],
     "language": "python",
     "metadata": {},
     "outputs": [],
     "prompt_number": 7
    },
    {
     "cell_type": "markdown",
     "metadata": {},
     "source": [
      "You might want to try typing the same thing without the # in front."
     ]
    },
    {
     "cell_type": "code",
     "collapsed": false,
     "input": [
      "this is not valid Python code"
     ],
     "language": "python",
     "metadata": {},
     "outputs": [
      {
       "ename": "SyntaxError",
       "evalue": "invalid syntax (<ipython-input-8-146db698be12>, line 1)",
       "output_type": "pyerr",
       "traceback": [
        "\u001b[0;36m  File \u001b[0;32m\"<ipython-input-8-146db698be12>\"\u001b[0;36m, line \u001b[0;32m1\u001b[0m\n\u001b[0;31m    this is not valid Python code\u001b[0m\n\u001b[0m                           ^\u001b[0m\n\u001b[0;31mSyntaxError\u001b[0m\u001b[0;31m:\u001b[0m invalid syntax\n"
       ]
      }
     ],
     "prompt_number": 8
    },
    {
     "cell_type": "heading",
     "level": 3,
     "metadata": {},
     "source": [
      "OK but what does this code actually do?"
     ]
    },
    {
     "cell_type": "markdown",
     "metadata": {},
     "source": [
      "It calculates the warming and cooling of the air and the surface based on the grey radition approximation that we have looked at in class.\n",
      "\n",
      "Try this:"
     ]
    },
    {
     "cell_type": "code",
     "collapsed": false,
     "input": [
      "#mycolumn.processes['radiation'].LW_absorbed_sfc\n",
      "#longwave_heating()\n",
      "#print mycolumn.LW_absorbed_sfc\n",
      "#print mycolumn.LW_absorbed_atm\n",
      "joe = mycolumn.processes['radiation']"
     ],
     "language": "python",
     "metadata": {},
     "outputs": [
      {
       "ename": "KeyError",
       "evalue": "'radiation'",
       "output_type": "pyerr",
       "traceback": [
        "\u001b[0;31m---------------------------------------------------------------------------\u001b[0m\n\u001b[0;31mKeyError\u001b[0m                                  Traceback (most recent call last)",
        "\u001b[0;32m<ipython-input-9-f9200920c49b>\u001b[0m in \u001b[0;36m<module>\u001b[0;34m()\u001b[0m\n\u001b[1;32m      3\u001b[0m \u001b[0;31m#print mycolumn.LW_absorbed_sfc\u001b[0m\u001b[0;34m\u001b[0m\u001b[0;34m\u001b[0m\u001b[0m\n\u001b[1;32m      4\u001b[0m \u001b[0;31m#print mycolumn.LW_absorbed_atm\u001b[0m\u001b[0;34m\u001b[0m\u001b[0;34m\u001b[0m\u001b[0m\n\u001b[0;32m----> 5\u001b[0;31m \u001b[0mjoe\u001b[0m \u001b[0;34m=\u001b[0m \u001b[0mmycolumn\u001b[0m\u001b[0;34m.\u001b[0m\u001b[0mprocesses\u001b[0m\u001b[0;34m[\u001b[0m\u001b[0;34m'radiation'\u001b[0m\u001b[0;34m]\u001b[0m\u001b[0;34m\u001b[0m\u001b[0m\n\u001b[0m",
        "\u001b[0;31mKeyError\u001b[0m: 'radiation'"
       ]
      }
     ],
     "prompt_number": 9
    },
    {
     "cell_type": "code",
     "collapsed": false,
     "input": [
      "mycolumn.processes['radiation'].compute()"
     ],
     "language": "python",
     "metadata": {},
     "outputs": [
      {
       "ename": "KeyError",
       "evalue": "'radiation'",
       "output_type": "pyerr",
       "traceback": [
        "\u001b[0;31m---------------------------------------------------------------------------\u001b[0m\n\u001b[0;31mKeyError\u001b[0m                                  Traceback (most recent call last)",
        "\u001b[0;32m<ipython-input-10-bcdbf8328e0b>\u001b[0m in \u001b[0;36m<module>\u001b[0;34m()\u001b[0m\n\u001b[0;32m----> 1\u001b[0;31m \u001b[0mmycolumn\u001b[0m\u001b[0;34m.\u001b[0m\u001b[0mprocesses\u001b[0m\u001b[0;34m[\u001b[0m\u001b[0;34m'radiation'\u001b[0m\u001b[0;34m]\u001b[0m\u001b[0;34m.\u001b[0m\u001b[0mcompute\u001b[0m\u001b[0;34m(\u001b[0m\u001b[0;34m)\u001b[0m\u001b[0;34m\u001b[0m\u001b[0m\n\u001b[0m",
        "\u001b[0;31mKeyError\u001b[0m: 'radiation'"
       ]
      }
     ],
     "prompt_number": 10
    },
    {
     "cell_type": "markdown",
     "metadata": {},
     "source": [
      "What you just did was to call a function Longwave_Heating() that calculates how much longwave radiation is emitted up and down from each layer, and how much is absorbed by each layer (and the surface).\n",
      "\n",
      "You then printed out some quantities that were calculated and stored by the function, which are actually the heating rates at each level in W / m$^2$\n",
      "\n",
      "Now try this:"
     ]
    },
    {
     "cell_type": "code",
     "collapsed": false,
     "input": [
      "#mycolumn.shortwave_heating()\n",
      "print mycolumn.processes['radiation'].diagnostics['SW_absorbed_sfc']\n",
      "print mycolumn.processes['radiation'].diagnostics['SW_absorbed_atm']"
     ],
     "language": "python",
     "metadata": {},
     "outputs": [
      {
       "ename": "KeyError",
       "evalue": "'radiation'",
       "output_type": "pyerr",
       "traceback": [
        "\u001b[0;31m---------------------------------------------------------------------------\u001b[0m\n\u001b[0;31mKeyError\u001b[0m                                  Traceback (most recent call last)",
        "\u001b[0;32m<ipython-input-11-9dc5d8000a0b>\u001b[0m in \u001b[0;36m<module>\u001b[0;34m()\u001b[0m\n\u001b[1;32m      1\u001b[0m \u001b[0;31m#mycolumn.shortwave_heating()\u001b[0m\u001b[0;34m\u001b[0m\u001b[0;34m\u001b[0m\u001b[0m\n\u001b[0;32m----> 2\u001b[0;31m \u001b[0;32mprint\u001b[0m \u001b[0mmycolumn\u001b[0m\u001b[0;34m.\u001b[0m\u001b[0mprocesses\u001b[0m\u001b[0;34m[\u001b[0m\u001b[0;34m'radiation'\u001b[0m\u001b[0;34m]\u001b[0m\u001b[0;34m.\u001b[0m\u001b[0mdiagnostics\u001b[0m\u001b[0;34m[\u001b[0m\u001b[0;34m'SW_absorbed_sfc'\u001b[0m\u001b[0;34m]\u001b[0m\u001b[0;34m\u001b[0m\u001b[0m\n\u001b[0m\u001b[1;32m      3\u001b[0m \u001b[0;32mprint\u001b[0m \u001b[0mmycolumn\u001b[0m\u001b[0;34m.\u001b[0m\u001b[0mprocesses\u001b[0m\u001b[0;34m[\u001b[0m\u001b[0;34m'radiation'\u001b[0m\u001b[0;34m]\u001b[0m\u001b[0;34m.\u001b[0m\u001b[0mdiagnostics\u001b[0m\u001b[0;34m[\u001b[0m\u001b[0;34m'SW_absorbed_atm'\u001b[0m\u001b[0;34m]\u001b[0m\u001b[0;34m\u001b[0m\u001b[0m\n",
        "\u001b[0;31mKeyError\u001b[0m: 'radiation'"
       ]
      }
     ],
     "prompt_number": 11
    },
    {
     "cell_type": "markdown",
     "metadata": {},
     "source": [
      "Hopefully this makes sense. Our code also calculates the energy absorbed due to shortwave (solar) radiation. The atmosphere is transparent to solar radiation in this model, so the absorption all occurs at the surface.\n",
      "\n",
      "Look in the code file to find where the function Shortwave_Heating() is defined. It's really just calculating\n",
      "$(1-\\alpha) Q$ based on some default parameter values for $alpha$ and $Q$. We'll think about changing the defaults later."
     ]
    },
    {
     "cell_type": "heading",
     "level": 3,
     "metadata": {},
     "source": [
      "Energy (im)balance in the column"
     ]
    },
    {
     "cell_type": "markdown",
     "metadata": {},
     "source": [
      "To get the total energy sources and sinks at each point, we just need to add up the shortwave and longwave terms:"
     ]
    },
    {
     "cell_type": "code",
     "collapsed": false,
     "input": [
      "print mycolumn.processes['radiation'].diagnostics['LW_absorbed_sfc'] + mycolumn.processes['radiation'].diagnostics['SW_absorbed_sfc']\n",
      "print mycolumn.processes['radiation'].diagnostics['LW_absorbed_atm'] + mycolumn.processes['radiation'].diagnostics['SW_absorbed_atm']"
     ],
     "language": "python",
     "metadata": {},
     "outputs": [
      {
       "ename": "KeyError",
       "evalue": "'radiation'",
       "output_type": "pyerr",
       "traceback": [
        "\u001b[0;31m---------------------------------------------------------------------------\u001b[0m\n\u001b[0;31mKeyError\u001b[0m                                  Traceback (most recent call last)",
        "\u001b[0;32m<ipython-input-12-8fcdb7ee77dd>\u001b[0m in \u001b[0;36m<module>\u001b[0;34m()\u001b[0m\n\u001b[0;32m----> 1\u001b[0;31m \u001b[0;32mprint\u001b[0m \u001b[0mmycolumn\u001b[0m\u001b[0;34m.\u001b[0m\u001b[0mprocesses\u001b[0m\u001b[0;34m[\u001b[0m\u001b[0;34m'radiation'\u001b[0m\u001b[0;34m]\u001b[0m\u001b[0;34m.\u001b[0m\u001b[0mdiagnostics\u001b[0m\u001b[0;34m[\u001b[0m\u001b[0;34m'LW_absorbed_sfc'\u001b[0m\u001b[0;34m]\u001b[0m \u001b[0;34m+\u001b[0m \u001b[0mmycolumn\u001b[0m\u001b[0;34m.\u001b[0m\u001b[0mprocesses\u001b[0m\u001b[0;34m[\u001b[0m\u001b[0;34m'radiation'\u001b[0m\u001b[0;34m]\u001b[0m\u001b[0;34m.\u001b[0m\u001b[0mdiagnostics\u001b[0m\u001b[0;34m[\u001b[0m\u001b[0;34m'SW_absorbed_sfc'\u001b[0m\u001b[0;34m]\u001b[0m\u001b[0;34m\u001b[0m\u001b[0m\n\u001b[0m\u001b[1;32m      2\u001b[0m \u001b[0;32mprint\u001b[0m \u001b[0mmycolumn\u001b[0m\u001b[0;34m.\u001b[0m\u001b[0mprocesses\u001b[0m\u001b[0;34m[\u001b[0m\u001b[0;34m'radiation'\u001b[0m\u001b[0;34m]\u001b[0m\u001b[0;34m.\u001b[0m\u001b[0mdiagnostics\u001b[0m\u001b[0;34m[\u001b[0m\u001b[0;34m'LW_absorbed_atm'\u001b[0m\u001b[0;34m]\u001b[0m \u001b[0;34m+\u001b[0m \u001b[0mmycolumn\u001b[0m\u001b[0;34m.\u001b[0m\u001b[0mprocesses\u001b[0m\u001b[0;34m[\u001b[0m\u001b[0;34m'radiation'\u001b[0m\u001b[0;34m]\u001b[0m\u001b[0;34m.\u001b[0m\u001b[0mdiagnostics\u001b[0m\u001b[0;34m[\u001b[0m\u001b[0;34m'SW_absorbed_atm'\u001b[0m\u001b[0;34m]\u001b[0m\u001b[0;34m\u001b[0m\u001b[0m\n",
        "\u001b[0;31mKeyError\u001b[0m: 'radiation'"
       ]
      }
     ],
     "prompt_number": 12
    },
    {
     "cell_type": "markdown",
     "metadata": {},
     "source": [
      "\n",
      "Evidently this column is NOT in energy balance! The surface is gaining energy at a rate 33 W / m$^2$, the lower atmosphere is losing energy at 116 W / m$^2$, and the upper atmosphere is gaining nearly 90 W / m$^2$."
     ]
    },
    {
     "cell_type": "heading",
     "level": 3,
     "metadata": {},
     "source": [
      "OK so what?"
     ]
    },
    {
     "cell_type": "markdown",
     "metadata": {},
     "source": [
      "The code will not just calculate the energy imbalance, but also change the temperatures in response to the imbalance. It does this by time-stepping, just like we did with the zero-dimensional model in the first homework."
     ]
    },
    {
     "cell_type": "code",
     "collapsed": false,
     "input": [
      "mycolumn.step_forward()\n",
      "#print mycolumn.Ts\n",
      "#print mycolumn.Tatm\n",
      "print mycolumn.state"
     ],
     "language": "python",
     "metadata": {},
     "outputs": [
      {
       "output_type": "stream",
       "stream": "stdout",
       "text": [
        "{'Tatm': array([ 276.03590988,  201.48228304]), 'Ts': 288.69165475512767}\n"
       ]
      }
     ],
     "prompt_number": 13
    },
    {
     "cell_type": "code",
     "collapsed": false,
     "input": [
      "mycolumn.diagnostics"
     ],
     "language": "python",
     "metadata": {},
     "outputs": [
      {
       "metadata": {},
       "output_type": "pyout",
       "prompt_number": 14,
       "text": [
        "{'LW_absorbed_atm': array([-116.44619732,   87.88100973]),\n",
        " 'LW_absorbed_sfc': -205.77889227297035,\n",
        " 'LW_down_sfc': 184.30050233822962,\n",
        " 'OLR': 234.34407986492943,\n",
        " 'OLR_atm': array([ 84.49130835,  43.30739173]),\n",
        " 'OLR_sfc': 106.545379788291,\n",
        " 'SW_absorbed_atm': array([ 0.,  0.]),\n",
        " 'SW_absorbed_sfc': 239.25130000000001,\n",
        " 'SW_absorbed_total': 239.25130000000001,\n",
        " 'SWdown_sfc': 341.30000000000001,\n",
        " 'SWup_TOA': 102.0487,\n",
        " 'absorbed_atm': array([ 0.,  0.]),\n",
        " 'absorbed_sfc': 239.25130000000001,\n",
        " 'blackbody_emission_atm': array([ 338.6587044,   90.72     ]),\n",
        " 'blackbody_emission_sfc': 390.0793946112,\n",
        " 'emissivity_atm': array([ 0.,  0.]),\n",
        " 'emissivity_sfc': array(0.0),\n",
        " 'emit_atm': array([ 0.,  0.]),\n",
        " 'emit_sfc': 0.0,\n",
        " 'planetary_albedo': 0.29899999999999999}"
       ]
      }
     ],
     "prompt_number": 14
    },
    {
     "cell_type": "markdown",
     "metadata": {},
     "source": [
      "Here you just called a function `step_forward()` that computes the energy imbalance as you just did above, and then uses that imbalance to adjust the temperatures."
     ]
    },
    {
     "cell_type": "heading",
     "level": 2,
     "metadata": {},
     "source": [
      "HOMEWORK QUESTION 1"
     ]
    },
    {
     "cell_type": "markdown",
     "metadata": {},
     "source": [
      "Have the temperatures gone up or down at the surface and at each level from where they started? Why?\n",
      "\n",
      "(This is an easy question, not a trick question)"
     ]
    },
    {
     "cell_type": "heading",
     "level": 2,
     "metadata": {},
     "source": [
      "Timestepping to equilibrium"
     ]
    },
    {
     "cell_type": "markdown",
     "metadata": {},
     "source": [
      "Just like we did with the zero-dimensional model in the first homework, we will use loops to time-step the model towards equilibrium. Try this:"
     ]
    },
    {
     "cell_type": "code",
     "collapsed": false,
     "input": [
      "for n in range(10):\n",
      "    mycolumn.step_forward()\n",
      "    print mycolumn.state['Ts']\n"
     ],
     "language": "python",
     "metadata": {},
     "outputs": [
      {
       "output_type": "stream",
       "stream": "stdout",
       "text": [
        "289.226209011\n",
        "289.631495465\n",
        "289.930790219\n",
        "290.143524496\n",
        "290.285892321\n",
        "290.37136734\n",
        "290.411140861\n",
        "290.41449201\n",
        "290.389099741\n",
        "290.341305316\n"
       ]
      }
     ],
     "prompt_number": 15
    },
    {
     "cell_type": "markdown",
     "metadata": {},
     "source": [
      "This little loop just repeated the call to Step_Forward 10 times, and printed out the surface temperature after each time step.\n",
      "\n",
      "Notice that the temperature is changing each time. That means we are not at equilibrium. Try it again!"
     ]
    },
    {
     "cell_type": "code",
     "collapsed": false,
     "input": [
      "for n in range(10):\n",
      "    mycolumn.step_forward()\n",
      "    print mycolumn.state['Ts']"
     ],
     "language": "python",
     "metadata": {},
     "outputs": [
      {
       "output_type": "stream",
       "stream": "stdout",
       "text": [
        "290.276332746\n",
        "290.19847371\n",
        "290.111242519\n",
        "290.017505877\n",
        "289.9195915\n",
        "289.819378974\n",
        "289.718375753\n",
        "289.617780704\n",
        "289.518537221\n",
        "289.421377618\n"
       ]
      }
     ],
     "prompt_number": 16
    },
    {
     "cell_type": "markdown",
     "metadata": {},
     "source": [
      "Still changing, but not by as much.\n",
      "\n",
      "Here's a trick:"
     ]
    },
    {
     "cell_type": "code",
     "collapsed": false,
     "input": [
      "mycolumn.integrate_years(0.3)\n",
      "print mycolumn.state['Ts']"
     ],
     "language": "python",
     "metadata": {},
     "outputs": [
      {
       "output_type": "stream",
       "stream": "stdout",
       "text": [
        "Integrating for 109 steps, 109.57266 days, or 0.3 years.\n",
        "Total elapsed time is 0.355928203258 years.\n",
        "287.809196108\n"
       ]
      }
     ],
     "prompt_number": 17
    },
    {
     "cell_type": "markdown",
     "metadata": {},
     "source": [
      "What you just did was to loop through the time-stepping procedure 100 times!\n",
      "\n",
      "Look at the code and find the function Step_Forward(). Do you see how the code creates a loop?\n",
      "\n",
      "In this case the function Step_Forward() takes an optional input argument which is the number of iterations through the loop. This number defaults to 1 if we don't specify it, which is what happened above!\n",
      "\n",
      "Has the model reached equilibrium yet? We can always keep on time-stepping and see if anything changes:"
     ]
    },
    {
     "cell_type": "code",
     "collapsed": false,
     "input": [
      "mycolumn.integrate_years(0.3)\n",
      "print mycolumn.state['Ts']"
     ],
     "language": "python",
     "metadata": {},
     "outputs": [
      {
       "output_type": "stream",
       "stream": "stdout",
       "text": [
        "Integrating for 109 steps, 109.57266 days, or 0.3 years.\n",
        "Total elapsed time is 0.654360312144 years.\n",
        "287.846465832\n"
       ]
      }
     ],
     "prompt_number": 18
    },
    {
     "cell_type": "markdown",
     "metadata": {},
     "source": [
      "The changes are now minimal, and it is close to equilibrium.\n",
      "\n",
      "Let's look at the whole column temperature:"
     ]
    },
    {
     "cell_type": "code",
     "collapsed": false,
     "input": [
      "for key, item in mycolumn.state.iteritems():\n",
      "    print key, item"
     ],
     "language": "python",
     "metadata": {},
     "outputs": [
      {
       "output_type": "stream",
       "stream": "stdout",
       "text": [
        "Tatm [ 252.94696175  229.43137686]\n",
        "Ts 287.846465832\n"
       ]
      }
     ],
     "prompt_number": 19
    },
    {
     "cell_type": "code",
     "collapsed": false,
     "input": [
      "print mycolumn.tendencies\n",
      "for proc in mycolumn.processes.values():\n",
      "    print proc.tendencies"
     ],
     "language": "python",
     "metadata": {},
     "outputs": [
      {
       "output_type": "stream",
       "stream": "stdout",
       "text": [
        "{'Tatm': array([ 0.,  0.]), 'Ts': array(0.0)}\n",
        "{'Tatm': array([ 0.00015877,  0.00019079]), 'Ts': -4.943659477094327}\n",
        "{'Tatm': array([ 0.,  0.]), 'Ts': 4.9437524980269298}\n"
       ]
      }
     ],
     "prompt_number": 20
    },
    {
     "cell_type": "code",
     "collapsed": false,
     "input": [
      "print mycolumn.abs_coeff\n",
      "print mycolumn.diagnostics"
     ],
     "language": "python",
     "metadata": {},
     "outputs": [
      {
       "output_type": "stream",
       "stream": "stdout",
       "text": [
        "0.0001229\n",
        "{'emissivity_atm': array([ 0.,  0.]), 'LW_absorbed_atm': array([ 0.00941328,  0.01131126]), 'LW_absorbed_sfc': -239.24679828211239, 'OLR_sfc': 106.31822458106284, 'blackbody_emission_atm': array([ 232.1131993 ,  157.10603203]), 'blackbody_emission_sfc': 389.24774366683795, 'OLR_atm': array([ 57.90947535,  74.9983738 ]), 'absorbed_atm': array([ 0.,  0.]), 'LW_down_sfc': 150.00094538472555, 'SW_absorbed_total': 239.25130000000001, 'SW_absorbed_sfc': 239.25130000000001, 'emit_sfc': 0.0, 'SWdown_sfc': 341.30000000000001, 'emit_atm': array([ 0.,  0.]), 'planetary_albedo': 0.29899999999999999, 'OLR': 239.22607373555684, 'emissivity_sfc': array(0.0), 'SW_absorbed_atm': array([ 0.,  0.]), 'SWup_TOA': 102.0487, 'absorbed_sfc': 239.25130000000001}\n"
       ]
      }
     ],
     "prompt_number": 21
    },
    {
     "cell_type": "code",
     "collapsed": false,
     "input": [
      "mycolumn.processes['LW'].compute()\n",
      "print mycolumn.processes['LW'].tendencies\n",
      "print mycolumn.processes['LW'].diagnostics"
     ],
     "language": "python",
     "metadata": {},
     "outputs": [
      {
       "output_type": "stream",
       "stream": "stdout",
       "text": [
        "{'Tatm': array([ 0.00015545,  0.00018673]), 'Ts': -4.9436614313915124}\n",
        "{'LW_absorbed_sfc': -239.24689285969134, 'emissivity_atm': array([ 0.47737425,  0.47737425]), 'LW_absorbed_atm': array([ 0.00921615,  0.01107068]), 'emit_sfc': 389.24824682698295, 'OLR': 239.22660602900697, 'emit_atm': array([ 110.80514204,   74.99862327]), 'OLR_sfc': 106.31836201305613, 'blackbody_emission_atm': array([ 232.11378208,  157.1065546 ]), 'blackbody_emission_sfc': 389.24824682698295, 'emissivity_sfc': array(1.0), 'OLR_atm': array([ 57.90962075,  74.99862327]), 'absorbed_atm': array([ 0.00921615,  0.01107068]), 'LW_down_sfc': 150.00135396729161, 'absorbed_sfc': -239.24689285969134}\n"
       ]
      }
     ],
     "prompt_number": 23
    },
    {
     "cell_type": "heading",
     "level": 2,
     "metadata": {},
     "source": [
      "HOMEWORK QUESTION 2"
     ]
    },
    {
     "cell_type": "markdown",
     "metadata": {},
     "source": [
      "Compare the temperatures you found here (after time-stepping to equilibrium) with the radiative equilibrium temperatures we derived in class for this same model. Do they agree?"
     ]
    },
    {
     "cell_type": "heading",
     "level": 3,
     "metadata": {},
     "source": [
      "Greenhouse warming in the 2-layer model"
     ]
    },
    {
     "cell_type": "markdown",
     "metadata": {},
     "source": [
      "Now that our column is in equilibrium, let's look at the Outgoing Longwave Radiation. The model keeps track of this for us:"
     ]
    },
    {
     "cell_type": "code",
     "collapsed": false,
     "input": [
      "print mycolumn.diagnostics['OLR']"
     ],
     "language": "python",
     "metadata": {},
     "outputs": [
      {
       "output_type": "stream",
       "stream": "stdout",
       "text": [
        "239.226073736\n"
       ]
      }
     ],
     "prompt_number": 24
    },
    {
     "cell_type": "markdown",
     "metadata": {},
     "source": [
      "This should hopefully be almost exactly equal to the shortwave absorption:"
     ]
    },
    {
     "cell_type": "code",
     "collapsed": false,
     "input": [
      "print mycolumn.diagnostics['SW_absorbed_sfc']"
     ],
     "language": "python",
     "metadata": {},
     "outputs": [
      {
       "output_type": "stream",
       "stream": "stdout",
       "text": [
        "239.2513\n"
       ]
      }
     ],
     "prompt_number": 25
    },
    {
     "cell_type": "markdown",
     "metadata": {},
     "source": [
      "Now you are going to do a \"global warming\" experiment, like we started in class.\n",
      "\n",
      "The following will increase the emissivity / absorptivity of each layer by 10%, which is analagous to an increase in greenhouse gases in the atmosphere:"
     ]
    },
    {
     "cell_type": "code",
     "collapsed": false,
     "input": [
      "mycolumn.eps = mycolumn.eps * 1.1"
     ],
     "language": "python",
     "metadata": {},
     "outputs": [
      {
       "ename": "AttributeError",
       "evalue": "'Column' object has no attribute 'eps'",
       "output_type": "pyerr",
       "traceback": [
        "\u001b[0;31m---------------------------------------------------------------------------\u001b[0m\n\u001b[0;31mAttributeError\u001b[0m                            Traceback (most recent call last)",
        "\u001b[0;32m<ipython-input-24-42813b1ad275>\u001b[0m in \u001b[0;36m<module>\u001b[0;34m()\u001b[0m\n\u001b[0;32m----> 1\u001b[0;31m \u001b[0mmycolumn\u001b[0m\u001b[0;34m.\u001b[0m\u001b[0meps\u001b[0m \u001b[0;34m=\u001b[0m \u001b[0mmycolumn\u001b[0m\u001b[0;34m.\u001b[0m\u001b[0meps\u001b[0m \u001b[0;34m*\u001b[0m \u001b[0;36m1.1\u001b[0m\u001b[0;34m\u001b[0m\u001b[0m\n\u001b[0m",
        "\u001b[0;31mAttributeError\u001b[0m: 'Column' object has no attribute 'eps'"
       ]
      }
     ],
     "prompt_number": 24
    },
    {
     "cell_type": "markdown",
     "metadata": {},
     "source": [
      "Let's now re-calculate the longwave radiation with this new value of eps:"
     ]
    },
    {
     "cell_type": "code",
     "collapsed": false,
     "input": [
      "mycolumn.longwave_heating()"
     ],
     "language": "python",
     "metadata": {},
     "outputs": [
      {
       "ename": "AttributeError",
       "evalue": "'Column' object has no attribute 'longwave_heating'",
       "output_type": "pyerr",
       "traceback": [
        "\u001b[0;31m---------------------------------------------------------------------------\u001b[0m\n\u001b[0;31mAttributeError\u001b[0m                            Traceback (most recent call last)",
        "\u001b[0;32m<ipython-input-22-2b9b0d7e4675>\u001b[0m in \u001b[0;36m<module>\u001b[0;34m()\u001b[0m\n\u001b[0;32m----> 1\u001b[0;31m \u001b[0mmycolumn\u001b[0m\u001b[0;34m.\u001b[0m\u001b[0mlongwave_heating\u001b[0m\u001b[0;34m(\u001b[0m\u001b[0;34m)\u001b[0m\u001b[0;34m\u001b[0m\u001b[0m\n\u001b[0m",
        "\u001b[0;31mAttributeError\u001b[0m: 'Column' object has no attribute 'longwave_heating'"
       ]
      }
     ],
     "prompt_number": 22
    },
    {
     "cell_type": "heading",
     "level": 2,
     "metadata": {},
     "source": [
      "HOMEWORK QUESTION 3"
     ]
    },
    {
     "cell_type": "markdown",
     "metadata": {},
     "source": [
      "Find the new value of OLR after this change. Is it larger or smaller than it was before we added greenhouse gases? What do you think should happen to the surface temperature as a result? Why?"
     ]
    }
   ],
   "metadata": {}
  }
 ]
}