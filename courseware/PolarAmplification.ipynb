{
 "cells": [
  {
   "cell_type": "markdown",
   "metadata": {},
   "source": [
    "#  Experiments with surface heat flux"
   ]
  },
  {
   "cell_type": "code",
   "execution_count": 1,
   "metadata": {
    "collapsed": true
   },
   "outputs": [],
   "source": [
    "%matplotlib inline\n",
    "import numpy as np\n",
    "import matplotlib.pyplot as plt\n",
    "import climlab\n",
    "from climlab import constants as const"
   ]
  },
  {
   "cell_type": "markdown",
   "metadata": {},
   "source": [
    "##  EBM with surface and atm layers"
   ]
  },
  {
   "cell_type": "code",
   "execution_count": 2,
   "metadata": {
    "collapsed": false
   },
   "outputs": [
    {
     "name": "stdout",
     "output_type": "stream",
     "text": [
      "climlab Process of type <class 'climlab.model.column.GreyRadiationModel'>. \n",
      "State variables and domain shapes: \n",
      "  Tatm: (90, 1) \n",
      "  Ts: (90, 1) \n",
      "The subprocess tree: \n",
      "top: <class 'climlab.model.column.GreyRadiationModel'>\n",
      "   LW: <class 'climlab.radiation.radiation.Radiation'>\n",
      "   SW: <class 'climlab.radiation.radiation.RadiationSW'>\n",
      "   surface: <class 'climlab.surface.surface_radiation.SurfaceRadiation'>\n",
      "   insolation: <class 'climlab.radiation.insolation.AnnualMeanInsolation'>\n",
      "\n"
     ]
    }
   ],
   "source": [
    "ebm = climlab.GreyRadiationModel(num_lev=1, num_lat=90)\n",
    "insolation = climlab.radiation.insolation.AnnualMeanInsolation(domains=ebm.Ts.domain)\n",
    "ebm.add_subprocess('insolation', insolation)\n",
    "print ebm"
   ]
  },
  {
   "cell_type": "code",
   "execution_count": 3,
   "metadata": {
    "collapsed": true
   },
   "outputs": [],
   "source": [
    "#  add a fixed relative humidity process\n",
    "#  (will only affect surface evaporation)\n",
    "q = np.zeros_like(ebm.Tatm)\n",
    "ebm.set_state('q', q)\n",
    "h2o = climlab.radiation.water_vapor.FixedRelativeHumidity(state=ebm.state, **ebm.param)\n",
    "ebm.add_subprocess('H2O', h2o)"
   ]
  },
  {
   "cell_type": "code",
   "execution_count": 4,
   "metadata": {
    "collapsed": true
   },
   "outputs": [],
   "source": [
    "#  Add surface heat fluxes\n",
    "from climlab.surface.turbulent import SensibleHeatFlux, LatentHeatFlux\n",
    "shf = SensibleHeatFlux(state=ebm.state, Cd=3E-4)\n",
    "lhf = LatentHeatFlux(state=ebm.state, Cd=3E-4)\n",
    "ebm.add_subprocess('SHF', shf)\n",
    "ebm.add_subprocess('LHF', lhf)"
   ]
  },
  {
   "cell_type": "code",
   "execution_count": 5,
   "metadata": {
    "collapsed": false
   },
   "outputs": [
    {
     "name": "stdout",
     "output_type": "stream",
     "text": [
      "Integrating for 365 steps, 365.2422 days, or 1 years.\n",
      "Total elapsed time is 0.999336878378 years.\n"
     ]
    }
   ],
   "source": [
    "ebm.integrate_years(1)"
   ]
  },
  {
   "cell_type": "code",
   "execution_count": 6,
   "metadata": {
    "collapsed": false
   },
   "outputs": [
    {
     "data": {
      "text/plain": [
       "[<matplotlib.lines.Line2D at 0x1111b0090>]"
      ]
     },
     "execution_count": 6,
     "metadata": {},
     "output_type": "execute_result"
    },
    {
     "data": {
      "image/png": "[encoded data removed]",
      "text/plain": [
       "<matplotlib.figure.Figure at 0x105dd23d0>"
      ]
     },
     "metadata": {},
     "output_type": "display_data"
    }
   ],
   "source": [
    "plt.plot(ebm.lat, ebm.Ts)\n",
    "plt.plot(ebm.lat, ebm.Tatm)"
   ]
  },
  {
   "cell_type": "code",
   "execution_count": null,
   "metadata": {
    "collapsed": true
   },
   "outputs": [],
   "source": []
  },
  {
   "cell_type": "markdown",
   "metadata": {},
   "source": [
    "## A column model approach"
   ]
  },
  {
   "cell_type": "code",
   "execution_count": 7,
   "metadata": {
    "collapsed": false
   },
   "outputs": [
    {
     "name": "stdout",
     "output_type": "stream",
     "text": [
      "climlab Process of type <class 'climlab.model.column.GreyRadiationModel'>. \n",
      "State variables and domain shapes: \n",
      "  Tatm: (90, 30) \n",
      "  Ts: (90, 1) \n",
      "The subprocess tree: \n",
      "top: <class 'climlab.model.column.GreyRadiationModel'>\n",
      "   LW: <class 'climlab.radiation.radiation.Radiation'>\n",
      "   SW: <class 'climlab.radiation.radiation.RadiationSW'>\n",
      "   surface: <class 'climlab.surface.surface_radiation.SurfaceRadiation'>\n",
      "   insolation: <class 'climlab.radiation.insolation.AnnualMeanInsolation'>\n",
      "\n"
     ]
    }
   ],
   "source": [
    "model = climlab.GreyRadiationModel(num_lev=30, num_lat=90, abs_coeff=1.6E-4)\n",
    "insolation = climlab.radiation.insolation.AnnualMeanInsolation(domains=model.Ts.domain)\n",
    "model.add_subprocess('insolation', insolation)\n",
    "print model"
   ]
  },
  {
   "cell_type": "code",
   "execution_count": 8,
   "metadata": {
    "collapsed": true
   },
   "outputs": [],
   "source": [
    "#  Convective adjustment for atmosphere only\n",
    "conv = climlab.convection.convadj.ConvectiveAdjustment(state={'Tatm':model.state['Tatm']}, adj_lapse_rate=6.5,\n",
    "                                                       **model.param)\n",
    "model.add_subprocess('convective adjustment', conv)"
   ]
  },
  {
   "cell_type": "code",
   "execution_count": 9,
   "metadata": {
    "collapsed": false
   },
   "outputs": [],
   "source": [
    "#  add a fixed relative humidity process\n",
    "#  (will only affect surface evaporation)\n",
    "q = np.zeros_like(model.Tatm)\n",
    "model.set_state('q', q)\n",
    "h2o = climlab.radiation.water_vapor.FixedRelativeHumidity(state=model.state, **model.param)\n",
    "model.add_subprocess('H2O', h2o)"
   ]
  },
  {
   "cell_type": "code",
   "execution_count": 10,
   "metadata": {
    "collapsed": true
   },
   "outputs": [],
   "source": [
    "#  Add surface heat fluxes\n",
    "from climlab.surface.turbulent import SensibleHeatFlux, LatentHeatFlux\n",
    "shf = SensibleHeatFlux(state=model.state, Cd=1E-3)\n",
    "lhf = LatentHeatFlux(state=model.state, Cd=1E-3)\n",
    "model.add_subprocess('SHF', shf)\n",
    "model.add_subprocess('LHF', lhf)"
   ]
  },
  {
   "cell_type": "code",
   "execution_count": 11,
   "metadata": {
    "collapsed": false
   },
   "outputs": [
    {
     "name": "stdout",
     "output_type": "stream",
     "text": [
      "Integrating for 730 steps, 730.4844 days, or 2.0 years.\n",
      "Total elapsed time is 1.99867375676 years.\n"
     ]
    }
   ],
   "source": [
    "model.integrate_years(2.)"
   ]
  },
  {
   "cell_type": "code",
   "execution_count": 12,
   "metadata": {
    "collapsed": true
   },
   "outputs": [],
   "source": [
    "def plot_temp_section(model, timeave=True):\n",
    "    fig = plt.figure()\n",
    "    ax = fig.add_subplot(111)\n",
    "    if timeave:\n",
    "        field = model.timeave['Tatm'].transpose()\n",
    "    else:\n",
    "        field = model.Tatm.transpose()\n",
    "    cax = ax.contourf(model.lat, model.lev, field)\n",
    "    ax.invert_yaxis()\n",
    "    ax.set_xlim(-90,90)\n",
    "    ax.set_xticks([-90, -60, -30, 0, 30, 60, 90])\n",
    "    fig.colorbar(cax)"
   ]
  },
  {
   "cell_type": "code",
   "execution_count": 13,
   "metadata": {
    "collapsed": false
   },
   "outputs": [
    {
     "data": {
      "image/png": "[encoded data removed]",
      "text/plain": [
       "<matplotlib.figure.Figure at 0x1059c4d50>"
      ]
     },
     "metadata": {},
     "output_type": "display_data"
    }
   ],
   "source": [
    "plot_temp_section(model, timeave=False)"
   ]
  },
  {
   "cell_type": "code",
   "execution_count": 14,
   "metadata": {
    "collapsed": true
   },
   "outputs": [],
   "source": [
    "co2model = climlab.process_like(model)\n",
    "co2model.subprocess['LW'].absorptivity = model.subprocess['LW'].absorptivity*1.1"
   ]
  },
  {
   "cell_type": "code",
   "execution_count": 15,
   "metadata": {
    "collapsed": false
   },
   "outputs": [
    {
     "name": "stdout",
     "output_type": "stream",
     "text": [
      "Integrating for 730 steps, 730.4844 days, or 2 years.\n",
      "Total elapsed time is 3.99734751351 years.\n"
     ]
    }
   ],
   "source": [
    "co2model.integrate_years(2)"
   ]
  },
  {
   "cell_type": "code",
   "execution_count": 16,
   "metadata": {
    "collapsed": false
   },
   "outputs": [
    {
     "data": {
      "image/png": "[encoded data removed]",
      "text/plain": [
       "<matplotlib.figure.Figure at 0x110f42e50>"
      ]
     },
     "metadata": {},
     "output_type": "display_data"
    }
   ],
   "source": [
    "plot_temp_section(co2model, timeave=False)"
   ]
  },
  {
   "cell_type": "code",
   "execution_count": 17,
   "metadata": {
    "collapsed": false
   },
   "outputs": [
    {
     "data": {
      "text/plain": [
       "[<matplotlib.lines.Line2D at 0x113219190>]"
      ]
     },
     "execution_count": 17,
     "metadata": {},
     "output_type": "execute_result"
    },
    {
     "data": {
      "image/png": "[encoded data removed]",
      "text/plain": [
       "<matplotlib.figure.Figure at 0x113206fd0>"
      ]
     },
     "metadata": {},
     "output_type": "display_data"
    }
   ],
   "source": [
    "#  Without transport, get equatorial amplification\n",
    "plt.plot(model.lat, co2model.Ts - model.Ts)\n",
    "plt.plot(model.lat, co2model.Tatm[:,0] - model.Tatm[:,0])"
   ]
  },
  {
   "cell_type": "markdown",
   "metadata": {},
   "source": [
    "##  Now with meridional heat tranpsort!"
   ]
  },
  {
   "cell_type": "code",
   "execution_count": 18,
   "metadata": {
    "collapsed": true
   },
   "outputs": [],
   "source": [
    "diffmodel = climlab.process_like(model)"
   ]
  },
  {
   "cell_type": "code",
   "execution_count": 19,
   "metadata": {
    "collapsed": false
   },
   "outputs": [
    {
     "name": "stdout",
     "output_type": "stream",
     "text": [
      "1.46414342629e-07\n"
     ]
    }
   ],
   "source": [
    "# thermal diffusivity in W/m**2/degC\n",
    "D = 0.05\n",
    "# meridional diffusivity in 1/s\n",
    "K = D / diffmodel.Tatm.domain.heat_capacity[0]\n",
    "print K"
   ]
  },
  {
   "cell_type": "code",
   "execution_count": 20,
   "metadata": {
    "collapsed": false
   },
   "outputs": [
    {
     "name": "stdout",
     "output_type": "stream",
     "text": [
      "climlab Process of type <class 'climlab.model.column.GreyRadiationModel'>. \n",
      "State variables and domain shapes: \n",
      "  Tatm: (90, 30) \n",
      "  q: (90, 30) \n",
      "  Ts: (90, 1) \n",
      "The subprocess tree: \n",
      "top: <class 'climlab.model.column.GreyRadiationModel'>\n",
      "   diffusion: <class 'climlab.dynamics.diffusion.MeridionalDiffusion'>\n",
      "   LHF: <class 'climlab.surface.turbulent.LatentHeatFlux'>\n",
      "   SW: <class 'climlab.radiation.radiation.RadiationSW'>\n",
      "   surface: <class 'climlab.surface.surface_radiation.SurfaceRadiation'>\n",
      "   LW: <class 'climlab.radiation.radiation.Radiation'>\n",
      "   H2O: <class 'climlab.radiation.water_vapor.FixedRelativeHumidity'>\n",
      "   SHF: <class 'climlab.surface.turbulent.SensibleHeatFlux'>\n",
      "   convective adjustment: <class 'climlab.convection.convadj.ConvectiveAdjustment'>\n",
      "   insolation: <class 'climlab.radiation.insolation.AnnualMeanInsolation'>\n",
      "\n"
     ]
    }
   ],
   "source": [
    "d = climlab.dynamics.diffusion.MeridionalDiffusion(K=K, state=diffmodel.state['Tatm'], **diffmodel.param)\n",
    "diffmodel.add_subprocess('diffusion', d)\n",
    "print diffmodel"
   ]
  },
  {
   "cell_type": "code",
   "execution_count": 21,
   "metadata": {
    "collapsed": false
   },
   "outputs": [
    {
     "name": "stdout",
     "output_type": "stream",
     "text": [
      "Integrating for 730 steps, 730.4844 days, or 2 years.\n",
      "Total elapsed time is 3.99734751351 years.\n"
     ]
    }
   ],
   "source": [
    "diffmodel.integrate_years(2)"
   ]
  },
  {
   "cell_type": "code",
   "execution_count": 22,
   "metadata": {
    "collapsed": false
   },
   "outputs": [
    {
     "data": {
      "image/png": "[encoded data removed]",
      "text/plain": [
       "<matplotlib.figure.Figure at 0x1132d7b10>"
      ]
     },
     "metadata": {},
     "output_type": "display_data"
    }
   ],
   "source": [
    "plot_temp_section(diffmodel)"
   ]
  },
  {
   "cell_type": "code",
   "execution_count": 23,
   "metadata": {
    "collapsed": false
   },
   "outputs": [],
   "source": [
    "def inferred_heat_transport( energy_in, lat_deg ):\n",
    "    '''Returns the inferred heat transport (in PW) by integrating the net energy imbalance from pole to pole.'''\n",
    "    from scipy import integrate\n",
    "    from climlab import constants as const\n",
    "    lat_rad = np.deg2rad( lat_deg )\n",
    "    return ( 1E-15 * 2 * np.math.pi * const.a**2 * integrate.cumtrapz( np.cos(lat_rad)*energy_in,\n",
    "            x=lat_rad, initial=0. ) )"
   ]
  },
  {
   "cell_type": "code",
   "execution_count": 24,
   "metadata": {
    "collapsed": false
   },
   "outputs": [
    {
     "data": {
      "text/plain": [
       "[<matplotlib.lines.Line2D at 0x112721dd0>]"
      ]
     },
     "execution_count": 24,
     "metadata": {},
     "output_type": "execute_result"
    },
    {
     "data": {
      "image/png": "[encoded data removed]",
      "text/plain": [
       "<matplotlib.figure.Figure at 0x1132ec590>"
      ]
     },
     "metadata": {},
     "output_type": "display_data"
    }
   ],
   "source": [
    "#  Plot the northward heat transport in this model\n",
    "Rtoa = np.squeeze(diffmodel.timeave['ASR'] - diffmodel.timeave['OLR'])\n",
    "plt.plot(diffmodel.lat, inferred_heat_transport(Rtoa, diffmodel.lat))"
   ]
  },
  {
   "cell_type": "code",
   "execution_count": 25,
   "metadata": {
    "collapsed": true
   },
   "outputs": [],
   "source": [
    "##  Now warm it up!\n",
    "co2diffmodel = climlab.process_like(diffmodel)\n",
    "co2diffmodel.subprocess['LW'].absorptivity = diffmodel.subprocess['LW'].absorptivity*1.1"
   ]
  },
  {
   "cell_type": "code",
   "execution_count": 26,
   "metadata": {
    "collapsed": false
   },
   "outputs": [
    {
     "name": "stdout",
     "output_type": "stream",
     "text": [
      "Integrating for 730 steps, 730.4844 days, or 2 years.\n",
      "Total elapsed time is 5.99602127027 years.\n"
     ]
    }
   ],
   "source": [
    "co2diffmodel.integrate_years(2)"
   ]
  },
  {
   "cell_type": "code",
   "execution_count": 27,
   "metadata": {
    "collapsed": false
   },
   "outputs": [
    {
     "data": {
      "text/plain": [
       "[<matplotlib.lines.Line2D at 0x112c4f990>]"
      ]
     },
     "execution_count": 27,
     "metadata": {},
     "output_type": "execute_result"
    },
    {
     "data": {
      "image/png": "[encoded data removed]",
      "text/plain": [
       "<matplotlib.figure.Figure at 0x112714dd0>"
      ]
     },
     "metadata": {},
     "output_type": "display_data"
    }
   ],
   "source": [
    "#  Without transport, get polar amplification...\n",
    "#   of surface temperature, but not of air temperature!\n",
    "plt.plot(diffmodel.lat, co2diffmodel.Ts - diffmodel.Ts)\n",
    "plt.plot(diffmodel.lat, co2diffmodel.Tatm[:,0] - diffmodel.Tatm[:,0])"
   ]
  },
  {
   "cell_type": "code",
   "execution_count": 28,
   "metadata": {
    "collapsed": false
   },
   "outputs": [
    {
     "data": {
      "text/plain": [
       "[<matplotlib.lines.Line2D at 0x112fd1550>]"
      ]
     },
     "execution_count": 28,
     "metadata": {},
     "output_type": "execute_result"
    },
    {
     "data": {
      "image/png": "[encoded data removed]",
      "text/plain": [
       "<matplotlib.figure.Figure at 0x112fd16d0>"
      ]
     },
     "metadata": {},
     "output_type": "display_data"
    }
   ],
   "source": [
    "Rtoa = np.squeeze(diffmodel.timeave['ASR'] - diffmodel.timeave['OLR'])\n",
    "Rtoa_co2 = np.squeeze(co2diffmodel.timeave['ASR'] - co2diffmodel.timeave['OLR'])\n",
    "plt.plot(diffmodel.lat, inferred_heat_transport(Rtoa, diffmodel.lat))\n",
    "plt.plot(diffmodel.lat, inferred_heat_transport(Rtoa_co2, diffmodel.lat))"
   ]
  },
  {
   "cell_type": "markdown",
   "metadata": {},
   "source": [
    "## Same thing but with NO EVAPORATION\n"
   ]
  },
  {
   "cell_type": "code",
   "execution_count": 29,
   "metadata": {
    "collapsed": false
   },
   "outputs": [
    {
     "name": "stdout",
     "output_type": "stream",
     "text": [
      "climlab Process of type <class 'climlab.model.column.GreyRadiationModel'>. \n",
      "State variables and domain shapes: \n",
      "  Tatm: (90, 30) \n",
      "  q: (90, 30) \n",
      "  Ts: (90, 1) \n",
      "The subprocess tree: \n",
      "top: <class 'climlab.model.column.GreyRadiationModel'>\n",
      "   diffusion: <class 'climlab.dynamics.diffusion.MeridionalDiffusion'>\n",
      "   SW: <class 'climlab.radiation.radiation.RadiationSW'>\n",
      "   surface: <class 'climlab.surface.surface_radiation.SurfaceRadiation'>\n",
      "   LW: <class 'climlab.radiation.radiation.Radiation'>\n",
      "   H2O: <class 'climlab.radiation.water_vapor.FixedRelativeHumidity'>\n",
      "   SHF: <class 'climlab.surface.turbulent.SensibleHeatFlux'>\n",
      "   convective adjustment: <class 'climlab.convection.convadj.ConvectiveAdjustment'>\n",
      "   insolation: <class 'climlab.radiation.insolation.AnnualMeanInsolation'>\n",
      "\n"
     ]
    }
   ],
   "source": [
    "diffmodel2 = climlab.process_like(diffmodel)\n",
    "diffmodel2.remove_subprocess('LHF')\n",
    "print diffmodel2"
   ]
  },
  {
   "cell_type": "code",
   "execution_count": 30,
   "metadata": {
    "collapsed": false
   },
   "outputs": [
    {
     "name": "stdout",
     "output_type": "stream",
     "text": [
      "Integrating for 730 steps, 730.4844 days, or 2 years.\n",
      "Total elapsed time is 5.99602127027 years.\n"
     ]
    }
   ],
   "source": [
    "diffmodel2.integrate_years(2)"
   ]
  },
  {
   "cell_type": "code",
   "execution_count": 31,
   "metadata": {
    "collapsed": false
   },
   "outputs": [
    {
     "name": "stdout",
     "output_type": "stream",
     "text": [
      "Integrating for 730 steps, 730.4844 days, or 2 years.\n",
      "Total elapsed time is 7.99469502703 years.\n"
     ]
    }
   ],
   "source": [
    "co2diffmodel2 = climlab.process_like(co2diffmodel)\n",
    "co2diffmodel2.remove_subprocess('LHF')\n",
    "co2diffmodel2.integrate_years(2)"
   ]
  },
  {
   "cell_type": "code",
   "execution_count": 32,
   "metadata": {
    "collapsed": false
   },
   "outputs": [
    {
     "data": {
      "text/plain": [
       "[<matplotlib.lines.Line2D at 0x1126e86d0>]"
      ]
     },
     "execution_count": 32,
     "metadata": {},
     "output_type": "execute_result"
    },
    {
     "data": {
      "image/png": "[encoded data removed]",
      "text/plain": [
       "<matplotlib.figure.Figure at 0x1126e8710>"
      ]
     },
     "metadata": {},
     "output_type": "display_data"
    }
   ],
   "source": [
    "#  Without transport, get polar amplification...\n",
    "#   of surface temperature, but not of air temperature!\n",
    "plt.plot(diffmodel2.lat, co2diffmodel2.Ts - diffmodel2.Ts)\n",
    "plt.plot(diffmodel2.lat, co2diffmodel2.Tatm[:,0] - diffmodel2.Tatm[:,0])"
   ]
  },
  {
   "cell_type": "code",
   "execution_count": 33,
   "metadata": {
    "collapsed": false
   },
   "outputs": [
    {
     "data": {
      "text/plain": [
       "[<matplotlib.lines.Line2D at 0x112fd1d10>]"
      ]
     },
     "execution_count": 33,
     "metadata": {},
     "output_type": "execute_result"
    },
    {
     "data": {
      "image/png": "[encoded data removed]",
      "text/plain": [
       "<matplotlib.figure.Figure at 0x11264cd50>"
      ]
     },
     "metadata": {},
     "output_type": "display_data"
    }
   ],
   "source": [
    "Rtoa = np.squeeze(diffmodel2.timeave['ASR'] - diffmodel2.timeave['OLR'])\n",
    "Rtoa_co2 = np.squeeze(co2diffmodel2.timeave['ASR'] - co2diffmodel2.timeave['OLR'])\n",
    "plt.plot(diffmodel2.lat, inferred_heat_transport(Rtoa, diffmodel2.lat))\n",
    "plt.plot(diffmodel2.lat, inferred_heat_transport(Rtoa_co2, diffmodel2.lat))"
   ]
  },
  {
   "cell_type": "code",
   "execution_count": null,
   "metadata": {
    "collapsed": true
   },
   "outputs": [],
   "source": []
  },
  {
   "cell_type": "markdown",
   "metadata": {},
   "source": [
    "## Some stuff with Band models"
   ]
  },
  {
   "cell_type": "code",
   "execution_count": 49,
   "metadata": {
    "collapsed": true
   },
   "outputs": [],
   "source": [
    "#  Put in some ozone\n",
    "import netCDF4 as nc\n",
    "\n",
    "datapath = \"http://ramadda.atmos.albany.edu:8080/repository/opendap/latest/Top/Users/Brian+Rose/CESM+runs/\"\n",
    "endstr = \"/entry.das\"\n",
    "\n",
    "topo = nc.Dataset( datapath + 'som_input/USGS-gtopo30_1.9x2.5_remap_c050602.nc' + endstr )\n",
    "ozone = nc.Dataset( datapath + 'som_input/ozone_1.9x2.5_L26_2000clim_c091112.nc' + endstr )\n",
    "\n",
    "#  Dimensions of the ozone file\n",
    "lat = ozone.variables['lat'][:]\n",
    "lon = ozone.variables['lon'][:]\n",
    "lev = ozone.variables['lev'][:]\n",
    "\n",
    "# Taking annual, zonal average of the ozone data\n",
    "O3_zon = np.mean( ozone.variables['O3'],axis=(0,3) )"
   ]
  },
  {
   "cell_type": "code",
   "execution_count": 50,
   "metadata": {
    "collapsed": false
   },
   "outputs": [
    {
     "name": "stdout",
     "output_type": "stream",
     "text": [
      "climlab Process of type <class 'climlab.model.column.BandRCModel'>. \n",
      "State variables and domain shapes: \n",
      "  Tatm: (96, 26) \n",
      "  q: (96, 26) \n",
      "  Ts: (96, 1) \n",
      "The subprocess tree: \n",
      "top: <class 'climlab.model.column.BandRCModel'>\n",
      "   LW: <class 'climlab.radiation.nband.FourBandLW'>\n",
      "   H2O: <class 'climlab.radiation.water_vapor.ManabeWaterVapor'>\n",
      "   insolation: <class 'climlab.radiation.insolation.DailyInsolation'>\n",
      "   convective adjustment: <class 'climlab.convection.convadj.ConvectiveAdjustment'>\n",
      "   SW: <class 'climlab.radiation.nband.ThreeBandSW'>\n",
      "   surface: <class 'climlab.surface.surface_radiation.SurfaceRadiation'>\n",
      "\n"
     ]
    }
   ],
   "source": [
    "#  make a model on the same grid as the ozone\n",
    "model1 = climlab.BandRCModel(lev=lev, lat=lat)\n",
    "insolation = climlab.radiation.insolation.DailyInsolation(domains=model1.Ts.domain)\n",
    "model1.add_subprocess('insolation', insolation)\n",
    "print model1"
   ]
  },
  {
   "cell_type": "code",
   "execution_count": 51,
   "metadata": {
    "collapsed": true
   },
   "outputs": [],
   "source": [
    "#  Set the ozone mixing ratio\n",
    "#   IMPORTANT: we need to flip the ozone array around because the vertical coordinate runs the wrong way\n",
    "#   (first element is top of atmosphere, whereas our model expects the first element to be just above the surface)\n",
    "O3_trans = np.transpose(O3_zon)\n",
    "O3_flipped = np.fliplr(O3_trans)\n",
    "# Put in the ozone\n",
    "model1.absorber_vmr['O3'] = O3_flipped"
   ]
  },
  {
   "cell_type": "code",
   "execution_count": 52,
   "metadata": {
    "collapsed": false
   },
   "outputs": [],
   "source": [
    "#  Convective adjustment for atmosphere only\n",
    "\n",
    "model1.remove_subprocess('convective adjustment')\n",
    "\n",
    "conv = climlab.convection.convadj.ConvectiveAdjustment(state={'Tatm':model1.state['Tatm']}, **model1.param)\n",
    "model1.add_subprocess('convective adjustment', conv)"
   ]
  },
  {
   "cell_type": "code",
   "execution_count": 53,
   "metadata": {
    "collapsed": false
   },
   "outputs": [],
   "source": [
    "#  Add surface heat fluxes\n",
    "from climlab.surface.turbulent import SensibleHeatFlux, LatentHeatFlux\n",
    "shf = SensibleHeatFlux(state=model1.state)\n",
    "lhf = LatentHeatFlux(state=model1.state)\n",
    "model1.add_subprocess('SHF', shf)\n",
    "model1.add_subprocess('LHF', lhf)\n"
   ]
  },
  {
   "cell_type": "code",
   "execution_count": 54,
   "metadata": {
    "collapsed": true
   },
   "outputs": [],
   "source": [
    "model1.step_forward()"
   ]
  },
  {
   "cell_type": "code",
   "execution_count": 24,
   "metadata": {
    "collapsed": false
   },
   "outputs": [
    {
     "name": "stdout",
     "output_type": "stream",
     "text": [
      "Integrating for 365 steps, 365.2422 days, or 1.0 years.\n",
      "Total elapsed time is 0.999336878378 years.\n"
     ]
    },
    {
     "name": "stderr",
     "output_type": "stream",
     "text": [
      "/Users/Brian/climlab/climlab/model/column.py:149: RuntimeWarning: divide by zero encountered in divide\n",
      "  SW.flux_from_space)\n"
     ]
    }
   ],
   "source": [
    "model1.integrate_years(1.)"
   ]
  },
  {
   "cell_type": "code",
   "execution_count": 25,
   "metadata": {
    "collapsed": false
   },
   "outputs": [
    {
     "name": "stdout",
     "output_type": "stream",
     "text": [
      "Integrating for 365 steps, 365.2422 days, or 1.0 years.\n",
      "Total elapsed time is 1.99867375676 years.\n"
     ]
    }
   ],
   "source": [
    "model1.integrate_years(1.)"
   ]
  },
  {
   "cell_type": "code",
   "execution_count": 79,
   "metadata": {
    "collapsed": false
   },
   "outputs": [
    {
     "data": {
      "image/png": "[encoded data removed]",
      "text/plain": [
       "<matplotlib.figure.Figure at 0x1120bdbd0>"
      ]
     },
     "metadata": {},
     "output_type": "display_data"
    }
   ],
   "source": [
    "plot_temp_section(model1, timeave=False)"
   ]
  },
  {
   "cell_type": "code",
   "execution_count": 29,
   "metadata": {
    "collapsed": false
   },
   "outputs": [
    {
     "data": {
      "text/plain": [
       "['Tatm',\n",
       " 'LHF',\n",
       " 'SW_absorbed_sfc',\n",
       " 'planetary_albedo',\n",
       " 'LW_absorbed_sfc',\n",
       " 'Ts',\n",
       " 'SHF',\n",
       " 'SW_emission',\n",
       " 'insolation',\n",
       " 'SW_absorbed_total',\n",
       " 'ASR',\n",
       " 'SW_up_TOA',\n",
       " 'LW_up_sfc',\n",
       " 'SW_up_sfc',\n",
       " 'q',\n",
       " 'LW_absorbed_atm',\n",
       " 'OLR',\n",
       " 'LW_down_sfc',\n",
       " 'SW_absorbed_atm',\n",
       " 'LW_emission',\n",
       " 'SW_down_sfc',\n",
       " 'SW_down_TOA']"
      ]
     },
     "execution_count": 29,
     "metadata": {},
     "output_type": "execute_result"
    }
   ],
   "source": [
    "model1.timeave.keys()"
   ]
  },
  {
   "cell_type": "code",
   "execution_count": 31,
   "metadata": {
    "collapsed": false
   },
   "outputs": [
    {
     "data": {
      "text/plain": [
       "Field([[   26.30517963],\n",
       "       [   26.28465924],\n",
       "       [   26.23792213],\n",
       "       [   26.1901721 ],\n",
       "       [   26.1916679 ],\n",
       "       [   26.22712437],\n",
       "       [   26.35322531],\n",
       "       [   26.48843325],\n",
       "       [   26.74256667],\n",
       "       [   27.12920833],\n",
       "       [   27.72329484],\n",
       "       [   28.61379523],\n",
       "       [   29.961659  ],\n",
       "       [   32.19981037],\n",
       "       [   35.24305027],\n",
       "       [   38.78653632],\n",
       "       [   42.28917319],\n",
       "       [   45.22395792],\n",
       "       [   47.06048398],\n",
       "       [   45.17105628],\n",
       "       [   39.04351694],\n",
       "       [   27.65278057],\n",
       "       [   10.28132132],\n",
       "       [  -16.76410392],\n",
       "       [  -54.84929245],\n",
       "       [ -107.11890809],\n",
       "       [ -177.45833671],\n",
       "       [ -269.54004162],\n",
       "       [ -382.27682374],\n",
       "       [ -510.21408437],\n",
       "       [ -650.34568655],\n",
       "       [ -798.06007793],\n",
       "       [ -945.26770955],\n",
       "       [-1088.11276215],\n",
       "       [-1227.41179701],\n",
       "       [-1355.62170781],\n",
       "       [-1473.17799723],\n",
       "       [-1584.42038933],\n",
       "       [-1690.04685259],\n",
       "       [-1798.05370571],\n",
       "       [-1947.08390963],\n",
       "       [-2231.44447243],\n",
       "       [-2793.66783098],\n",
       "       [-3585.00058669],\n",
       "       [-4162.08559703],\n",
       "       [-4498.02661171],\n",
       "       [-4616.45307153],\n",
       "       [-4644.87806864],\n",
       "       [-4495.35426844],\n",
       "       [-4346.43441303],\n",
       "       [-4166.56811761],\n",
       "       [-3864.32782413],\n",
       "       [-3462.48293813],\n",
       "       [-2880.24732927],\n",
       "       [-2233.24518568],\n",
       "       [-1722.0379653 ],\n",
       "       [-1320.78664147],\n",
       "       [-1011.61921325],\n",
       "       [ -774.19090597],\n",
       "       [ -600.02833267],\n",
       "       [ -461.44075456],\n",
       "       [ -353.20058517],\n",
       "       [ -262.3800544 ],\n",
       "       [ -188.72373024],\n",
       "       [ -130.07744788],\n",
       "       [  -80.45999726],\n",
       "       [  -41.13001297],\n",
       "       [   -9.50524671],\n",
       "       [   14.68352392],\n",
       "       [   32.53996095],\n",
       "       [   45.30638192],\n",
       "       [   53.02244748],\n",
       "       [   57.13702486],\n",
       "       [   58.35666034],\n",
       "       [   56.24941138],\n",
       "       [   52.70294864],\n",
       "       [   48.71318596],\n",
       "       [   44.2516366 ],\n",
       "       [   40.0294696 ],\n",
       "       [   36.10026701],\n",
       "       [   32.52066958],\n",
       "       [   29.33753746],\n",
       "       [   26.64860526],\n",
       "       [   24.71377794],\n",
       "       [   23.58796521],\n",
       "       [   22.84908855],\n",
       "       [   22.3797181 ],\n",
       "       [   22.09013653],\n",
       "       [   21.93305078],\n",
       "       [   21.85235751],\n",
       "       [   21.80977805],\n",
       "       [   21.80141815],\n",
       "       [   21.84583555],\n",
       "       [   21.84529206],\n",
       "       [   21.88629462],\n",
       "       [   21.90228193]])"
      ]
     },
     "execution_count": 31,
     "metadata": {},
     "output_type": "execute_result"
    }
   ],
   "source": [
    "model1.timeave['LHF']"
   ]
  },
  {
   "cell_type": "code",
   "execution_count": 55,
   "metadata": {
    "collapsed": false
   },
   "outputs": [
    {
     "data": {
      "text/plain": [
       "Field([[ 283.98392693,  282.77475573,  280.46633718, ...,  206.81777955,\n",
       "         204.30514326,  209.11536999],\n",
       "       [ 283.98381433,  282.77464361,  280.46622598, ...,  206.81808966,\n",
       "         204.30421479,  209.11306154],\n",
       "       [ 283.9834775 ,  282.77430821,  280.46589332, ...,  206.81912168,\n",
       "         204.30096755,  209.10806773],\n",
       "       ..., \n",
       "       [ 283.78858694,  282.58024748,  280.2734168 , ...,  205.93743485,\n",
       "         202.8379069 ,  199.734991  ],\n",
       "       [ 283.78858898,  282.5802495 ,  280.2734188 , ...,  205.93806238,\n",
       "         202.83864966,  199.73548038],\n",
       "       [ 283.7885909 ,  282.58025141,  280.2734207 , ...,  205.93825792,\n",
       "         202.83884801,  199.73557495]])"
      ]
     },
     "execution_count": 55,
     "metadata": {},
     "output_type": "execute_result"
    }
   ],
   "source": [
    "model1.Tatm"
   ]
  },
  {
   "cell_type": "code",
   "execution_count": 56,
   "metadata": {
    "collapsed": false
   },
   "outputs": [
    {
     "data": {
      "text/plain": [
       "Field([[ 269.79348289],\n",
       "       [ 269.79348289],\n",
       "       [ 269.79348289],\n",
       "       [ 269.79348289],\n",
       "       [ 269.79348289],\n",
       "       [ 269.79348289],\n",
       "       [ 269.79348289],\n",
       "       [ 269.79348289],\n",
       "       [ 269.79348289],\n",
       "       [ 269.79348289],\n",
       "       [ 269.79348289],\n",
       "       [ 269.79348289],\n",
       "       [ 269.79348289],\n",
       "       [ 269.79348289],\n",
       "       [ 269.79348289],\n",
       "       [ 269.79348289],\n",
       "       [ 269.79348289],\n",
       "       [ 269.79348289],\n",
       "       [ 269.79348289],\n",
       "       [ 269.79348289],\n",
       "       [ 269.79348289],\n",
       "       [ 269.79348289],\n",
       "       [ 269.79348289],\n",
       "       [ 269.79348289],\n",
       "       [ 269.79348289],\n",
       "       [ 269.79348289],\n",
       "       [ 269.79348289],\n",
       "       [ 269.79348289],\n",
       "       [ 269.79348289],\n",
       "       [ 269.79348289],\n",
       "       [ 269.79348289],\n",
       "       [ 269.79348289],\n",
       "       [ 269.79348289],\n",
       "       [ 269.79348289],\n",
       "       [ 269.79348289],\n",
       "       [ 269.79348289],\n",
       "       [ 269.79348289],\n",
       "       [ 269.79348289],\n",
       "       [ 269.79348289],\n",
       "       [ 269.79348289],\n",
       "       [ 269.79348289],\n",
       "       [ 269.79348289],\n",
       "       [ 269.79348289],\n",
       "       [ 269.79348289],\n",
       "       [ 269.79348289],\n",
       "       [ 269.79348289],\n",
       "       [ 269.79348289],\n",
       "       [ 269.79348289],\n",
       "       [ 269.79348289],\n",
       "       [ 269.79348289],\n",
       "       [ 269.79348289],\n",
       "       [ 269.79348289],\n",
       "       [ 269.79348289],\n",
       "       [ 269.79348289],\n",
       "       [ 269.79348289],\n",
       "       [ 269.79348289],\n",
       "       [ 269.79348289],\n",
       "       [ 269.79348289],\n",
       "       [ 269.79348289],\n",
       "       [ 269.79348289],\n",
       "       [ 269.79348289],\n",
       "       [ 269.79348289],\n",
       "       [ 269.79348289],\n",
       "       [ 269.79348289],\n",
       "       [ 269.79348289],\n",
       "       [ 269.79348289],\n",
       "       [ 269.79348289],\n",
       "       [ 269.79348289],\n",
       "       [ 269.79348289],\n",
       "       [ 269.79348289],\n",
       "       [ 269.79348289],\n",
       "       [ 269.79348289],\n",
       "       [ 269.79348289],\n",
       "       [ 269.79348289],\n",
       "       [ 269.79348289],\n",
       "       [ 269.79348289],\n",
       "       [ 269.79348289],\n",
       "       [ 269.79348289],\n",
       "       [ 269.79348289],\n",
       "       [ 269.79348289],\n",
       "       [ 269.79348289],\n",
       "       [ 269.79348289],\n",
       "       [ 269.79348289],\n",
       "       [ 269.79348289],\n",
       "       [ 269.79348289],\n",
       "       [ 269.79348289],\n",
       "       [ 269.79348289],\n",
       "       [ 269.79348289],\n",
       "       [ 269.79348289],\n",
       "       [ 269.79348289],\n",
       "       [ 269.79348289],\n",
       "       [ 269.79348289],\n",
       "       [ 269.79348289],\n",
       "       [ 269.79348289],\n",
       "       [ 269.79348289],\n",
       "       [ 269.79348289]])"
      ]
     },
     "execution_count": 56,
     "metadata": {},
     "output_type": "execute_result"
    }
   ],
   "source": [
    "model1.Ts"
   ]
  },
  {
   "cell_type": "code",
   "execution_count": null,
   "metadata": {
    "collapsed": true
   },
   "outputs": [],
   "source": []
  }
 ],
 "metadata": {
  "kernelspec": {
   "display_name": "Python 2",
   "language": "python",
   "name": "python2"
  },
  "language_info": {
   "codemirror_mode": {
    "name": "ipython",
    "version": 2
   },
   "file_extension": ".py",
   "mimetype": "text/x-python",
   "name": "python",
   "nbconvert_exporter": "python",
   "pygments_lexer": "ipython2",
   "version": "2.7.9"
  }
 },
 "nbformat": 4,
 "nbformat_minor": 0
}
