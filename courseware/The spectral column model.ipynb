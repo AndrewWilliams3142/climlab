{
 "metadata": {
  "name": "",
  "signature": "sha256:3535dbff5eaed7193829e3809826b1845610b145ff02e4e745c468ea09b2bac2"
 },
 "nbformat": 3,
 "nbformat_minor": 0,
 "worksheets": [
  {
   "cells": [
    {
     "cell_type": "heading",
     "level": 1,
     "metadata": {},
     "source": [
      "The spectral Column Model"
     ]
    },
    {
     "cell_type": "markdown",
     "metadata": {},
     "source": [
      "Here is a brief introduction to a new version of the Column Model that divides the spectrum into 6 distinct bands: three longwave and three shortwave.\n"
     ]
    },
    {
     "cell_type": "heading",
     "level": 3,
     "metadata": {},
     "source": [
      "About the spectra"
     ]
    },
    {
     "cell_type": "markdown",
     "metadata": {},
     "source": [
      "The shortwave is divided into three channels:\n",
      "\n",
      "- Channel 0 is the Hartley and Huggins band (extreme UV, 200 - 340 nm, 1% of total flux, strong ozone absorption)\n",
      "- Channel 1 is Chappuis band (450 - 800 nm, 27% of total flux, moderate ozone absorption)\n",
      "- Channel 2 is remaining radiation (72% of total flux, largely in the visible range, no ozone absorption)\n",
      "\n",
      "The longwave is divided into four bands:\n",
      "\n",
      "- Band 0 is the window region (between 8.5 and 11 $\\mu$m), 17% of total flux.\n",
      "- Band 1 is the CO2 absorption channel (the band of strong absorption by CO2 around 15 $\\mu$m), 15% of total flux\n",
      "- Band 2 is a weak water vapor absorption channel, 35% of total flux\n",
      "- Band 3 is a strong water vapor absorption channel, 33% of total flux\n",
      "\n",
      "The longwave decomposition is not as easily related to specific wavelengths, as in reality there is a lot of overlap between H$_2$O and CO$_2$ absorption features (as well as absorption by other greenhouse gases such as CH$_4$ and N$_2$O that we are not representing)."
     ]
    },
    {
     "cell_type": "heading",
     "level": 3,
     "metadata": {},
     "source": [
      "Example usage of the spectral model"
     ]
    },
    {
     "cell_type": "code",
     "collapsed": false,
     "input": [
      "%matplotlib inline\n",
      "import numpy as np\n",
      "import matplotlib.pyplot as plt\n",
      "import climlab\n",
      "from climlab import constants as const"
     ],
     "language": "python",
     "metadata": {},
     "outputs": [],
     "prompt_number": 1
    },
    {
     "cell_type": "markdown",
     "metadata": {},
     "source": [
      "First try a model with all default parameters. Usage is very similar to the familiar `RadiativeConvectiveModel`."
     ]
    },
    {
     "cell_type": "code",
     "collapsed": false,
     "input": [
      "col1 = climlab.BandRCModel()\n",
      "print col1"
     ],
     "language": "python",
     "metadata": {},
     "outputs": [
      {
       "output_type": "stream",
       "stream": "stdout",
       "text": [
        "climlab Process of type <class 'climlab.model.column.BandRCModel'>. \n",
        "State variables and domain shapes: \n",
        "  Tatm: (30,) \n",
        "  q: (30,) \n",
        "  Ts: (1,) \n",
        "The subprocess tree: \n",
        "top: <class 'climlab.model.column.BandRCModel'>\n",
        "   LW: <class 'climlab.radiation.nband.FourBandLW'>\n",
        "   H2O: <class 'climlab.radiation.water_vapor.ManabeWaterVapor'>\n",
        "   insolation: <class 'climlab.radiation.insolation.FixedInsolation'>\n",
        "   convective adjustment: <class 'climlab.convection.convadj.ConvectiveAdjustment'>\n",
        "   SW: <class 'climlab.radiation.nband.ThreeBandSW'>\n",
        "   surface: <class 'climlab.surface.surface_radiation.SurfaceRadiation'>\n",
        "\n"
       ]
      }
     ],
     "prompt_number": 2
    },
    {
     "cell_type": "markdown",
     "metadata": {},
     "source": [
      "Check out the list of subprocesses.\n",
      "\n",
      "We now have a process called `H2O`, in addition to things we've seen before.\n",
      "\n",
      "This model keeps track of water vapor. We see the specific humidity in the list of state variables:"
     ]
    },
    {
     "cell_type": "code",
     "collapsed": false,
     "input": [
      "col1.state"
     ],
     "language": "python",
     "metadata": {},
     "outputs": [
      {
       "metadata": {},
       "output_type": "pyout",
       "prompt_number": 3,
       "text": [
        "{'Tatm': Field([ 278.        ,  275.31034483,  272.62068966,  269.93103448,\n",
        "         267.24137931,  264.55172414,  261.86206897,  259.17241379,\n",
        "         256.48275862,  253.79310345,  251.10344828,  248.4137931 ,\n",
        "         245.72413793,  243.03448276,  240.34482759,  237.65517241,\n",
        "         234.96551724,  232.27586207,  229.5862069 ,  226.89655172,\n",
        "         224.20689655,  221.51724138,  218.82758621,  216.13793103,\n",
        "         213.44827586,  210.75862069,  208.06896552,  205.37931034,\n",
        "         202.68965517,  200.        ]),\n",
        " 'Ts': Field([ 288.]),\n",
        " 'q': Field([ 0.,  0.,  0.,  0.,  0.,  0.,  0.,  0.,  0.,  0.,  0.,  0.,  0.,\n",
        "         0.,  0.,  0.,  0.,  0.,  0.,  0.,  0.,  0.,  0.,  0.,  0.,  0.,\n",
        "         0.,  0.,  0.,  0.])}"
       ]
      }
     ],
     "prompt_number": 3
    },
    {
     "cell_type": "markdown",
     "metadata": {},
     "source": [
      "The water vapor field is initialized to zero. The `H2O` process will set the specific humidity field at every timestep to a specified profile. More on that below. For now, let's compute a radiative equilibrium state."
     ]
    },
    {
     "cell_type": "code",
     "collapsed": false,
     "input": [
      "col1.integrate_years(2)"
     ],
     "language": "python",
     "metadata": {},
     "outputs": [
      {
       "output_type": "stream",
       "stream": "stdout",
       "text": [
        "Integrating for 730 steps, 730.4844 days, or 2 years.\n",
        "Total elapsed time is 1.99867375676 years."
       ]
      },
      {
       "output_type": "stream",
       "stream": "stdout",
       "text": [
        "\n"
       ]
      }
     ],
     "prompt_number": 4
    },
    {
     "cell_type": "code",
     "collapsed": false,
     "input": [
      "col1.diagnostics['ASR'] - col1.diagnostics['OLR']"
     ],
     "language": "python",
     "metadata": {},
     "outputs": [
      {
       "metadata": {},
       "output_type": "pyout",
       "prompt_number": 5,
       "text": [
        "Field([ 0.02990054])"
       ]
      }
     ],
     "prompt_number": 5
    },
    {
     "cell_type": "code",
     "collapsed": false,
     "input": [
      "fig = plt.figure()\n",
      "ax = fig.add_subplot(111)\n",
      "ax.plot( col1.Tatm, col1.lev, 'c-', label='default' )\n",
      "ax.plot( col1.Ts, climlab.constants.ps, 'co', markersize=16 )\n",
      "ax.invert_yaxis()\n",
      "ax.set_xlabel('Temperature (K)', fontsize=16)\n",
      "ax.set_ylabel('Pressure (hPa)', fontsize=16 )\n",
      "ax.set_title('Temperature profiles', fontsize = 18)\n",
      "ax.grid()"
     ],
     "language": "python",
     "metadata": {},
     "outputs": [
      {
       "metadata": {},
       "output_type": "display_data",
       "png": "[encoded data removed]",
       "text": [
        "<matplotlib.figure.Figure at 0x10cfa9090>"
       ]
      }
     ],
     "prompt_number": 6
    },
    {
     "cell_type": "markdown",
     "metadata": {},
     "source": [
      "By default this model has convective adjustment.  We can set the adjusted lapse rate by passing a parameter when we create the model.\n",
      "\n",
      "The model currently has no ozone (so there is no stratosphere). Not very realistic!\n"
     ]
    },
    {
     "cell_type": "markdown",
     "metadata": {},
     "source": [
      "More reasonable-looking troposphere, but still no stratosphere."
     ]
    },
    {
     "cell_type": "heading",
     "level": 3,
     "metadata": {},
     "source": [
      "About the radiatively active gases"
     ]
    },
    {
     "cell_type": "markdown",
     "metadata": {},
     "source": [
      "The SW model is aware of three different absorbing gases: O3 (ozone), CO2, and H2O (water vapor). The abundances of these gases are stored in a dictionary of arrays as follows:"
     ]
    },
    {
     "cell_type": "code",
     "collapsed": false,
     "input": [
      "col1.subprocess['SW'].absorber_vmr"
     ],
     "language": "python",
     "metadata": {},
     "outputs": [
      {
       "metadata": {},
       "output_type": "pyout",
       "prompt_number": 7,
       "text": [
        "{'CO2': Field([ 0.00038,  0.00038,  0.00038,  0.00038,  0.00038,  0.00038,\n",
        "         0.00038,  0.00038,  0.00038,  0.00038,  0.00038,  0.00038,\n",
        "         0.00038,  0.00038,  0.00038,  0.00038,  0.00038,  0.00038,\n",
        "         0.00038,  0.00038,  0.00038,  0.00038,  0.00038,  0.00038,\n",
        "         0.00038,  0.00038,  0.00038,  0.00038,  0.00038,  0.00038]),\n",
        " 'H2O': Field([  6.41311477e-03,   5.65969595e-03,   4.96710669e-03,\n",
        "          4.33309275e-03,   3.75533709e-03,   3.23146006e-03,\n",
        "          2.75902017e-03,   2.33551524e-03,   1.95838418e-03,\n",
        "          1.62500947e-03,   1.33272057e-03,   1.07879824e-03,\n",
        "          8.60480193e-04,   6.74968210e-04,   5.19436985e-04,\n",
        "          3.91045126e-04,   2.86948654e-04,   2.04317490e-04,\n",
        "          1.40355469e-04,   9.23244754e-05,   5.75733407e-05,\n",
        "          3.35721056e-05,   2.06103174e-05,   1.62624492e-05,\n",
        "          1.24114156e-05,   9.00548660e-06,   6.05332500e-06,\n",
        "          5.00000000e-06,   5.00000000e-06,   5.00000000e-06]),\n",
        " 'O3': Field([ 0.,  0.,  0.,  0.,  0.,  0.,  0.,  0.,  0.,  0.,  0.,  0.,  0.,\n",
        "         0.,  0.,  0.,  0.,  0.,  0.,  0.,  0.,  0.,  0.,  0.,  0.,  0.,\n",
        "         0.,  0.,  0.,  0.])}"
       ]
      }
     ],
     "prompt_number": 7
    },
    {
     "cell_type": "markdown",
     "metadata": {},
     "source": [
      "Ozone and CO2 are both specified in the model. The default, as you see above, is zero ozone, and constant (well-mixed) CO2 at a volume mixing ratio of 3.8E-4 or 380 ppm.\n",
      "\n",
      "Water vapor is handled differently: it is determined by the model at each timestep. We make the following assumptions, following a classic paper on radiative-convective equilibrium by Manabe and Wetherald (J. Atmos. Sci. 1967):\n",
      "\n",
      "- the relative humidity just above the surface is fixed at 77% (can be changed of course... see the parameter `col1.relative_humidity`\n",
      "- water vapor drops off linearly with pressure\n",
      "- there is a small specified amount of water vapor in the stratosphere."
     ]
    },
    {
     "cell_type": "heading",
     "level": 2,
     "metadata": {},
     "source": [
      "Putting in some ozone"
     ]
    },
    {
     "cell_type": "markdown",
     "metadata": {},
     "source": [
      "We need to provide some ozone data to the model in order to simulate a stratosphere. As we did with the original column model, we will use the ozone climatology data provided with the CESM model.\n",
      "\n",
      "See here for more information, including some plots of the ozone data:\n",
      "<http://www.atmos.albany.edu/facstaff/brose/classes/ENV480_Spring2014/styled-5/code-3/index.html>"
     ]
    },
    {
     "cell_type": "code",
     "collapsed": false,
     "input": [
      "import netCDF4 as nc\n",
      "\n",
      "datapath = \"http://ramadda.atmos.albany.edu:8080/repository/opendap/latest/Top/Users/Brian+Rose/CESM+runs/\"\n",
      "endstr = \"/entry.das\"\n",
      "\n",
      "topo = nc.Dataset( datapath + 'som_input/USGS-gtopo30_1.9x2.5_remap_c050602.nc' + endstr )\n",
      "ozone = nc.Dataset( datapath + 'som_input/ozone_1.9x2.5_L26_2000clim_c091112.nc' + endstr )"
     ],
     "language": "python",
     "metadata": {},
     "outputs": [],
     "prompt_number": 8
    },
    {
     "cell_type": "code",
     "collapsed": false,
     "input": [
      "#  Dimensions of the ozone file\n",
      "lat = ozone.variables['lat'][:]\n",
      "lon = ozone.variables['lon'][:]\n",
      "lev = ozone.variables['lev'][:]"
     ],
     "language": "python",
     "metadata": {},
     "outputs": [],
     "prompt_number": 9
    },
    {
     "cell_type": "code",
     "collapsed": false,
     "input": [
      "# Taking annual, zonal, and global averages of the ozone data\n",
      "O3_zon = np.mean( ozone.variables['O3'],axis=(0,3) )\n",
      "O3_global = np.sum( O3_zon * np.cos(np.deg2rad(lat)), axis=1 ) / sum( np.cos(np.deg2rad(lat) ) )"
     ],
     "language": "python",
     "metadata": {},
     "outputs": [],
     "prompt_number": 10
    },
    {
     "cell_type": "markdown",
     "metadata": {},
     "source": [
      "We are going to create another instance of the model, this time using the same vertical coordinates as the ozone data."
     ]
    },
    {
     "cell_type": "code",
     "collapsed": false,
     "input": [
      "#  Create the column with appropriate vertical coordinate, surface albedo and convective adjustment\n",
      "col2 = climlab.BandRCModel(lev=lev)\n",
      "print col2"
     ],
     "language": "python",
     "metadata": {},
     "outputs": [
      {
       "output_type": "stream",
       "stream": "stdout",
       "text": [
        "climlab Process of type <class 'climlab.model.column.BandRCModel'>. \n",
        "State variables and domain shapes: \n",
        "  Tatm: (26,) \n",
        "  q: (26,) \n",
        "  Ts: (1,) \n",
        "The subprocess tree: \n",
        "top: <class 'climlab.model.column.BandRCModel'>\n",
        "   LW: <class 'climlab.radiation.nband.FourBandLW'>\n",
        "   H2O: <class 'climlab.radiation.water_vapor.ManabeWaterVapor'>\n",
        "   insolation: <class 'climlab.radiation.insolation.FixedInsolation'>\n",
        "   convective adjustment: <class 'climlab.convection.convadj.ConvectiveAdjustment'>\n",
        "   SW: <class 'climlab.radiation.nband.ThreeBandSW'>\n",
        "   surface: <class 'climlab.surface.surface_radiation.SurfaceRadiation'>\n",
        "\n"
       ]
      }
     ],
     "prompt_number": 11
    },
    {
     "cell_type": "code",
     "collapsed": false,
     "input": [
      "#  Set the ozone mixing ratio\n",
      "#   IMPORTANT: we need to flip the ozone array around because the vertical coordinate runs the wrong way\n",
      "#   (first element is top of atmosphere, whereas our model expects the first element to be just above the surface)\n",
      "col2.subprocess['SW'].absorber_vmr['O3'] = np.flipud(O3_global)"
     ],
     "language": "python",
     "metadata": {},
     "outputs": [],
     "prompt_number": 12
    },
    {
     "cell_type": "code",
     "collapsed": false,
     "input": [
      "#  Run the model out to equilibrium!\n",
      "col2.integrate_years(2.)"
     ],
     "language": "python",
     "metadata": {},
     "outputs": [
      {
       "output_type": "stream",
       "stream": "stdout",
       "text": [
        "Integrating for 730 steps, 730.4844 days, or 2.0 years.\n",
        "Total elapsed time is 1.99867375676 years."
       ]
      },
      {
       "output_type": "stream",
       "stream": "stdout",
       "text": [
        "\n"
       ]
      }
     ],
     "prompt_number": 13
    },
    {
     "cell_type": "code",
     "collapsed": false,
     "input": [
      "fig = plt.figure()\n",
      "ax = fig.add_subplot(111)\n",
      "ax.plot( col1.Tatm, col1.lev, 'c-', label='RCE' )\n",
      "ax.plot( col1.Ts, 1000, 'co', markersize=16 )\n",
      "ax.plot(col2.Tatm, col2.lev, 'r-', label='RCE O3' )\n",
      "ax.plot(col2.Ts, 1000, 'ro', markersize=16 )\n",
      "ax.invert_yaxis()\n",
      "ax.set_xlabel('Temperature (K)', fontsize=16)\n",
      "ax.set_ylabel('Pressure (hPa)', fontsize=16 )\n",
      "ax.set_title('Temperature profiles', fontsize = 18)\n",
      "ax.grid()\n",
      "ax.legend()"
     ],
     "language": "python",
     "metadata": {},
     "outputs": [
      {
       "metadata": {},
       "output_type": "pyout",
       "prompt_number": 14,
       "text": [
        "<matplotlib.legend.Legend at 0x114b4c9d0>"
       ]
      },
      {
       "metadata": {},
       "output_type": "display_data",
       "png": "[encoded data removed]",
       "text": [
        "<matplotlib.figure.Figure at 0x10ddbcc10>"
       ]
      }
     ],
     "prompt_number": 14
    },
    {
     "cell_type": "markdown",
     "metadata": {},
     "source": [
      "Once we include ozone we get a well-defined stratosphere. We can also a slight cooling effect in the troposphere.\n",
      "\n",
      "Things to consider / try:\n",
      "\n",
      "- Here we used the global annual mean Q = 341.3 W / m^2. We might want to consider latitudinal or seasonal variations in Q.\n",
      "- We also used the global annual mean ozone profile! Ozone varies tremendously in latitude and by season. That information is all contained in the ozone data file we opened above. We might explore the effects of those variations.\n",
      "- We can calculate climate sensitivity in this model by doubling the CO2 concentration, e.g. `col3.CO2vmr *= 2.` and re-running out to the new equilibrium. Does the amount of ozone affect the climate sensitivity?\n",
      "- An important shortcoming of the model: there are no clouds! (that would be the next step in the hierarchy of column models)\n",
      "- Clouds would act both in the shortwave (increasing the albedo, cooling the climate) and in the longwave (greenhouse effect, warming the climate). Which effect is stronger depends on the vertical structure of the clouds (high or low clouds) and their optical properties (e.g. thin cirrus clouds are nearly transparent to solar radiation but are good longwave absorbers)."
     ]
    },
    {
     "cell_type": "code",
     "collapsed": false,
     "input": [
      "col3 = climlab.process_like(col2)\n",
      "col3."
     ],
     "language": "python",
     "metadata": {},
     "outputs": [
      {
       "ename": "SyntaxError",
       "evalue": "invalid syntax (<ipython-input-15-bb988ad02c08>, line 2)",
       "output_type": "pyerr",
       "traceback": [
        "\u001b[0;36m  File \u001b[0;32m\"<ipython-input-15-bb988ad02c08>\"\u001b[0;36m, line \u001b[0;32m2\u001b[0m\n\u001b[0;31m    col3.\u001b[0m\n\u001b[0m         ^\u001b[0m\n\u001b[0;31mSyntaxError\u001b[0m\u001b[0;31m:\u001b[0m invalid syntax\n"
       ]
      }
     ],
     "prompt_number": 15
    }
   ],
   "metadata": {}
  }
 ]
}