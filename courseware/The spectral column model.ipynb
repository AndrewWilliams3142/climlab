{
 "metadata": {
  "name": "",
  "signature": "sha256:69e0c96133beae4bc2de7ce5b80257eae45d8e4517a2384536362f9ef1f2f788"
 },
 "nbformat": 3,
 "nbformat_minor": 0,
 "worksheets": [
  {
   "cells": [
    {
     "cell_type": "heading",
     "level": 1,
     "metadata": {},
     "source": [
      "The spectral Column Model"
     ]
    },
    {
     "cell_type": "markdown",
     "metadata": {},
     "source": [
      "Here is a brief introduction to a new version of the Column Model that divides the spectrum into 6 distinct bands: three longwave and three shortwave.\n"
     ]
    },
    {
     "cell_type": "heading",
     "level": 3,
     "metadata": {},
     "source": [
      "About the spectra"
     ]
    },
    {
     "cell_type": "markdown",
     "metadata": {},
     "source": [
      "The shortwave is divided into three channels:\n",
      "\n",
      "- Channel 0 is the Hartley and Huggins band (extreme UV, 200 - 340 nm, 1% of total flux, strong ozone absorption)\n",
      "- Channel 1 is Chappuis band (450 - 800 nm, 27% of total flux, moderate ozone absorption)\n",
      "- Channel 2 is remaining radiation (72% of total flux, largely in the visible range, no ozone absorption)\n",
      "\n",
      "The longwave is also divided into three bands:\n",
      "\n",
      "- Band 0 is the window region, 30% of total flux, ozone is the only absorber in this band.\n",
      "- Band 1 is a CO2 absorption channel, 35% of total flux\n",
      "- Band 2 is a water vapor absorption channel, 35% of total flux\n",
      "\n",
      "The longwave decomposition is not as easily related to specific wavelengths, as in reality there is a lot of overlap between H$_2$O and CO$_2$ absorption features (as well as absorption by other greenhouse gases such as CH$_4$ and N$_2$O that we are not representing)."
     ]
    },
    {
     "cell_type": "heading",
     "level": 3,
     "metadata": {},
     "source": [
      "Example usage of the spectral model"
     ]
    },
    {
     "cell_type": "code",
     "collapsed": false,
     "input": [
      "%matplotlib inline\n",
      "import numpy as np\n",
      "import matplotlib.pyplot as plt\n",
      "import climlab\n",
      "from climlab import constants as const"
     ],
     "language": "python",
     "metadata": {},
     "outputs": [],
     "prompt_number": 1
    },
    {
     "cell_type": "markdown",
     "metadata": {},
     "source": [
      "First try a model with all default parameters. Usage is very similar to the familiar `GreyRadiationModel`."
     ]
    },
    {
     "cell_type": "code",
     "collapsed": false,
     "input": [
      "col1 = climlab.GreyRadiationModel()\n",
      "sw = climlab.radiation.three_band.ThreeBandSW(state=col1.state, **col1.param)\n",
      "col1.add_subprocess('SW', sw)\n",
      "print col1"
     ],
     "language": "python",
     "metadata": {},
     "outputs": [
      {
       "output_type": "stream",
       "stream": "stdout",
       "text": [
        "climlab Process of type <class 'climlab.model.column.GreyRadiationModel'>. \n",
        "State variables and domain shapes: \n",
        "  Tatm: (30,) \n",
        "  Ts: (1,) \n",
        "The subprocess tree: \n",
        "top: <class 'climlab.model.column.GreyRadiationModel'>\n",
        "   LW: <class 'climlab.radiation.radiation.Radiation'>\n",
        "   SW: <class 'climlab.radiation.three_band.ThreeBandSW'>\n",
        "   surface: <class 'climlab.surface.surface_radiation.SurfaceRadiation'>\n",
        "   insolation: <class 'climlab.radiation.insolation.FixedInsolation'>\n",
        "\n"
       ]
      }
     ],
     "prompt_number": 2
    },
    {
     "cell_type": "code",
     "collapsed": false,
     "input": [
      "col1.integrate_years(2)"
     ],
     "language": "python",
     "metadata": {},
     "outputs": [
      {
       "output_type": "stream",
       "stream": "stdout",
       "text": [
        "Integrating for 730 steps, 730.4844 days, or 2 years.\n",
        "Total elapsed time is 1.99867375676 years."
       ]
      },
      {
       "output_type": "stream",
       "stream": "stdout",
       "text": [
        "\n"
       ]
      }
     ],
     "prompt_number": 3
    },
    {
     "cell_type": "code",
     "collapsed": false,
     "input": [
      "col1.diagnostics['ASR'] - col1.diagnostics['OLR']"
     ],
     "language": "python",
     "metadata": {},
     "outputs": [
      {
       "metadata": {},
       "output_type": "pyout",
       "prompt_number": 4,
       "text": [
        "Field([  1.74880222e-05])"
       ]
      }
     ],
     "prompt_number": 4
    },
    {
     "cell_type": "code",
     "collapsed": false,
     "input": [
      "fig = plt.figure()\n",
      "ax = fig.add_subplot(111)\n",
      "ax.plot( col1.Tatm, col1.lev, 'c-', label='default' )\n",
      "ax.plot( col1.Ts, climlab.constants.ps, 'co', markersize=16 )\n",
      "ax.invert_yaxis()\n",
      "ax.set_xlabel('Temperature (K)', fontsize=16)\n",
      "ax.set_ylabel('Pressure (hPa)', fontsize=16 )\n",
      "ax.set_title('Temperature profiles', fontsize = 18)\n",
      "ax.grid()"
     ],
     "language": "python",
     "metadata": {},
     "outputs": [
      {
       "metadata": {},
       "output_type": "display_data",
       "png": "[encoded data removed]",
       "text": [
        "<matplotlib.figure.Figure at 0x10e787a50>"
       ]
      }
     ],
     "prompt_number": 5
    },
    {
     "cell_type": "markdown",
     "metadata": {},
     "source": [
      "The default has no convective adjustment (so there is a big drop in temperature just above the surface), and also has no ozone (so there is no stratosphere). Not very realistic!\n",
      "\n",
      "We can put the convective adjustment in just as we did with the original ColumnModel:"
     ]
    },
    {
     "cell_type": "code",
     "collapsed": false,
     "input": [
      "col2 = climlab.RadiativeConvectiveModel( adj_lapse_rate=6. )\n",
      "sw = climlab.radiation.three_band.ThreeBandSW(state=col2.state, **col2.param)\n",
      "col2.add_subprocess('SW', sw)\n",
      "print col2"
     ],
     "language": "python",
     "metadata": {},
     "outputs": [
      {
       "output_type": "stream",
       "stream": "stdout",
       "text": [
        "climlab Process of type <class 'climlab.model.column.RadiativeConvectiveModel'>. \n",
        "State variables and domain shapes: \n",
        "  Tatm: (30,) \n",
        "  Ts: (1,) \n",
        "The subprocess tree: \n",
        "top: <class 'climlab.model.column.RadiativeConvectiveModel'>\n",
        "   LW: <class 'climlab.radiation.radiation.Radiation'>\n",
        "   insolation: <class 'climlab.radiation.insolation.FixedInsolation'>\n",
        "   convective adjustment: <class 'climlab.convection.convadj.ConvectiveAdjustment'>\n",
        "   SW: <class 'climlab.radiation.three_band.ThreeBandSW'>\n",
        "   surface: <class 'climlab.surface.surface_radiation.SurfaceRadiation'>\n",
        "\n"
       ]
      }
     ],
     "prompt_number": 6
    },
    {
     "cell_type": "markdown",
     "metadata": {},
     "source": [
      "Here, we also changed the surface albedo to a much lower value. This is necessary to warm up the model to a reasonable temperature. Why? Because there are no clouds! More on that later. Let's add this new solution to the graph:"
     ]
    },
    {
     "cell_type": "code",
     "collapsed": false,
     "input": [
      "col2.integrate_years(2)"
     ],
     "language": "python",
     "metadata": {},
     "outputs": [
      {
       "output_type": "stream",
       "stream": "stdout",
       "text": [
        "Integrating for 730 steps, 730.4844 days, or 2 years.\n",
        "Total elapsed time is 1.99867375676 years."
       ]
      },
      {
       "output_type": "stream",
       "stream": "stdout",
       "text": [
        "\n"
       ]
      }
     ],
     "prompt_number": 7
    },
    {
     "cell_type": "code",
     "collapsed": false,
     "input": [
      "col2.diagnostics['ASR'] - col2.diagnostics['OLR']"
     ],
     "language": "python",
     "metadata": {},
     "outputs": [
      {
       "metadata": {},
       "output_type": "pyout",
       "prompt_number": 8,
       "text": [
        "Field([  2.52642131e-05])"
       ]
      }
     ],
     "prompt_number": 8
    },
    {
     "cell_type": "code",
     "collapsed": false,
     "input": [
      "fig = plt.figure()\n",
      "ax = fig.add_subplot(111)\n",
      "ax.plot( col1.Tatm, col1.lev, 'c-', label='RE' )\n",
      "ax.plot( col1.Ts, 1000, 'co', markersize=16 )\n",
      "ax.plot(col2.Tatm, col2.lev, 'm-', label='RCE' )\n",
      "ax.plot(col2.Ts, 1000, 'mo', markersize=16 )\n",
      "ax.invert_yaxis()\n",
      "ax.set_xlabel('Temperature (K)', fontsize=16)\n",
      "ax.set_ylabel('Pressure (hPa)', fontsize=16 )\n",
      "ax.set_title('Temperature profiles', fontsize = 18)\n",
      "ax.grid()\n",
      "ax.legend()"
     ],
     "language": "python",
     "metadata": {},
     "outputs": [
      {
       "metadata": {},
       "output_type": "pyout",
       "prompt_number": 9,
       "text": [
        "<matplotlib.legend.Legend at 0x10ecbb790>"
       ]
      },
      {
       "metadata": {},
       "output_type": "display_data",
       "png": "[encoded data removed]",
       "text": [
        "<matplotlib.figure.Figure at 0x10ebab390>"
       ]
      }
     ],
     "prompt_number": 9
    },
    {
     "cell_type": "markdown",
     "metadata": {},
     "source": [
      "More reasonable-looking troposphere, but still no stratosphere."
     ]
    },
    {
     "cell_type": "heading",
     "level": 3,
     "metadata": {},
     "source": [
      "About the radiatively active gases"
     ]
    },
    {
     "cell_type": "markdown",
     "metadata": {},
     "source": [
      "The model is aware of three different absorbing gases: O3 (ozone), CO2, and H2O (water vapor). The abundances of these gases are stored in arrays as follows:"
     ]
    },
    {
     "cell_type": "code",
     "collapsed": false,
     "input": [
      "print(\"Ozone volume mixing ratio:\")\n",
      "print(col1.subprocess['SW'].O3vmr)\n",
      "print(\"CO2 volume mixing ratio:\")\n",
      "print col1.subprocess['SW'].CO2vmr\n",
      "print(\"H2O volume mixing ratio\")\n",
      "print col1.subprocess['SW'].H2Ovmr"
     ],
     "language": "python",
     "metadata": {},
     "outputs": [
      {
       "output_type": "stream",
       "stream": "stdout",
       "text": [
        "Ozone volume mixing ratio:\n",
        "[ 0.  0.  0.  0.  0.  0.  0.  0.  0.  0.  0.  0.  0.  0.  0.  0.  0.  0.\n",
        "  0.  0.  0.  0.  0.  0.  0.  0.  0.  0.  0.  0.]\n",
        "CO2 volume mixing ratio:\n",
        "[ 0.00038  0.00038  0.00038  0.00038  0.00038  0.00038  0.00038  0.00038\n",
        "  0.00038  0.00038  0.00038  0.00038  0.00038  0.00038  0.00038  0.00038\n",
        "  0.00038  0.00038  0.00038  0.00038  0.00038  0.00038  0.00038  0.00038\n",
        "  0.00038  0.00038  0.00038  0.00038  0.00038  0.00038]\n",
        "H2O volume mixing ratio\n",
        "[  1.34220907e-03   1.19912608e-03   1.06947327e-03   9.52056493e-04\n",
        "   8.45802273e-04   7.49741637e-04   6.62996685e-04   5.84769333e-04\n",
        "   5.14331834e-04   4.51018726e-04   3.94219973e-04   3.43375074e-04\n",
        "   2.97968000e-04   2.57522803e-04   2.21599813e-04   1.89792314e-04\n",
        "   1.61723625e-04   1.37044536e-04   1.15431007e-04   9.65820890e-05\n",
        "   8.02179731e-05   6.60780594e-05   5.39188436e-05   4.35112136e-05\n",
        "   3.46361900e-05   2.70764700e-05   2.05951454e-05   1.48654416e-05\n",
        "   9.12290458e-06   5.00000000e-06]\n"
       ]
      }
     ],
     "prompt_number": 10
    },
    {
     "cell_type": "markdown",
     "metadata": {},
     "source": [
      "Ozone and CO2 are both specified in the model. The default, as you see above, is zero ozone, and constant (well-mixed) CO2 at a volume mixing ratio of 3.8E-4 or 380 ppm.\n",
      "\n",
      "Water vapor is handled differently: it is determined by the model at each timestep. We make the following assumptions, following a classic paper on radiative-convective equilibrium by Manabe and Wetherald (J. Atmos. Sci. 1967):\n",
      "\n",
      "- the relative humidity just above the surface is fixed at 77% (can be changed of course... see the parameter `col1.relative_humidity`\n",
      "- water vapor drops off linearly with pressure\n",
      "- there is a small specified amount of water vapor in the stratosphere."
     ]
    },
    {
     "cell_type": "heading",
     "level": 2,
     "metadata": {},
     "source": [
      "Putting in some ozone"
     ]
    },
    {
     "cell_type": "markdown",
     "metadata": {},
     "source": [
      "We need to provide some ozone data to the model in order to simulate a stratosphere. As we did with the original column model, we will use the ozone climatology data provided with the CESM model.\n",
      "\n",
      "See here for more information, including some plots of the ozone data:\n",
      "<http://www.atmos.albany.edu/facstaff/brose/classes/ENV480_Spring2014/styled-5/code-3/index.html>"
     ]
    },
    {
     "cell_type": "code",
     "collapsed": false,
     "input": [
      "import netCDF4 as nc\n",
      "\n",
      "datapath = \"http://ramadda.atmos.albany.edu:8080/repository/opendap/latest/Top/Users/Brian+Rose/CESM+runs/\"\n",
      "endstr = \"/entry.das\"\n",
      "\n",
      "topo = nc.Dataset( datapath + 'som_input/USGS-gtopo30_1.9x2.5_remap_c050602.nc' + endstr )\n",
      "ozone = nc.Dataset( datapath + 'som_input/ozone_1.9x2.5_L26_2000clim_c091112.nc' + endstr )"
     ],
     "language": "python",
     "metadata": {},
     "outputs": [],
     "prompt_number": 11
    },
    {
     "cell_type": "code",
     "collapsed": false,
     "input": [
      "#  Dimensions of the ozone file\n",
      "lat = ozone.variables['lat'][:]\n",
      "lon = ozone.variables['lon'][:]\n",
      "lev = ozone.variables['lev'][:]"
     ],
     "language": "python",
     "metadata": {},
     "outputs": [],
     "prompt_number": 12
    },
    {
     "cell_type": "code",
     "collapsed": false,
     "input": [
      "# Taking annual, zonal, and global averages of the ozone data\n",
      "O3_zon = np.mean( ozone.variables['O3'],axis=(0,3) )\n",
      "O3_global = np.sum( O3_zon * np.cos(np.deg2rad(lat)), axis=1 ) / sum( np.cos(np.deg2rad(lat) ) )"
     ],
     "language": "python",
     "metadata": {},
     "outputs": [],
     "prompt_number": 13
    },
    {
     "cell_type": "markdown",
     "metadata": {},
     "source": [
      "We are going to create another instance of the model, this time using the same vertical coordinates as the ozone data."
     ]
    },
    {
     "cell_type": "code",
     "collapsed": false,
     "input": [
      "#  Create the column with appropriate vertical coordinate, surface albedo and convective adjustment\n",
      "col3 = climlab.RadiativeConvectiveModel( lev=lev, params={'adj_lapse_rate':6, 'albedo':0.14} )\n",
      "sw = climlab.radiation.three_band.ThreeBandSW(state=col3.state, **col3.param)\n",
      "col3.add_subprocess('SW', sw)\n",
      "print col3\n"
     ],
     "language": "python",
     "metadata": {},
     "outputs": [
      {
       "output_type": "stream",
       "stream": "stdout",
       "text": [
        "climlab Process of type <class 'climlab.model.column.RadiativeConvectiveModel'>. \n",
        "State variables and domain shapes: \n",
        "  Tatm: (26,) \n",
        "  Ts: (1,) \n",
        "The subprocess tree: \n",
        "top: <class 'climlab.model.column.RadiativeConvectiveModel'>\n",
        "   LW: <class 'climlab.radiation.radiation.Radiation'>\n",
        "   insolation: <class 'climlab.radiation.insolation.FixedInsolation'>\n",
        "   convective adjustment: <class 'climlab.convection.convadj.ConvectiveAdjustment'>\n",
        "   SW: <class 'climlab.radiation.three_band.ThreeBandSW'>\n",
        "   surface: <class 'climlab.surface.surface_radiation.SurfaceRadiation'>\n",
        "\n"
       ]
      }
     ],
     "prompt_number": 14
    },
    {
     "cell_type": "code",
     "collapsed": false,
     "input": [
      "#  Set the ozone mixing ratio\n",
      "#   IMPORTANT: we need to flip the ozone array around because the vertical coordinate runs the wrong way\n",
      "#   (first element is top of atmosphere, whereas our model expects the first element to be just above the surface)\n",
      "sw.O3vmr = np.flipud(O3_global)"
     ],
     "language": "python",
     "metadata": {},
     "outputs": [],
     "prompt_number": 15
    },
    {
     "cell_type": "code",
     "collapsed": false,
     "input": [
      "#  Run the model out to equilibrium!\n",
      "col3.integrate_years(2.)"
     ],
     "language": "python",
     "metadata": {},
     "outputs": [
      {
       "output_type": "stream",
       "stream": "stdout",
       "text": [
        "Integrating for 730 steps, 730.4844 days, or 2.0 years.\n",
        "Total elapsed time is 1.99867375676 years."
       ]
      },
      {
       "output_type": "stream",
       "stream": "stdout",
       "text": [
        "\n"
       ]
      }
     ],
     "prompt_number": 16
    },
    {
     "cell_type": "code",
     "collapsed": false,
     "input": [
      "fig = plt.figure()\n",
      "ax = fig.add_subplot(111)\n",
      "ax.plot( col1.Tatm, col1.lev, 'c-', label='RE' )\n",
      "ax.plot( col1.Ts, 1000, 'co', markersize=16 )\n",
      "ax.plot(col2.Tatm, col2.lev, 'm-', label='RCE' )\n",
      "ax.plot(col2.Ts, 1000, 'mo', markersize=16 )\n",
      "ax.plot(col3.Tatm, col3.lev, 'r-', label='RCE O3' )\n",
      "ax.plot(col3.Ts, 1000, 'ro', markersize=16 )\n",
      "ax.invert_yaxis()\n",
      "ax.set_xlabel('Temperature (K)', fontsize=16)\n",
      "ax.set_ylabel('Pressure (hPa)', fontsize=16 )\n",
      "ax.set_title('Temperature profiles', fontsize = 18)\n",
      "ax.grid()\n",
      "ax.legend()"
     ],
     "language": "python",
     "metadata": {},
     "outputs": [
      {
       "metadata": {},
       "output_type": "pyout",
       "prompt_number": 17,
       "text": [
        "<matplotlib.legend.Legend at 0x10e7c7f10>"
       ]
      },
      {
       "metadata": {},
       "output_type": "display_data",
       "png": "[encoded data removed]",
       "text": [
        "<matplotlib.figure.Figure at 0x10ecd41d0>"
       ]
      }
     ],
     "prompt_number": 17
    },
    {
     "cell_type": "markdown",
     "metadata": {},
     "source": [
      "Once we include ozone we get a well-defined stratosphere. We can also see some warming effect in the troposphere.\n",
      "\n",
      "Things to consider / try:\n",
      "\n",
      "- Here we used the global annual mean Q = 341.3 W / m^2. We might want to consider latitudinal or seasonal variations in Q.\n",
      "- We also used the global annual mean ozone profile! Ozone varies tremendously in latitude and by season. That information is all contained in the ozone data file we opened above. We might explore the effects of those variations.\n",
      "- We can calculate climate sensitivity in this model by doubling the CO2 concentration, e.g. `col3.CO2vmr *= 2.` and re-running out to the new equilibrium. Does the amount of ozone affect the climate sensitivity?\n",
      "- An important shortcoming of the model: there are no clouds! (that would be the next step in the hierarchy of column models)\n",
      "- Clouds would act both in the shortwave (increasing the albedo, cooling the climate) and in the longwave (greenhouse effect, warming the climate). Which effect is stronger depends on the vertical structure of the clouds (high or low clouds) and their optical properties (e.g. thin cirrus clouds are nearly transparent to solar radiation but are good longwave absorbers)."
     ]
    }
   ],
   "metadata": {}
  }
 ]
}