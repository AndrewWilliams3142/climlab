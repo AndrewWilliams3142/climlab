{
 "metadata": {
  "name": "",
  "signature": "sha256:51553be929c14c64ea2ba13b88a93beabd9e92b100f625edf65deffebb7e30f6"
 },
 "nbformat": 3,
 "nbformat_minor": 0,
 "worksheets": [
  {
   "cells": [
    {
     "cell_type": "markdown",
     "metadata": {},
     "source": [
      "# ATM 623: Climate Modeling\n",
      "## The two-layer grey radiation model (aka the leaky greenhouse)"
     ]
    },
    {
     "cell_type": "markdown",
     "metadata": {},
     "source": [
      "<div class=\"alert\">\n",
      "As of IPython 2.0, the user interface has changed significantly\n",
      "</div>"
     ]
    },
    {
     "cell_type": "markdown",
     "metadata": {},
     "source": [
      "<div class=\"alert alert-success\">\n",
      "Enter edit mode by pressing `Enter`\n",
      "</div>"
     ]
    },
    {
     "cell_type": "markdown",
     "metadata": {},
     "source": [
      "<div class=\"alert alert-error\">\n",
      "Don't try to type into a cell in command mode\n",
      "</div>"
     ]
    },
    {
     "cell_type": "markdown",
     "metadata": {},
     "source": [
      "- Surface temperature is $T_s$\n",
      "- Atm. temperatures are $T_1, T_2$ where $T_1$ is closest to the surface.\n",
      "- absorptivity of atm layers is $\\epsilon_1, \\epsilon_2$\n",
      "- Surface emission is $\\sigma T_s^4$\n",
      "- Atm emission is $\\epsilon_1 \\sigma T_1^4, \\epsilon_2 \\sigma T_2^4$ (up and down)\n",
      "- Abs = emissivity for atm layers\n",
      "- Transmissivity for atm layers is $\\tau_1, \\tau_2$ where $\\tau_i = (1-\\epsilon_i)$\n",
      "\n",
      "### Emission\n",
      "$$ E_s = \\sigma T_s^4 $$\n",
      "\n",
      "$$ E_1 = \\epsilon_1 \\sigma T_1^4 $$\n",
      "\n",
      "$$ E_2 = \\epsilon_2 \\sigma T_2^4 $$\n",
      "\n",
      "### Incident radiation\n",
      "\n",
      "$$ F_s = \\tau_1 E_2 + E_1 $$\n",
      "\n",
      "$$ F_1 = E_s + E_2 $$\n",
      "\n",
      "$$ F_2 = \\tau_1 E_s + E_1 $$\n",
      "\n",
      "### Net radiation\n",
      "(absorptivity) * incident - emission\n",
      "\n",
      "$$ R_s = F_s - E_s $$\n",
      "\n",
      "$$ R_1 = \\epsilon_1 F_1 - 2 E_1 $$\n",
      "\n",
      "$$ R_2 = \\epsilon_2 F_2 - 2 E_2 $$\n",
      "\n",
      "### OLR\n",
      "\n",
      "$$ OLR = \\tau_2 F_2 + E_2 $$\n",
      "\n",
      "$$ = \\tau_1 \\tau_2 E_s + \\tau_2 E_1 + E_2 $$\n",
      "$$ = \\tau_1 \\tau_2 \\sigma T_s^4 + \\tau_2 \\epsilon_1 \\sigma T_1^4 + \\epsilon_2 \\sigma T_2^4 $$\n",
      "\n",
      "### Net radiation in terms of emissions\n",
      "\n",
      "$$ R_s = \\tau_1 E_2 + E_1 - E_s $$\n",
      "\n",
      "$$ R_1 = \\epsilon_1 (E_s + E_2) - 2 E_1 $$\n",
      "\n",
      "$$ R_2 = \\epsilon_2 (\\tau_1 E_s + E_1) - 2 E_2 $$\n",
      "\n",
      "### Net radiation in terms of temperatures\n",
      "\n",
      "$$ R_s = \\tau_1 \\epsilon_2 \\sigma T_2^4 + \\epsilon_1 \\sigma T_1^4 - \\sigma T_s^4 $$\n",
      "\n",
      "$$ R_1 = \\epsilon_1 (\\sigma T_s^4 + \\epsilon_2 \\sigma T_2^4) - 2 \\epsilon_1 \\sigma T_1^4 $$\n",
      "\n",
      "$$ R_2 = \\epsilon_2 (\\tau_1 \\sigma T_s^4 + \\epsilon_1 \\sigma T_1^4) - 2 \\epsilon_2 \\sigma T_2^4 $$\n",
      "\n",
      "### Net radiation in terms of temperatures and absorptivities\n",
      "\n",
      "$$ R_s = (1-\\epsilon_1) \\epsilon_2 \\sigma T_2^4 + \\epsilon_1 \\sigma T_1^4 - \\sigma T_s^4 $$\n",
      "\n",
      "$$ R_1 = \\epsilon_1 (\\sigma T_s^4 + \\epsilon_2 \\sigma T_2^4) - 2 \\epsilon_1 \\sigma T_1^4 $$\n",
      "\n",
      "$$ R_2 = \\epsilon_2 ((1-\\epsilon_1) \\sigma T_s^4 + \\epsilon_1 \\sigma T_1^4) - 2 \\epsilon_2 \\sigma T_2^4 $$\n",
      "\n",
      "## Solve for radiative equilibrium\n",
      "Need to add the solar energy source. We assume atm is transparent, solar is all absorbed at the surface.\n",
      "\n",
      "$$ R_1 = R_2 = 0$$\n",
      "\n",
      "$$ R_s = - (1-\\alpha) Q $$\n",
      "\n",
      "Introduce useful notation shorthand:\n",
      "\n",
      "$$ (1-\\alpha) Q = \\sigma T_e^4 $$\n",
      "\n",
      "This gives a 3x3 system which is **linear in $T^4$** (divide through by $\\sigma$)\n",
      "\n",
      "$$ - T_s^4 + \\epsilon_1 T_1^4 + (1-\\epsilon_1) \\epsilon_2  T_2^4 + T_e^4 = 0 $$\n",
      "\n",
      "$$ \\epsilon_1 T_s^4 - 2 \\epsilon_1 T_1^4 + \\epsilon_1 \\epsilon_2  T_2^4 = 0$$\n",
      "\n",
      "$$ \\epsilon_2 (1-\\epsilon_1) T_s^4 + \\epsilon_1 \\epsilon_2 T_1^4 - 2 \\epsilon_2 T_2^4 = 0$$\n",
      "\n",
      "Here we use the `sympy` module to solve the algebraic system symbolically."
     ]
    },
    {
     "cell_type": "code",
     "collapsed": false,
     "input": [
      "import sympy\n",
      "sympy.init_printing()\n",
      "T_s, T_1, T_2, T_e, e_1, e_2 = sympy.symbols('T_s, T_1, T_2, T_e, e_1, e_2', positive=True )\n",
      "system = [-T_s**4 + e_1*T_1**4 + e_2*(1-e_1)*T_2**4 + T_e**4,\n",
      "              e_1*T_s**4 - 2*e_1*T_1**4 + e_1*e_2*T_2**4,\n",
      "              e_2*(1-e_1)*T_s**4 + e_1*e_2*T_1**4 - 2*e_2*T_2**4]\n",
      "out1 = sympy.solve( system, [T_s**4, T_1**4, T_2**4])\n",
      "out1"
     ],
     "language": "python",
     "metadata": {},
     "outputs": [
      {
       "latex": [
        "$$\\left \\{ T_{1}^{4} : \\frac{T_{e}^{4} \\left(- e_{1} e_{2} + e_{2} + 2\\right)}{e_{1} e_{2} - 2 e_{1} - 2 e_{2} + 4}, \\quad T_{2}^{4} : - \\frac{T_{e}^{4}}{e_{2} - 2}, \\quad T_{s}^{4} : \\frac{T_{e}^{4} \\left(- e_{1} e_{2} + 4\\right)}{e_{1} e_{2} - 2 e_{1} - 2 e_{2} + 4}\\right \\}$$"
       ],
       "metadata": {},
       "output_type": "pyout",
       "png": "[encoded data removed]",
       "prompt_number": 1,
       "text": [
        "\u23a7        4                             4                4                \u23ab\n",
        "\u23aa  4   T\u2091 \u22c5(-e\u2081\u22c5e\u2082 + e\u2082 + 2)     4  -T\u2091        4      T\u2091 \u22c5(-e\u2081\u22c5e\u2082 + 4)   \u23aa\n",
        "\u23a8T\u2081 : \u2500\u2500\u2500\u2500\u2500\u2500\u2500\u2500\u2500\u2500\u2500\u2500\u2500\u2500\u2500\u2500\u2500\u2500\u2500\u2500\u2500\u2500\u2500, T\u2082 : \u2500\u2500\u2500\u2500\u2500\u2500, T_s : \u2500\u2500\u2500\u2500\u2500\u2500\u2500\u2500\u2500\u2500\u2500\u2500\u2500\u2500\u2500\u2500\u2500\u2500\u2500\u2500\u2500\u2500\u2500\u23ac\n",
        "\u23aa     e\u2081\u22c5e\u2082 - 2\u22c5e\u2081 - 2\u22c5e\u2082 + 4       e\u2082 - 2        e\u2081\u22c5e\u2082 - 2\u22c5e\u2081 - 2\u22c5e\u2082 + 4\u23aa\n",
        "\u23a9                                                                        \u23ad"
       ]
      }
     ],
     "prompt_number": 1
    },
    {
     "cell_type": "code",
     "collapsed": false,
     "input": [
      "quarter = sympy.Rational(1,4)\n",
      "out2 = {}\n",
      "for var4, formula in out1.iteritems():\n",
      "    var = (var4)**quarter\n",
      "    out2[var] = sympy.simplify(formula**quarter)\n",
      "out2"
     ],
     "language": "python",
     "metadata": {},
     "outputs": [
      {
       "latex": [
        "$$\\left \\{ T_{1} : T_{e} \\sqrt[4]{\\frac{- e_{1} e_{2} + e_{2} + 2}{e_{1} e_{2} - 2 e_{1} - 2 e_{2} + 4}}, \\quad T_{2} : T_{e} \\sqrt[4]{- \\frac{1}{e_{2} - 2}}, \\quad T_{s} : T_{e} \\sqrt[4]{\\frac{- e_{1} e_{2} + 4}{e_{1} e_{2} - 2 e_{1} - 2 e_{2} + 4}}\\right \\}$$"
       ],
       "metadata": {},
       "output_type": "pyout",
       "png": "[encoded data removed]",
       "prompt_number": 2,
       "text": [
        "\u23a7           _________________________             ________              ______\n",
        "\u23aa          \u2571     -e\u2081\u22c5e\u2082 + e\u2082 + 2                 \u2571  -1                 \u2571      \n",
        "\u23a8T\u2081: T\u2091\u22c54 \u2571  \u2500\u2500\u2500\u2500\u2500\u2500\u2500\u2500\u2500\u2500\u2500\u2500\u2500\u2500\u2500\u2500\u2500\u2500\u2500\u2500\u2500\u2500\u2500 , T\u2082: T\u2091\u22c54 \u2571  \u2500\u2500\u2500\u2500\u2500\u2500 , T_s: T\u2091\u22c54 \u2571  \u2500\u2500\u2500\u2500\u2500\n",
        "\u23aa       \u2572\u2571   e\u2081\u22c5e\u2082 - 2\u22c5e\u2081 - 2\u22c5e\u2082 + 4          \u2572\u2571   e\u2082 - 2           \u2572\u2571   e\u2081\u22c5e\u2082\n",
        "\u23a9                                                                             \n",
        "\n",
        "___________________\u23ab\n",
        "  -e\u2081\u22c5e\u2082 + 4       \u23aa\n",
        "\u2500\u2500\u2500\u2500\u2500\u2500\u2500\u2500\u2500\u2500\u2500\u2500\u2500\u2500\u2500\u2500\u2500\u2500 \u23ac\n",
        " - 2\u22c5e\u2081 - 2\u22c5e\u2082 + 4 \u23aa\n",
        "                   \u23ad"
       ]
      }
     ],
     "prompt_number": 2
    },
    {
     "cell_type": "code",
     "collapsed": false,
     "input": [
      "#  The special case of equal absorptivities\n",
      "e = sympy.symbols('e')\n",
      "out3 = {}\n",
      "for var4, formula in out1.iteritems():\n",
      "    var = (var4)**quarter\n",
      "    simple_formula = sympy.cancel(formula.subs([(e_2, e),(e_1, e)]))\n",
      "    out3[var] = sympy.simplify( simple_formula**quarter )\n",
      "out3"
     ],
     "language": "python",
     "metadata": {},
     "outputs": [
      {
       "latex": [
        "$$\\left \\{ T_{1} : T_{e} \\sqrt[4]{\\frac{- e - 1}{e - 2}}, \\quad T_{2} : T_{e} \\sqrt[4]{- \\frac{1}{e - 2}}, \\quad T_{s} : T_{e} \\sqrt[4]{\\frac{- e - 2}{e - 2}}\\right \\}$$"
       ],
       "metadata": {},
       "output_type": "pyout",
       "png": "[encoded data removed]",
       "prompt_number": 3,
       "text": [
        "\u23a7           ________             _______              ________\u23ab\n",
        "\u23aa          \u2571 -e - 1             \u2571  -1                \u2571 -e - 2 \u23aa\n",
        "\u23a8T\u2081: T\u2091\u22c54 \u2571  \u2500\u2500\u2500\u2500\u2500\u2500 , T\u2082: T\u2091\u22c54 \u2571  \u2500\u2500\u2500\u2500\u2500 , T_s: T\u2091\u22c54 \u2571  \u2500\u2500\u2500\u2500\u2500\u2500 \u23ac\n",
        "\u23aa       \u2572\u2571   e - 2           \u2572\u2571   e - 2           \u2572\u2571   e - 2  \u23aa\n",
        "\u23a9                                                             \u23ad"
       ]
      }
     ],
     "prompt_number": 3
    },
    {
     "cell_type": "markdown",
     "metadata": {},
     "source": [
      "The solution is\n",
      "\n",
      "\\begin{align} \n",
      "T_s^4 &= T_e^4 \\frac{4 - \\epsilon_1 \\epsilon_2}{4 + \\epsilon_1 \\epsilon_2 - 2 \\epsilon_1 - 2 \\epsilon_2}  \\\\\n",
      "T_1^4 &= T_e^4 \\frac{2 -\\epsilon_1 \\epsilon_2 + \\epsilon_2}{4 + \\epsilon_1 \\epsilon_2 - 2 \\epsilon_1 - 2 \\epsilon_2} \\\\\n",
      "T_2^4 &= T_e^4 \\frac{ 1}{2 - \\epsilon_2}\n",
      "\\end{align}"
     ]
    },
    {
     "cell_type": "markdown",
     "metadata": {},
     "source": [
      "In the special case $\\epsilon_1 = \\epsilon_2$ this reduces to\n",
      "\n",
      "\\begin{align} \n",
      "T_s^4 &= T_e^4 \\frac{2+\\epsilon}{2-\\epsilon}  \\\\\n",
      "T_1^4 &= T_e^4 \\frac{1+\\epsilon}{2-\\epsilon} \\\\\n",
      "T_2^4 &= T_e^4 \\frac{ 1}{2 - \\epsilon}\n",
      "\\end{align}"
     ]
    },
    {
     "cell_type": "code",
     "collapsed": false,
     "input": [
      "out2[T_s].subs([(T_e, 255), (e_1, 0.4), (e_2, 0.4)])"
     ],
     "language": "python",
     "metadata": {},
     "outputs": [
      {
       "latex": [
        "$$282.203889523582$$"
       ],
       "metadata": {},
       "output_type": "pyout",
       "png": "[encoded data removed]",
       "prompt_number": 4,
       "text": [
        "282.203889523582"
       ]
      }
     ],
     "prompt_number": 4
    },
    {
     "cell_type": "code",
     "collapsed": false,
     "input": [
      "for var, formula in out2.iteritems():\n",
      "    print formula.subs([(T_e, 255), (e_1, 0.4), (e_2, 0.4)])"
     ],
     "language": "python",
     "metadata": {},
     "outputs": [
      {
       "output_type": "stream",
       "stream": "stdout",
       "text": [
        "246.627893584128\n",
        "282.203889523582\n",
        "226.730624779963\n"
       ]
      }
     ],
     "prompt_number": 5
    },
    {
     "cell_type": "code",
     "collapsed": false,
     "input": [
      "# Coding up the analytical solutions for radiative equilibrium\n",
      "#  These use the analytical results returned by sympy and wrap them in callable functions\n",
      "\n",
      "def Ts(Te, e1, e2):\n",
      "    #return Te*((4-e1*e2)/(4+e1*e2-2*(e1+e2)))**0.25\n",
      "    return out2[T_s].subs([(T_e, Te), (e_1, e1), (e_2, e2)])\n",
      "def T1(Te, e1, e2):\n",
      "    #return Te*((2+e2-e1*e2)/(4+e1*e2-2*(e1+e2)))**0.25\n",
      "    return out2[T_1].subs([(T_e, Te), (e_1, e1), (e_2, e2)])\n",
      "def T2(Te, e1, e2):\n",
      "    #return Te*(1/(2-e2))**0.25\n",
      "    return out2[T_2].subs([(T_e, Te), (e_1, e1), (e_2, e2)])"
     ],
     "language": "python",
     "metadata": {},
     "outputs": [],
     "prompt_number": 6
    },
    {
     "cell_type": "code",
     "collapsed": false,
     "input": [
      "%matplotlib inline\n",
      "import numpy as np\n",
      "from climlab import constants as const\n",
      "from climlab.model import column"
     ],
     "language": "python",
     "metadata": {},
     "outputs": [],
     "prompt_number": 7
    },
    {
     "cell_type": "code",
     "collapsed": false,
     "input": [
      "mycolumn = column.SingleColumnModel( num_levels=2 )"
     ],
     "language": "python",
     "metadata": {},
     "outputs": [],
     "prompt_number": 8
    },
    {
     "cell_type": "code",
     "collapsed": false,
     "input": [
      "print mycolumn"
     ],
     "language": "python",
     "metadata": {},
     "outputs": [
      {
       "output_type": "stream",
       "stream": "stdout",
       "text": [
        "climlab Process of type <class 'climlab.model.column.SingleColumnModel'>. \n",
        "State variables and domain shapes: \n",
        "  Tatm: (2,) \n",
        "  Ts: (1,) \n",
        "The subprocess tree: \n",
        "top: <class 'climlab.model.column.SingleColumnModel'>\n",
        "   LW: <class 'climlab.radiation.grey_radiation.GreyRadiation_LW'>\n",
        "   SW: <class 'climlab.radiation.grey_radiation.GreyRadiation_SW'>\n",
        "   insolation: <class 'climlab.radiation.insolation.FixedInsolation'>\n",
        "\n"
       ]
      }
     ],
     "prompt_number": 9
    },
    {
     "cell_type": "code",
     "collapsed": false,
     "input": [
      "mycolumn.integrate_years(10.)"
     ],
     "language": "python",
     "metadata": {},
     "outputs": [
      {
       "output_type": "stream",
       "stream": "stdout",
       "text": [
        "Integrating for 3652 steps, 3652.422 days, or 10.0 years.\n",
        "Total elapsed time is 9.99884460229 years."
       ]
      },
      {
       "output_type": "stream",
       "stream": "stdout",
       "text": [
        "\n"
       ]
      }
     ],
     "prompt_number": 10
    },
    {
     "cell_type": "code",
     "collapsed": false,
     "input": [
      "print mycolumn.Ts\n",
      "print mycolumn.Tatm"
     ],
     "language": "python",
     "metadata": {},
     "outputs": [
      {
       "output_type": "stream",
       "stream": "stdout",
       "text": [
        "[ 287.85078874]\n",
        "[ 252.95434881  229.44020347]\n"
       ]
      }
     ],
     "prompt_number": 11
    },
    {
     "cell_type": "code",
     "collapsed": false,
     "input": [
      "(e1, e2)= mycolumn.subprocess['LW'].absorptivity\n",
      "print e1, e2"
     ],
     "language": "python",
     "metadata": {},
     "outputs": [
      {
       "output_type": "stream",
       "stream": "stdout",
       "text": [
        "0.477374247427 0.477374247427\n"
       ]
      }
     ],
     "prompt_number": 12
    },
    {
     "cell_type": "code",
     "collapsed": false,
     "input": [
      "ASR = (1-mycolumn.param['albedo_sfc'])*mycolumn.param['Q']\n",
      "Te = (ASR/const.sigma)**0.25\n",
      "print Te"
     ],
     "language": "python",
     "metadata": {},
     "outputs": [
      {
       "output_type": "stream",
       "stream": "stdout",
       "text": [
        "254.869467654\n"
       ]
      }
     ],
     "prompt_number": 13
    },
    {
     "cell_type": "markdown",
     "metadata": {},
     "source": [
      "## Check numerical versus analytical results\n",
      "\n",
      "Use a tolerance value to test if the results are the same."
     ]
    },
    {
     "cell_type": "code",
     "collapsed": false,
     "input": [
      "tol = 0.01\n",
      "\n",
      "def test_2level(col):\n",
      "    (e1, e2)= col.subprocess['LW'].absorptivity\n",
      "    ASR = (1-col.param['albedo_sfc'])*col.param['Q']\n",
      "    Te = (ASR/const.sigma)**0.25\n",
      "    print 'Surface:'\n",
      "    num = col.Ts\n",
      "    anal = Ts(Te,e1,e2)\n",
      "    print '  Numerical: %.2f   Analytical: %.2f    Same:' %(num, anal) , abs(num - anal)<tol\n",
      "    print 'Level 1'\n",
      "    num = col.Tatm[0]\n",
      "    anal = T1(Te,e1,e2)\n",
      "    print '  Numerical: %.2f   Analytical: %.2f    Same:' %(num, anal) , abs(num - anal)<tol\n",
      "    print 'Level 2'\n",
      "    num = col.Tatm[1]\n",
      "    anal = T2(Te,e1,e2)\n",
      "    print '  Numerical: %.2f   Analytical: %.2f    Same:' %(num, anal) , abs(num - anal)<tol"
     ],
     "language": "python",
     "metadata": {},
     "outputs": [],
     "prompt_number": 14
    },
    {
     "cell_type": "code",
     "collapsed": false,
     "input": [
      "test_2level(mycolumn)"
     ],
     "language": "python",
     "metadata": {},
     "outputs": [
      {
       "output_type": "stream",
       "stream": "stdout",
       "text": [
        "Surface:\n",
        "  Numerical: 287.85   Analytical: 287.85    Same: [ True]\n",
        "Level 1\n",
        "  Numerical: 252.95   Analytical: 252.95    Same: True\n",
        "Level 2\n",
        "  Numerical: 229.44   Analytical: 229.44    Same: True\n"
       ]
      }
     ],
     "prompt_number": 15
    },
    {
     "cell_type": "code",
     "collapsed": false,
     "input": [
      "e1 = 0.3\n",
      "e2 = 0.4\n",
      "mycolumn.subprocess['LW'].absorptivity = np.array([e1,e2])\n",
      "mycolumn.integrate_years(10.)"
     ],
     "language": "python",
     "metadata": {},
     "outputs": [
      {
       "output_type": "stream",
       "stream": "stdout",
       "text": [
        "Integrating for 3652 steps, 3652.422 days, or 10.0 years.\n",
        "Total elapsed time is 19.9976892046 years."
       ]
      },
      {
       "output_type": "stream",
       "stream": "stdout",
       "text": [
        "\n"
       ]
      }
     ],
     "prompt_number": 16
    },
    {
     "cell_type": "code",
     "collapsed": false,
     "input": [
      "test_2level(mycolumn)"
     ],
     "language": "python",
     "metadata": {},
     "outputs": [
      {
       "output_type": "stream",
       "stream": "stdout",
       "text": [
        "Surface:\n",
        "  Numerical: 278.54   Analytical: 278.54    Same: [ True]\n",
        "Level 1\n",
        "  Numerical: 243.87   Analytical: 243.87    Same: True\n",
        "Level 2\n",
        "  Numerical: 226.61   Analytical: 226.61    Same: True\n"
       ]
      }
     ],
     "prompt_number": 17
    },
    {
     "cell_type": "code",
     "collapsed": false,
     "input": [
      "e1 = 0.6\n",
      "e2 = 0.6\n",
      "mycolumn.subprocess['LW'].absorptivity = np.array([e1,e2])\n",
      "mycolumn.integrate_years(10.)\n",
      "test_2level(mycolumn)"
     ],
     "language": "python",
     "metadata": {},
     "outputs": [
      {
       "output_type": "stream",
       "stream": "stdout",
       "text": [
        "Integrating for 3652 steps, 3652.422 days, or 10.0 years.\n",
        "Total elapsed time is 29.9965338069 years."
       ]
      },
      {
       "output_type": "stream",
       "stream": "stdout",
       "text": [
        "\n",
        "Surface:\n",
        "  Numerical: 297.53   Analytical: 297.53    Same: [ True]\n",
        "Level 1\n",
        "  Numerical: 263.52   Analytical: 263.52    Same: True\n",
        "Level 2\n",
        "  Numerical: 234.31   Analytical: 234.31    Same: True\n"
       ]
      }
     ],
     "prompt_number": 18
    },
    {
     "cell_type": "code",
     "collapsed": false,
     "input": [
      "col1 = column.SingleColumnModel(num_levels=2, abs_coeff=1.9E-4)\n",
      "(e1, e2) = col1.subprocess['LW'].absorptivity\n",
      "print e1, e2\n",
      "col1.integrate_years(10.)\n",
      "test_2level(col1)"
     ],
     "language": "python",
     "metadata": {},
     "outputs": [
      {
       "output_type": "stream",
       "stream": "stdout",
       "text": [
        "0.652920962199 0.652920962199\n",
        "Integrating for 3652 steps, 3652.422 days, or 10.0 years.\n",
        "Total elapsed time is 9.99884460229 years."
       ]
      },
      {
       "output_type": "stream",
       "stream": "stdout",
       "text": [
        "\n",
        "Surface:\n",
        "  Numerical: 301.93   Analytical: 301.93    Same: [ True]\n",
        "Level 1\n",
        "  Numerical: 268.25   Analytical: 268.25    Same: True\n",
        "Level 2\n",
        "  Numerical: 236.58   Analytical: 236.58    Same: True\n"
       ]
      }
     ],
     "prompt_number": 19
    },
    {
     "cell_type": "code",
     "collapsed": false,
     "input": [
      "col1 = column.SingleColumnModel(num_levels=2, abs_coeff=1.9E-4)\n",
      "lw = col1.subprocess['LW']\n",
      "(e1, e2) = lw.absorptivity\n",
      "e1 *= 1.2\n",
      "lw.absorptivity = np.array([e1, e2])\n",
      "col1.integrate_years(10.)\n",
      "test_2level(col1)"
     ],
     "language": "python",
     "metadata": {},
     "outputs": [
      {
       "output_type": "stream",
       "stream": "stdout",
       "text": [
        "Integrating for 3652 steps, 3652.422 days, or 10.0 years.\n",
        "Total elapsed time is 9.99884460229 years."
       ]
      },
      {
       "output_type": "stream",
       "stream": "stdout",
       "text": [
        "\n",
        "Surface:\n",
        "  Numerical: 307.86   Analytical: 307.86    Same: [ True]\n",
        "Level 1\n",
        "  Numerical: 272.50   Analytical: 272.50    Same: True\n",
        "Level 2\n",
        "  Numerical: 236.58   Analytical: 236.58    Same: True\n"
       ]
      }
     ],
     "prompt_number": 20
    },
    {
     "cell_type": "markdown",
     "metadata": {},
     "source": [
      "### Conclusion: The Two-level model works"
     ]
    },
    {
     "cell_type": "markdown",
     "metadata": {},
     "source": [
      "## Three-layer model\n",
      "\n",
      "Extend the analysis to three layers.\n",
      "Start numbering the layers from 0 to be consistent with array indexing.\n"
     ]
    },
    {
     "cell_type": "code",
     "collapsed": false,
     "input": [
      "T_s, T_0, T_1, T_2, T_e, epsilon_0, epsilon_1, epsilon_2, sigma = \\\n",
      "    sympy.symbols('T_s, T_0, T_1, T_2, T_e, epsilon_0, epsilon_1, epsilon_2, sigma', positive=True )"
     ],
     "language": "python",
     "metadata": {},
     "outputs": [],
     "prompt_number": 21
    },
    {
     "cell_type": "markdown",
     "metadata": {},
     "source": [
      "Define the transmissivities $\\tau_i$ for layers $i=0, 1, \\dots, N-1$"
     ]
    },
    {
     "cell_type": "code",
     "collapsed": false,
     "input": [
      "tau_0 = (1-epsilon_0)\n",
      "tau_1 = (1-epsilon_1)\n",
      "tau_2 = (1-epsilon_2)\n",
      "tau_0, tau_1, tau_2"
     ],
     "language": "python",
     "metadata": {},
     "outputs": [
      {
       "latex": [
        "$$\\left ( - \\epsilon_{0} + 1, \\quad - \\epsilon_{1} + 1, \\quad - \\epsilon_{2} + 1\\right )$$"
       ],
       "metadata": {},
       "output_type": "pyout",
       "png": "[encoded data removed]",
       "prompt_number": 22,
       "text": [
        "(-\u03b5\u2080 + 1, -\u03b5\u2081 + 1, -\u03b5\u2082 + 1)"
       ]
      }
     ],
     "prompt_number": 22
    },
    {
     "cell_type": "markdown",
     "metadata": {},
     "source": [
      "Note that if the atmosphere has $N$ layers then $\\epsilon_N = 0$\n",
      "\n",
      "Define the emissions for each layer:"
     ]
    },
    {
     "cell_type": "code",
     "collapsed": false,
     "input": [
      "E_s = sigma*T_s**4\n",
      "E_0 = epsilon_0*sigma*T_0**4\n",
      "E_1 = epsilon_1*sigma*T_1**4\n",
      "E_2 = epsilon_2*sigma*T_2**4\n",
      "E_s, E_0, E_1, E_2"
     ],
     "language": "python",
     "metadata": {},
     "outputs": [
      {
       "latex": [
        "$$\\left ( T_{s}^{4} \\sigma, \\quad T_{0}^{4} \\epsilon_{0} \\sigma, \\quad T_{1}^{4} \\epsilon_{1} \\sigma, \\quad T_{2}^{4} \\epsilon_{2} \\sigma\\right )$$"
       ],
       "metadata": {},
       "output_type": "pyout",
       "png": "[encoded data removed]",
       "prompt_number": 23,
       "text": [
        "\u239b   4      4         4         4     \u239e\n",
        "\u239dT_s \u22c5\u03c3, T\u2080 \u22c5\u03b5\u2080\u22c5\u03c3, T\u2081 \u22c5\u03b5\u2081\u22c5\u03c3, T\u2082 \u22c5\u03b5\u2082\u22c5\u03c3\u23a0"
       ]
      }
     ],
     "prompt_number": 23
    },
    {
     "cell_type": "markdown",
     "metadata": {},
     "source": [
      "Define the longwave fluxes incident on each layer, $F_{i}$\n",
      "\n",
      "Note that if the atmosphere has $N$ layers then $F_{N}$ is the OLR (emission to space)"
     ]
    },
    {
     "cell_type": "code",
     "collapsed": false,
     "input": [
      "F_s = E_0 + tau_0*E_1 + tau_0*tau_1*E_2\n",
      "F_0 = E_s + E_1 + tau_1*E_2\n",
      "F_1 = tau_0*E_s + E_0 + E_2\n",
      "F_2 = tau_1*tau_0*E_s + tau_1*E_0 + E_1\n",
      "F_3 = tau_2*tau_1*tau_0*E_s + tau_2*tau_1*E_0 + tau_2*E_1 + E_2\n",
      "\n",
      "F_s, F_0, F_1, F_2, F_3"
     ],
     "language": "python",
     "metadata": {},
     "outputs": [
      {
       "latex": [
        "$$\\left ( T_{0}^{4} \\epsilon_{0} \\sigma + T_{1}^{4} \\epsilon_{1} \\sigma \\left(- \\epsilon_{0} + 1\\right) + T_{2}^{4} \\epsilon_{2} \\sigma \\left(- \\epsilon_{0} + 1\\right) \\left(- \\epsilon_{1} + 1\\right), \\quad T_{1}^{4} \\epsilon_{1} \\sigma + T_{2}^{4} \\epsilon_{2} \\sigma \\left(- \\epsilon_{1} + 1\\right) + T_{s}^{4} \\sigma, \\quad T_{0}^{4} \\epsilon_{0} \\sigma + T_{2}^{4} \\epsilon_{2} \\sigma + T_{s}^{4} \\sigma \\left(- \\epsilon_{0} + 1\\right), \\quad T_{0}^{4} \\epsilon_{0} \\sigma \\left(- \\epsilon_{1} + 1\\right) + T_{1}^{4} \\epsilon_{1} \\sigma + T_{s}^{4} \\sigma \\left(- \\epsilon_{0} + 1\\right) \\left(- \\epsilon_{1} + 1\\right), \\quad T_{0}^{4} \\epsilon_{0} \\sigma \\left(- \\epsilon_{1} + 1\\right) \\left(- \\epsilon_{2} + 1\\right) + T_{1}^{4} \\epsilon_{1} \\sigma \\left(- \\epsilon_{2} + 1\\right) + T_{2}^{4} \\epsilon_{2} \\sigma + T_{s}^{4} \\sigma \\left(- \\epsilon_{0} + 1\\right) \\left(- \\epsilon_{1} + 1\\right) \\left(- \\epsilon_{2} + 1\\right)\\right )$$"
       ],
       "metadata": {},
       "output_type": "pyout",
       "png": "[encoded data removed]",
       "prompt_number": 24,
       "text": [
        "\u239b  4          4                    4                             4          4 \n",
        "\u239dT\u2080 \u22c5\u03b5\u2080\u22c5\u03c3 + T\u2081 \u22c5\u03b5\u2081\u22c5\u03c3\u22c5(-\u03b5\u2080 + 1) + T\u2082 \u22c5\u03b5\u2082\u22c5\u03c3\u22c5(-\u03b5\u2080 + 1)\u22c5(-\u03b5\u2081 + 1), T\u2081 \u22c5\u03b5\u2081\u22c5\u03c3 + T\u2082 \u22c5\n",
        "\n",
        "                    4      4          4           4                4          \n",
        "\u03b5\u2082\u22c5\u03c3\u22c5(-\u03b5\u2081 + 1) + T_s \u22c5\u03c3, T\u2080 \u22c5\u03b5\u2080\u22c5\u03c3 + T\u2082 \u22c5\u03b5\u2082\u22c5\u03c3 + T_s \u22c5\u03c3\u22c5(-\u03b5\u2080 + 1), T\u2080 \u22c5\u03b5\u2080\u22c5\u03c3\u22c5(-\u03b5\u2081\n",
        "\n",
        "          4           4                          4                            \n",
        " + 1) + T\u2081 \u22c5\u03b5\u2081\u22c5\u03c3 + T_s \u22c5\u03c3\u22c5(-\u03b5\u2080 + 1)\u22c5(-\u03b5\u2081 + 1), T\u2080 \u22c5\u03b5\u2080\u22c5\u03c3\u22c5(-\u03b5\u2081 + 1)\u22c5(-\u03b5\u2082 + 1) + \n",
        "\n",
        "  4                    4           4                                \u239e\n",
        "T\u2081 \u22c5\u03b5\u2081\u22c5\u03c3\u22c5(-\u03b5\u2082 + 1) + T\u2082 \u22c5\u03b5\u2082\u22c5\u03c3 + T_s \u22c5\u03c3\u22c5(-\u03b5\u2080 + 1)\u22c5(-\u03b5\u2081 + 1)\u22c5(-\u03b5\u2082 + 1)\u23a0"
       ]
      }
     ],
     "prompt_number": 24
    },
    {
     "cell_type": "markdown",
     "metadata": {},
     "source": [
      "Now define the net absorbed longwave radiation (flux divergence) in each layer."
     ]
    },
    {
     "cell_type": "code",
     "collapsed": false,
     "input": [
      "R_s = F_s - E_s\n",
      "R_0 = epsilon_0*F_0 - 2*E_0\n",
      "R_1 = epsilon_1*F_1 - 2*E_1\n",
      "R_2 = epsilon_2*F_2 - 2*E_2\n",
      "\n",
      "R_s, R_0, R_1, R_2"
     ],
     "language": "python",
     "metadata": {},
     "outputs": [
      {
       "latex": [
        "$$\\left ( T_{0}^{4} \\epsilon_{0} \\sigma + T_{1}^{4} \\epsilon_{1} \\sigma \\left(- \\epsilon_{0} + 1\\right) + T_{2}^{4} \\epsilon_{2} \\sigma \\left(- \\epsilon_{0} + 1\\right) \\left(- \\epsilon_{1} + 1\\right) - T_{s}^{4} \\sigma, \\quad - 2 T_{0}^{4} \\epsilon_{0} \\sigma + \\epsilon_{0} \\left(T_{1}^{4} \\epsilon_{1} \\sigma + T_{2}^{4} \\epsilon_{2} \\sigma \\left(- \\epsilon_{1} + 1\\right) + T_{s}^{4} \\sigma\\right), \\quad - 2 T_{1}^{4} \\epsilon_{1} \\sigma + \\epsilon_{1} \\left(T_{0}^{4} \\epsilon_{0} \\sigma + T_{2}^{4} \\epsilon_{2} \\sigma + T_{s}^{4} \\sigma \\left(- \\epsilon_{0} + 1\\right)\\right), \\quad - 2 T_{2}^{4} \\epsilon_{2} \\sigma + \\epsilon_{2} \\left(T_{0}^{4} \\epsilon_{0} \\sigma \\left(- \\epsilon_{1} + 1\\right) + T_{1}^{4} \\epsilon_{1} \\sigma + T_{s}^{4} \\sigma \\left(- \\epsilon_{0} + 1\\right) \\left(- \\epsilon_{1} + 1\\right)\\right)\\right )$$"
       ],
       "metadata": {},
       "output_type": "pyout",
       "png": "[encoded data removed]",
       "prompt_number": 25,
       "text": [
        "\u239b  4          4                    4                               4          \n",
        "\u239dT\u2080 \u22c5\u03b5\u2080\u22c5\u03c3 + T\u2081 \u22c5\u03b5\u2081\u22c5\u03c3\u22c5(-\u03b5\u2080 + 1) + T\u2082 \u22c5\u03b5\u2082\u22c5\u03c3\u22c5(-\u03b5\u2080 + 1)\u22c5(-\u03b5\u2081 + 1) - T_s \u22c5\u03c3, - 2\u22c5T\u2080\n",
        "\n",
        "4           \u239b  4          4                     4  \u239e        4           \u239b  4  \n",
        " \u22c5\u03b5\u2080\u22c5\u03c3 + \u03b5\u2080\u22c5\u239dT\u2081 \u22c5\u03b5\u2081\u22c5\u03c3 + T\u2082 \u22c5\u03b5\u2082\u22c5\u03c3\u22c5(-\u03b5\u2081 + 1) + T_s \u22c5\u03c3\u23a0, - 2\u22c5T\u2081 \u22c5\u03b5\u2081\u22c5\u03c3 + \u03b5\u2081\u22c5\u239dT\u2080 \u22c5\u03b5\n",
        "\n",
        "        4           4            \u239e        4           \u239b  4                    \n",
        "\u2080\u22c5\u03c3 + T\u2082 \u22c5\u03b5\u2082\u22c5\u03c3 + T_s \u22c5\u03c3\u22c5(-\u03b5\u2080 + 1)\u23a0, - 2\u22c5T\u2082 \u22c5\u03b5\u2082\u22c5\u03c3 + \u03b5\u2082\u22c5\u239dT\u2080 \u22c5\u03b5\u2080\u22c5\u03c3\u22c5(-\u03b5\u2081 + 1) + T\u2081\n",
        "\n",
        "4           4                      \u239e\u239e\n",
        " \u22c5\u03b5\u2081\u22c5\u03c3 + T_s \u22c5\u03c3\u22c5(-\u03b5\u2080 + 1)\u22c5(-\u03b5\u2081 + 1)\u23a0\u23a0"
       ]
      }
     ],
     "prompt_number": 25
    },
    {
     "cell_type": "markdown",
     "metadata": {},
     "source": [
      "### Solve for radiative equilibrium\n",
      "\n",
      "Use `sympy.solve` to automatically solve the algebraic system.\n",
      "\n",
      "We will solve for the **radiative equilibrium temperatures** in two steps:\n",
      "\n",
      "- First solve for $T_i^4$, which is a purely linear problem.\n",
      "- Then take the fourth roots to solve for the temperatures."
     ]
    },
    {
     "cell_type": "code",
     "collapsed": false,
     "input": [
      "out1 = sympy.solve([R_s + sigma*T_e**4, R_0, R_1, R_2],\n",
      "            [T_s**4, T_0**4, T_1**4, T_2**4])\n",
      "out1"
     ],
     "language": "python",
     "metadata": {},
     "outputs": [
      {
       "latex": [
        "$$\\left \\{ T_{0}^{4} : \\frac{T_{e}^{4} \\left(- 2 \\epsilon_{0} \\epsilon_{1} \\epsilon_{2} + 2 \\epsilon_{0} \\epsilon_{1} + 2 \\epsilon_{0} \\epsilon_{2} + 3 \\epsilon_{1} \\epsilon_{2} - 2 \\epsilon_{1} - 2 \\epsilon_{2} - 4\\right)}{\\epsilon_{0} \\epsilon_{1} \\epsilon_{2} - 2 \\epsilon_{0} \\epsilon_{1} - 2 \\epsilon_{0} \\epsilon_{2} + 4 \\epsilon_{0} - 2 \\epsilon_{1} \\epsilon_{2} + 4 \\epsilon_{1} + 4 \\epsilon_{2} - 8}, \\quad T_{1}^{4} : \\frac{T_{e}^{4} \\left(- \\epsilon_{1} \\epsilon_{2} + \\epsilon_{2} + 2\\right)}{\\epsilon_{1} \\epsilon_{2} - 2 \\epsilon_{1} - 2 \\epsilon_{2} + 4}, \\quad T_{2}^{4} : - \\frac{T_{e}^{4}}{\\epsilon_{2} - 2}, \\quad T_{s}^{4} : \\frac{2 T_{e}^{4} \\left(- \\epsilon_{0} \\epsilon_{1} \\epsilon_{2} + \\epsilon_{0} \\epsilon_{1} + \\epsilon_{0} \\epsilon_{2} + \\epsilon_{1} \\epsilon_{2} - 4\\right)}{\\epsilon_{0} \\epsilon_{1} \\epsilon_{2} - 2 \\epsilon_{0} \\epsilon_{1} - 2 \\epsilon_{0} \\epsilon_{2} + 4 \\epsilon_{0} - 2 \\epsilon_{1} \\epsilon_{2} + 4 \\epsilon_{1} + 4 \\epsilon_{2} - 8}\\right \\}$$"
       ],
       "metadata": {},
       "output_type": "pyout",
       "png": "[encoded data removed]",
       "prompt_number": 26,
       "text": [
        "\u23a7       4                                                                     \n",
        "\u23aa  4  T\u2091 \u22c5(-2\u22c5\u03b5\u2080\u22c5\u03b5\u2081\u22c5\u03b5\u2082 + 2\u22c5\u03b5\u2080\u22c5\u03b5\u2081 + 2\u22c5\u03b5\u2080\u22c5\u03b5\u2082 + 3\u22c5\u03b5\u2081\u22c5\u03b5\u2082 - 2\u22c5\u03b5\u2081 - 2\u22c5\u03b5\u2082 - 4)    4  \n",
        "\u23a8T\u2080 : \u2500\u2500\u2500\u2500\u2500\u2500\u2500\u2500\u2500\u2500\u2500\u2500\u2500\u2500\u2500\u2500\u2500\u2500\u2500\u2500\u2500\u2500\u2500\u2500\u2500\u2500\u2500\u2500\u2500\u2500\u2500\u2500\u2500\u2500\u2500\u2500\u2500\u2500\u2500\u2500\u2500\u2500\u2500\u2500\u2500\u2500\u2500\u2500\u2500\u2500\u2500\u2500\u2500\u2500\u2500\u2500\u2500\u2500\u2500\u2500\u2500\u2500\u2500\u2500\u2500, T\u2081 : \n",
        "\u23aa      \u03b5\u2080\u22c5\u03b5\u2081\u22c5\u03b5\u2082 - 2\u22c5\u03b5\u2080\u22c5\u03b5\u2081 - 2\u22c5\u03b5\u2080\u22c5\u03b5\u2082 + 4\u22c5\u03b5\u2080 - 2\u22c5\u03b5\u2081\u22c5\u03b5\u2082 + 4\u22c5\u03b5\u2081 + 4\u22c5\u03b5\u2082 - 8        \n",
        "\u23a9                                                                             \n",
        "\n",
        "   4                             4                       4                    \n",
        " T\u2091 \u22c5(-\u03b5\u2081\u22c5\u03b5\u2082 + \u03b5\u2082 + 2)     4  -T\u2091        4           2\u22c5T\u2091 \u22c5(-\u03b5\u2080\u22c5\u03b5\u2081\u22c5\u03b5\u2082 + \u03b5\u2080\u22c5\u03b5\u2081 \n",
        "\u2500\u2500\u2500\u2500\u2500\u2500\u2500\u2500\u2500\u2500\u2500\u2500\u2500\u2500\u2500\u2500\u2500\u2500\u2500\u2500\u2500\u2500\u2500, T\u2082 : \u2500\u2500\u2500\u2500\u2500\u2500, T_s : \u2500\u2500\u2500\u2500\u2500\u2500\u2500\u2500\u2500\u2500\u2500\u2500\u2500\u2500\u2500\u2500\u2500\u2500\u2500\u2500\u2500\u2500\u2500\u2500\u2500\u2500\u2500\u2500\u2500\u2500\u2500\u2500\u2500\u2500\n",
        "\u03b5\u2081\u22c5\u03b5\u2082 - 2\u22c5\u03b5\u2081 - 2\u22c5\u03b5\u2082 + 4       \u03b5\u2082 - 2        \u03b5\u2080\u22c5\u03b5\u2081\u22c5\u03b5\u2082 - 2\u22c5\u03b5\u2080\u22c5\u03b5\u2081 - 2\u22c5\u03b5\u2080\u22c5\u03b5\u2082 + 4\u22c5\u03b5\n",
        "                                                                              \n",
        "\n",
        "                             \u23ab\n",
        "+ \u03b5\u2080\u22c5\u03b5\u2082 + \u03b5\u2081\u22c5\u03b5\u2082 - 4)         \u23aa\n",
        "\u2500\u2500\u2500\u2500\u2500\u2500\u2500\u2500\u2500\u2500\u2500\u2500\u2500\u2500\u2500\u2500\u2500\u2500\u2500\u2500\u2500\u2500\u2500\u2500\u2500\u2500\u2500\u2500\u2500\u23ac\n",
        "\u2080 - 2\u22c5\u03b5\u2081\u22c5\u03b5\u2082 + 4\u22c5\u03b5\u2081 + 4\u22c5\u03b5\u2082 - 8\u23aa\n",
        "                             \u23ad"
       ]
      }
     ],
     "prompt_number": 26
    },
    {
     "cell_type": "code",
     "collapsed": false,
     "input": [
      "quarter = sympy.Rational(1,4)\n",
      "out2 = {}\n",
      "for var4, formula in out1.iteritems():\n",
      "    var = (var4)**quarter\n",
      "    out2[var] = sympy.simplify(formula**quarter)\n",
      "out2"
     ],
     "language": "python",
     "metadata": {},
     "outputs": [
      {
       "latex": [
        "$$\\left \\{ T_{0} : T_{e} \\sqrt[4]{\\frac{- 2 \\epsilon_{0} \\epsilon_{1} \\epsilon_{2} + 2 \\epsilon_{0} \\epsilon_{1} + 2 \\epsilon_{0} \\epsilon_{2} + 3 \\epsilon_{1} \\epsilon_{2} - 2 \\epsilon_{1} - 2 \\epsilon_{2} - 4}{\\epsilon_{0} \\epsilon_{1} \\epsilon_{2} - 2 \\epsilon_{0} \\epsilon_{1} - 2 \\epsilon_{0} \\epsilon_{2} + 4 \\epsilon_{0} - 2 \\epsilon_{1} \\epsilon_{2} + 4 \\epsilon_{1} + 4 \\epsilon_{2} - 8}}, \\quad T_{1} : T_{e} \\sqrt[4]{\\frac{- \\epsilon_{1} \\epsilon_{2} + \\epsilon_{2} + 2}{\\epsilon_{1} \\epsilon_{2} - 2 \\epsilon_{1} - 2 \\epsilon_{2} + 4}}, \\quad T_{2} : T_{e} \\sqrt[4]{- \\frac{1}{\\epsilon_{2} - 2}}, \\quad T_{s} : \\sqrt[4]{2} T_{e} \\sqrt[4]{\\frac{- \\epsilon_{0} \\epsilon_{1} \\epsilon_{2} + \\epsilon_{0} \\epsilon_{1} + \\epsilon_{0} \\epsilon_{2} + \\epsilon_{1} \\epsilon_{2} - 4}{\\epsilon_{0} \\epsilon_{1} \\epsilon_{2} - 2 \\epsilon_{0} \\epsilon_{1} - 2 \\epsilon_{0} \\epsilon_{2} + 4 \\epsilon_{0} - 2 \\epsilon_{1} \\epsilon_{2} + 4 \\epsilon_{1} + 4 \\epsilon_{2} - 8}}\\right \\}$$"
       ],
       "metadata": {},
       "output_type": "pyout",
       "png": "[encoded data removed]",
       "prompt_number": 27,
       "text": [
        "\u23a7           _________________________________________________________________ \n",
        "\u23aa          \u2571   -2\u22c5\u03b5\u2080\u22c5\u03b5\u2081\u22c5\u03b5\u2082 + 2\u22c5\u03b5\u2080\u22c5\u03b5\u2081 + 2\u22c5\u03b5\u2080\u22c5\u03b5\u2082 + 3\u22c5\u03b5\u2081\u22c5\u03b5\u2082 - 2\u22c5\u03b5\u2081 - 2\u22c5\u03b5\u2082 - 4    \n",
        "\u23a8T\u2080: T\u2091\u22c54 \u2571  \u2500\u2500\u2500\u2500\u2500\u2500\u2500\u2500\u2500\u2500\u2500\u2500\u2500\u2500\u2500\u2500\u2500\u2500\u2500\u2500\u2500\u2500\u2500\u2500\u2500\u2500\u2500\u2500\u2500\u2500\u2500\u2500\u2500\u2500\u2500\u2500\u2500\u2500\u2500\u2500\u2500\u2500\u2500\u2500\u2500\u2500\u2500\u2500\u2500\u2500\u2500\u2500\u2500\u2500\u2500\u2500\u2500\u2500\u2500\u2500\u2500\u2500\u2500 ,\n",
        "\u23aa       \u2572\u2571   \u03b5\u2080\u22c5\u03b5\u2081\u22c5\u03b5\u2082 - 2\u22c5\u03b5\u2080\u22c5\u03b5\u2081 - 2\u22c5\u03b5\u2080\u22c5\u03b5\u2082 + 4\u22c5\u03b5\u2080 - 2\u22c5\u03b5\u2081\u22c5\u03b5\u2082 + 4\u22c5\u03b5\u2081 + 4\u22c5\u03b5\u2082 - 8  \n",
        "\u23a9                                                                             \n",
        "\n",
        "            _________________________             ________                    \n",
        "           \u2571     -\u03b5\u2081\u22c5\u03b5\u2082 + \u03b5\u2082 + 2                 \u2571  -1           4 ___       \u2571\n",
        " T\u2081: T\u2091\u22c54 \u2571  \u2500\u2500\u2500\u2500\u2500\u2500\u2500\u2500\u2500\u2500\u2500\u2500\u2500\u2500\u2500\u2500\u2500\u2500\u2500\u2500\u2500\u2500\u2500 , T\u2082: T\u2091\u22c54 \u2571  \u2500\u2500\u2500\u2500\u2500\u2500 , T_s: \u2572\u2571 2 \u22c5T\u2091\u22c54 \u2571 \n",
        "        \u2572\u2571   \u03b5\u2081\u22c5\u03b5\u2082 - 2\u22c5\u03b5\u2081 - 2\u22c5\u03b5\u2082 + 4          \u2572\u2571   \u03b5\u2082 - 2                 \u2572\u2571  \n",
        "                                                                              \n",
        "\n",
        "_________________________________________________________________\u23ab\n",
        "              -\u03b5\u2080\u22c5\u03b5\u2081\u22c5\u03b5\u2082 + \u03b5\u2080\u22c5\u03b5\u2081 + \u03b5\u2080\u22c5\u03b5\u2082 + \u03b5\u2081\u22c5\u03b5\u2082 - 4              \u23aa\n",
        " \u2500\u2500\u2500\u2500\u2500\u2500\u2500\u2500\u2500\u2500\u2500\u2500\u2500\u2500\u2500\u2500\u2500\u2500\u2500\u2500\u2500\u2500\u2500\u2500\u2500\u2500\u2500\u2500\u2500\u2500\u2500\u2500\u2500\u2500\u2500\u2500\u2500\u2500\u2500\u2500\u2500\u2500\u2500\u2500\u2500\u2500\u2500\u2500\u2500\u2500\u2500\u2500\u2500\u2500\u2500\u2500\u2500\u2500\u2500\u2500\u2500\u2500\u2500 \u23ac\n",
        " \u03b5\u2080\u22c5\u03b5\u2081\u22c5\u03b5\u2082 - 2\u22c5\u03b5\u2080\u22c5\u03b5\u2081 - 2\u22c5\u03b5\u2080\u22c5\u03b5\u2082 + 4\u22c5\u03b5\u2080 - 2\u22c5\u03b5\u2081\u22c5\u03b5\u2082 + 4\u22c5\u03b5\u2081 + 4\u22c5\u03b5\u2082 - 8 \u23aa\n",
        "                                                                 \u23ad"
       ]
      }
     ],
     "prompt_number": 27
    },
    {
     "cell_type": "markdown",
     "metadata": {},
     "source": [
      "Now wrap these analytical radiative equilibrium solutions in callable functions:"
     ]
    },
    {
     "cell_type": "code",
     "collapsed": false,
     "input": [
      "def Ts(Te, e0, e1, e2):\n",
      "    return out2[T_s].subs([(T_e, Te), (epsilon_0, e0), (epsilon_1, e1), (epsilon_2, e2)])\n",
      "def T0(Te, e0, e1, e2):\n",
      "    return out2[T_0].subs([(T_e, Te), (epsilon_0, e0), (epsilon_1, e1), (epsilon_2, e2)])\n",
      "def T1(Te, e0, e1, e2):\n",
      "    return out2[T_1].subs([(T_e, Te), (epsilon_0, e0), (epsilon_1, e1), (epsilon_2, e2)])\n",
      "def T2(Te, e0, e1, e2):\n",
      "    return out2[T_2].subs([(T_e, Te), (epsilon_0, e0), (epsilon_1, e1), (epsilon_2, e2)])"
     ],
     "language": "python",
     "metadata": {},
     "outputs": [],
     "prompt_number": 28
    },
    {
     "cell_type": "markdown",
     "metadata": {},
     "source": [
      "### Compare numerical and analytical solutions for radiative equilibrium\n",
      "\n",
      "Define a function that takes a `climlab.column.SingleColumnModel` object (which should be first integrated out to equilibrium), and compares the numerical solution to our analytical solution."
     ]
    },
    {
     "cell_type": "code",
     "collapsed": false,
     "input": [
      "tol = 0.01\n",
      "\n",
      "def test_3level(col):\n",
      "    (e0, e1, e2)= col.subprocess['LW'].absorptivity\n",
      "    ASR = (1-col.param['albedo_sfc'])*col.param['Q']\n",
      "    Te = (ASR/const.sigma)**0.25\n",
      "    print 'Surface:'\n",
      "    num = col.Ts\n",
      "    anal = Ts(Te,e0,e1,e2)\n",
      "    print '  Numerical: %.2f   Analytical: %.2f    Same:' %(num, anal) , abs(num - anal)<tol\n",
      "    print 'Level 0'\n",
      "    num = col.Tatm[0]\n",
      "    anal = T0(Te,e0,e1,e2)\n",
      "    print '  Numerical: %.2f   Analytical: %.2f    Same:' %(num, anal) , abs(num - anal)<tol\n",
      "    print 'Level 1'\n",
      "    num = col.Tatm[1]\n",
      "    anal = T1(Te,e0,e1,e2)\n",
      "    print '  Numerical: %.2f   Analytical: %.2f    Same:' %(num, anal) , abs(num - anal)<tol\n",
      "    print 'Level 2'\n",
      "    num = col.Tatm[2]\n",
      "    anal = T2(Te,e0,e1,e2)\n",
      "    print '  Numerical: %.2f   Analytical: %.2f    Same:' %(num, anal) , abs(num - anal)<tol"
     ],
     "language": "python",
     "metadata": {},
     "outputs": [],
     "prompt_number": 29
    },
    {
     "cell_type": "code",
     "collapsed": false,
     "input": [
      "col = column.SingleColumnModel( num_levels=3 )\n",
      "col.integrate_years(10.)\n",
      "test_3level(col)"
     ],
     "language": "python",
     "metadata": {},
     "outputs": [
      {
       "output_type": "stream",
       "stream": "stdout",
       "text": [
        "Integrating for 3652 steps, 3652.422 days, or 10.0 years.\n",
        "Total elapsed time is 9.99884460229 years."
       ]
      },
      {
       "output_type": "stream",
       "stream": "stdout",
       "text": [
        "\n",
        "Surface:\n",
        "  Numerical: 287.85   Analytical: 287.85    Same: [ True]\n",
        "Level 0\n",
        "  Numerical: 256.29   Analytical: 256.29    Same:"
       ]
      },
      {
       "output_type": "stream",
       "stream": "stdout",
       "text": [
        " True\n",
        "Level 1\n",
        "  Numerical: 242.05   Analytical: 242.05    Same: True\n",
        "Level 2\n",
        "  Numerical: 224.73   Analytical: 224.73    Same: True\n"
       ]
      }
     ],
     "prompt_number": 30
    },
    {
     "cell_type": "code",
     "collapsed": false,
     "input": [
      "e0 = 0.3\n",
      "e1 = 0.6\n",
      "e2 = 0.2\n",
      "col.subprocess['LW'].absorptivity = np.array([e0,e1,e2])\n",
      "col.integrate_years(10.)\n",
      "test_3level(col)"
     ],
     "language": "python",
     "metadata": {},
     "outputs": [
      {
       "output_type": "stream",
       "stream": "stdout",
       "text": [
        "Integrating for 3652 steps, 3652.422 days, or 10.0 years.\n",
        "Total elapsed time is 19.9976892046 years."
       ]
      },
      {
       "output_type": "stream",
       "stream": "stdout",
       "text": [
        "\n",
        "Surface:\n",
        "  Numerical: 291.71   Analytical: 291.71    Same: [ True]\n",
        "Level 0\n",
        "  Numerical: 262.66   Analytical: 262.66    Same:"
       ]
      },
      {
       "output_type": "stream",
       "stream": "stdout",
       "text": [
        " True\n",
        "Level 1\n",
        "  Numerical: 242.93   Analytical: 242.93    Same: True\n",
        "Level 2\n",
        "  Numerical: 220.04   Analytical: 220.04    Same: True\n"
       ]
      }
     ],
     "prompt_number": 31
    },
    {
     "cell_type": "markdown",
     "metadata": {},
     "source": [
      "### Conclusion: The three-level model works"
     ]
    },
    {
     "cell_type": "code",
     "collapsed": false,
     "input": [
      "# The 3-layer solution reduces to two layer solution if we set e_2 = 0\n",
      "out3 = {}\n",
      "for var, formula in out2.iteritems():\n",
      "    if var is not T_2:\n",
      "        out3[var] = sympy.simplify(formula.subs(epsilon_2,0))\n",
      "out3"
     ],
     "language": "python",
     "metadata": {},
     "outputs": [
      {
       "latex": [
        "$$\\left \\{ T_{0} : T_{e} \\sqrt[4]{\\frac{- \\epsilon_{0} \\epsilon_{1} + \\epsilon_{1} + 2}{\\epsilon_{0} \\epsilon_{1} - 2 \\epsilon_{0} - 2 \\epsilon_{1} + 4}}, \\quad T_{1} : T_{e} \\sqrt[4]{- \\frac{1}{\\epsilon_{1} - 2}}, \\quad T_{s} : T_{e} \\sqrt[4]{\\frac{- \\epsilon_{0} \\epsilon_{1} + 4}{\\epsilon_{0} \\epsilon_{1} - 2 \\epsilon_{0} - 2 \\epsilon_{1} + 4}}\\right \\}$$"
       ],
       "metadata": {},
       "output_type": "pyout",
       "png": "[encoded data removed]",
       "prompt_number": 32,
       "text": [
        "\u23a7           _________________________             ________              ______\n",
        "\u23aa          \u2571     -\u03b5\u2080\u22c5\u03b5\u2081 + \u03b5\u2081 + 2                 \u2571  -1                 \u2571      \n",
        "\u23a8T\u2080: T\u2091\u22c54 \u2571  \u2500\u2500\u2500\u2500\u2500\u2500\u2500\u2500\u2500\u2500\u2500\u2500\u2500\u2500\u2500\u2500\u2500\u2500\u2500\u2500\u2500\u2500\u2500 , T\u2081: T\u2091\u22c54 \u2571  \u2500\u2500\u2500\u2500\u2500\u2500 , T_s: T\u2091\u22c54 \u2571  \u2500\u2500\u2500\u2500\u2500\n",
        "\u23aa       \u2572\u2571   \u03b5\u2080\u22c5\u03b5\u2081 - 2\u22c5\u03b5\u2080 - 2\u22c5\u03b5\u2081 + 4          \u2572\u2571   \u03b5\u2081 - 2           \u2572\u2571   \u03b5\u2080\u22c5\u03b5\u2081\n",
        "\u23a9                                                                             \n",
        "\n",
        "___________________\u23ab\n",
        "  -\u03b5\u2080\u22c5\u03b5\u2081 + 4       \u23aa\n",
        "\u2500\u2500\u2500\u2500\u2500\u2500\u2500\u2500\u2500\u2500\u2500\u2500\u2500\u2500\u2500\u2500\u2500\u2500 \u23ac\n",
        " - 2\u22c5\u03b5\u2080 - 2\u22c5\u03b5\u2081 + 4 \u23aa\n",
        "                   \u23ad"
       ]
      }
     ],
     "prompt_number": 32
    },
    {
     "cell_type": "markdown",
     "metadata": {},
     "source": [
      "## Generalizing to N layers\n",
      "\n",
      "\\begin{align}\n",
      "E_i &= \\epsilon_i \\sigma T_i^4  \\\\\n",
      "F_i &= ... + \\tau_{i+2} \\tau_{i+1} E_{i+3} + \\tau_{i+1} E_{i+2} + E_{i+1} + E_{i-1} + \\tau_{i-1} E_{i-2} + \\tau_{i-1} \\tau_{i-2} E_{i-3} + ... \\\\\n",
      "F_i &= \\sum_{n=2}^{N-i} \\bigg( \\prod_{j=1}^{n-1} \\tau_{i+j} \\bigg) E_{i+n} + E_{i+1} + E_{i-1} + \\sum_{n=2}^{i-1} \\bigg( \\prod_{j=1}^{n-1} \\tau_{i-j} \\bigg) E_{i-n}  \\\\\n",
      " &= \\sum_{n=1}^{N-i} \\bigg( \\prod_{j=0}^{n-1} \\tau_{i+j} \\bigg) E_{i+n} / \\tau_{i}  + \\sum_{n=1}^{i-1} \\bigg( \\prod_{j=0}^{n-1} \\tau_{i-j} \\bigg) E_{i-n} / \\tau_i \\\\\n",
      " &= \\frac{1}{\\tau_i} \\left\\{ \\sum_{n=1}^{N-i} \\bigg( \\prod_{j=0}^{n-1} \\tau_{i+j} \\bigg) E_{i+n} + \\sum_{n=1}^{i-1} \\bigg( \\prod_{j=0}^{n-1} \\tau_{i-j} \\bigg) E_{i-n}  \\right\\} \n",
      "\\end{align}\n",
      "\n",
      "Now substitute $n \\rightarrow -n$ in the second summation.\n",
      "\n",
      "\\begin{align}\n",
      "F_i &= \\frac{1}{\\tau_i} \\left\\{ \\sum_{n=1}^{N-i} \\bigg( \\prod_{j=0}^{n-1} \\tau_{i+j} \\bigg) E_{i+n} + \\sum_{-n=1}^{i-1} \\bigg( \\prod_{j=0}^{-n-1} \\tau_{i-j} \\bigg) E_{i+n}  \\right\\}  \\\\\n",
      " &= \\frac{1}{\\tau_i} \\left\\{ \\sum_{n=1}^{N-i} \\bigg( \\prod_{j=0}^{n-1} \\tau_{i+j} \\bigg) E_{i+n} + \\sum_{n=1-i}^{-1} \\bigg( \\prod_{j=0}^{-n-1} \\tau_{i-j} \\bigg) E_{i+n}  \\right\\} \n",
      "\\end{align}\n",
      "\n",
      "And substitude $j \\rightarrow -j$ in the second product.\n",
      "\n",
      "\\begin{align}\n",
      "F_i &= \\frac{1}{\\tau_i} \\left\\{ \\sum_{n=1}^{N-i} \\bigg( \\prod_{j=0}^{n-1} \\tau_{i+j} \\bigg) E_{i+n} + \\sum_{n=1-i}^{-1} \\bigg( \\prod_{-j=0}^{-n-1} \\tau_{i+j} \\bigg) E_{i+n}  \\right\\} \\\\\n",
      "  &= \\frac{1}{\\tau_i} \\left\\{ \\sum_{n=1}^{N-i} \\bigg( \\prod_{j=0}^{n-1} \\tau_{i+j} \\bigg) E_{i+n} + \\sum_{n=1-i}^{-1} \\bigg( \\prod_{j=0}^{1+n} \\tau_{i+j} \\bigg) E_{i+n}  \\right\\} \\\\\n",
      "  &= \\frac{1}{\\tau_i} \\left\\{ \\sum_{n=1}^{N-i} \\bigg( \\prod_{j=0}^{|n|-1} \\tau_{i+j} \\bigg) E_{i+n} + \\sum_{n=1-i}^{-1} \\bigg( \\prod_{j=0}^{1- |n|} \\tau_{i+j} \\bigg) E_{i+n}  \\right\\} \\\\\n",
      "  &= \\frac{1}{\\tau_i} \\left\\{ \\sum_{n=1}^{N-i} \\bigg( \\prod_{j=0}^{|n|-1} \\tau_{i+j} \\bigg) E_{i+n} + \\sum_{n=1-i}^{-1} \\bigg( \\prod_{j=0}^{sign(n) (|n|-1)} \\tau_{i+j} \\bigg) E_{i+n}  \\right\\} \n",
      "\\end{align}\n",
      "\n",
      "Now combine both sums together\n",
      "\n",
      "\\begin{align}\n",
      "F_i &= \\frac{1}{\\tau_i} \\left\\{ \\sum_{n=1}^{N-i} \\bigg( \\prod_{j=0}^{|n|-1} \\tau_{i+j} \\bigg) E_{i+n} + E_i + \\sum_{n=1-i}^{-1} \\bigg( \\prod_{j=0}^{sign(n) (|n|-1)} \\tau_{i+j} \\bigg) E_{i+n}  \\right\\} - \\frac{E_i}{\\tau_i} \\\\\n",
      "   &= \\frac{1}{\\tau_i} \\left\\{ \\sum_{n=1-i}^{N-i} \\bigg( \\prod_{j=0}^{sign(n) \\big(|n|-1\\big)} \\tau_{i+j} \\bigg) E_{i+n}  - E_i \\right\\} \n",
      "\\end{align}\n",
      "\n",
      "with the convention that $\\prod_{j=0}^{-1} = 1$.\n",
      "\n",
      "Alternatively if we set $\\prod_{j=0}^{-1} = 0$ then\n",
      "\n",
      "$$ F_i = \\frac{1}{\\tau_i} \\left\\{ \\sum_{n=1-i}^{N-i} \\bigg( \\prod_{j=0}^{sign(n) \\big(|n|-1\\big)} \\tau_{i+j} \\bigg) E_{i+n} \\right\\} $$\n",
      "\n",
      "Let's use this notation since it simplifies our expressions.\n",
      "\n",
      "### Net radiation\n",
      "(absorptivity) * incident - emission\n",
      "\n",
      "\\begin{align}\n",
      "R_i &= \\epsilon_i F_i - 2 E_i  \\\\\n",
      "  &= \\frac{\\epsilon_i}{\\tau_i}  \\left\\{ \\sum_{n=1-i}^{N-i} \\bigg( \\prod_{j=0}^{sign(n) \\big(|n|-1\\big)} \\tau_{i+j} \\bigg) E_{i+n} \\right\\}  - 2 E_i\n",
      "\\end{align}"
     ]
    },
    {
     "cell_type": "markdown",
     "metadata": {},
     "source": [
      "### Alternative...\n",
      "\n",
      "We will define the **transmissivity between layer i and layer i+n **\n",
      "\n",
      "$$ T_{in} = \\left\\{ \\begin{array}{cc} \n",
      " \\prod_{j=1}^{n-1} \\tau_{i+j} &  n > 1 \\\\\n",
      " 1 &  n = 1 \\\\\n",
      " 0  &  n = 0 \\\\\n",
      " 1 & n = -1 \\\\\n",
      " \\prod_{j=1}^{-n-1} \\tau_{i-j} &  n < -1\n",
      " \\end{array} \\right\\}\n",
      " $$\n",
      "\n",
      "Then the incident flux follows directly\n",
      "\n",
      "$$ F_i = \\sum_{n=1-i}^{N-i} T_{in} E_{i+n} $$\n",
      "\n",
      "and the net radiation is\n",
      "\n",
      "\\begin{align}\n",
      "R_i &= \\epsilon_i F_i - 2 E_i  \\\\\n",
      " &= \\epsilon_i \\sum_{n=1-i}^{N-i} T_{in} E_{i+n} - 2 E_i \n",
      "\\end{align}\n",
      "\n",
      "Now make the substitution $i+n \\rightarrow m$\n",
      "\n",
      "\\begin{align}\n",
      "F_i &= \\sum_{m=1}^{N} T_{im} E_{m}  \\\\\n",
      "T_{im} &= \\left\\{ \\begin{array}{cc} \n",
      " \\prod_{j=1}^{m-i-1} \\tau_{i+j} &  m > 1+i \\\\\n",
      " 1 &  m = i+1 \\\\\n",
      " 0  &  m = i \\\\\n",
      " 1 & m = i-1 \\\\\n",
      " \\prod_{j=1}^{i-m-1} \\tau_{i-j} &  m < i-1\n",
      " \\end{array} \\right\\}\n",
      "\\end{align}\n",
      "\n",
      "Or using the Einstein summation notation, since $m$ is a repeated index, we can just write\n",
      "\n",
      "$$ F_i = T_{im} E_{m} $$\n",
      "\n",
      "and the net radiation is\n",
      "\n",
      "$$ R_i = \\epsilon_i F_i - 2 E_i $$\n"
     ]
    },
    {
     "cell_type": "code",
     "collapsed": false,
     "input": [],
     "language": "python",
     "metadata": {},
     "outputs": [],
     "prompt_number": 32
    }
   ],
   "metadata": {}
  }
 ]
}