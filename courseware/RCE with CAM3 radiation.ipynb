{
 "cells": [
  {
   "cell_type": "markdown",
   "metadata": {},
   "source": [
    "# Radiative-Convective Equilibrium with CAM3 scheme"
   ]
  },
  {
   "cell_type": "code",
   "execution_count": 1,
   "metadata": {
    "collapsed": false
   },
   "outputs": [],
   "source": [
    "%matplotlib inline\n",
    "import numpy as np\n",
    "import matplotlib.pyplot as plt\n",
    "import climlab\n",
    "from climlab import constants as const"
   ]
  },
  {
   "cell_type": "markdown",
   "metadata": {},
   "source": [
    "## Create a new custom process for RCE"
   ]
  },
  {
   "cell_type": "code",
   "execution_count": 38,
   "metadata": {
    "collapsed": true
   },
   "outputs": [],
   "source": [
    "class RCEmodel(climlab.TimeDependentProcess):\n",
    "    def __init__(self,\n",
    "                 num_lev=30,\n",
    "                 num_lat=1,\n",
    "                 lev=None,\n",
    "                 lat=None,\n",
    "                 water_depth=1.0,\n",
    "                 albedo_sfc=0.299,\n",
    "                 timestep=1. * const.seconds_per_day,\n",
    "                 # lapse rate for convective adjustment, in K / km\n",
    "                 adj_lapse_rate=6.5,\n",
    "                 # insolation\n",
    "                 Q=341.3,\n",
    "                 CO2=380.,\n",
    "                 **kwargs):\n",
    "        # Check to see if an initial state is already provided\n",
    "        #  If not, make one\n",
    "        if 'state' not in kwargs:\n",
    "            state = climlab.column_state(num_lev, num_lat, lev, lat, water_depth)\n",
    "            kwargs.update({'state': state})\n",
    "        super(RCEmodel, self).__init__(timestep=timestep, **kwargs)\n",
    "        self.param['water_depth'] = water_depth\n",
    "        self.param['albedo_sfc'] = albedo_sfc\n",
    "        self.param['Q'] = Q\n",
    "        \n",
    "        self.param['adj_lapse_rate'] = adj_lapse_rate\n",
    "        self.add_subprocess('convadj', \n",
    "            climlab.convection.convadj.ConvectiveAdjustment(state=self.state, **self.param))\n",
    "\n",
    "        #  Initialize specific humidity\n",
    "        h2o = climlab.radiation.water_vapor.ManabeWaterVapor(state=self.state, **self.param)\n",
    "        self.add_subprocess('H2O', h2o)\n",
    "        self.q = self.subprocess['H2O'].q\n",
    "        rad = climlab.radiation.CAM3Radiation(state=self.state, \n",
    "                                              q=self.q, \n",
    "                                              CO2=CO2,\n",
    "                                              insolation=Q,\n",
    "                                              aldif=albedo_sfc,\n",
    "                                              aldir=albedo_sfc,\n",
    "                                              asdif=albedo_sfc,\n",
    "                                              asdir=albedo_sfc)\n",
    "        self.add_subprocess('rad', rad)"
   ]
  },
  {
   "cell_type": "code",
   "execution_count": 39,
   "metadata": {
    "collapsed": false
   },
   "outputs": [
    {
     "name": "stdout",
     "output_type": "stream",
     "text": [
      "\n",
      " Building _cam3_radiation.so ... \n",
      "\n",
      "f2py -c -m _cam3_radiation --fcompiler=gnu95 --noopt -I/Users/Brian/climlab/src/radiation/cam3/src --f77flags=\"-DPLEV=30 -ffixed-line-length-132 -fdefault-real-8\" --f90flags=\"-DPLEV=30 -fdefault-real-8 -fno-range-check -ffree-form\" _cam3_radiation.pyf /Users/Brian/climlab/src/radiation/cam3/src/CliMT_dimensions.F90 /Users/Brian/climlab/src/radiation/cam3/src/ppgrid.F90 /Users/Brian/climlab/src/radiation/cam3/src/pmgrid.F90 /Users/Brian/climlab/src/radiation/cam3/src/prescribed_aerosols.F90 /Users/Brian/climlab/src/radiation/cam3/src/quicksort.F90 /Users/Brian/climlab/src/radiation/cam3/src/abortutils.F90 /Users/Brian/climlab/src/radiation/cam3/src/shr_kind_mod.F90 /Users/Brian/climlab/src/radiation/cam3/src/absems.F90 /Users/Brian/climlab/src/radiation/cam3/src/wv_saturation.F90 /Users/Brian/climlab/src/radiation/cam3/src/aer_optics.F90 /Users/Brian/climlab/src/radiation/cam3/src/cmparray_mod.F90 /Users/Brian/climlab/src/radiation/cam3/src/shr_const_mod.F90 /Users/Brian/climlab/src/radiation/cam3/src/physconst.F90 /Users/Brian/climlab/src/radiation/cam3/src/pkg_cldoptics.F90 /Users/Brian/climlab/src/radiation/cam3/src/gffgch.F90 /Users/Brian/climlab/src/radiation/cam3/src/chem_surfvals.F90 /Users/Brian/climlab/src/radiation/cam3/src/volcrad.F90 /Users/Brian/climlab/src/radiation/cam3/src/radae.F90 /Users/Brian/climlab/src/radiation/cam3/src/radlw.F90 /Users/Brian/climlab/src/radiation/cam3/src/radsw.F90 /Users/Brian/climlab/src/radiation/cam3/src/crm.F90 /Users/Brian/climlab/src/radiation/cam3/Driver.f90 --quiet\n"
     ]
    }
   ],
   "source": [
    "rce = RCEmodel()"
   ]
  },
  {
   "cell_type": "code",
   "execution_count": 40,
   "metadata": {
    "collapsed": false
   },
   "outputs": [
    {
     "data": {
      "text/plain": [
       "{'Tatm': Field([ 200.        ,  202.68965517,  205.37931034,  208.06896552,\n",
       "         210.75862069,  213.44827586,  216.13793103,  218.82758621,\n",
       "         221.51724138,  224.20689655,  226.89655172,  229.5862069 ,\n",
       "         232.27586207,  234.96551724,  237.65517241,  240.34482759,\n",
       "         243.03448276,  245.72413793,  248.4137931 ,  251.10344828,\n",
       "         253.79310345,  256.48275862,  259.17241379,  261.86206897,\n",
       "         264.55172414,  267.24137931,  269.93103448,  272.62068966,\n",
       "         275.31034483,  278.        ]), 'Ts': Field([ 288.])}"
      ]
     },
     "execution_count": 40,
     "metadata": {},
     "output_type": "execute_result"
    }
   ],
   "source": [
    "rce.state"
   ]
  },
  {
   "cell_type": "code",
   "execution_count": 41,
   "metadata": {
    "collapsed": false
   },
   "outputs": [],
   "source": [
    "rce.compute()"
   ]
  },
  {
   "cell_type": "code",
   "execution_count": 42,
   "metadata": {
    "collapsed": true
   },
   "outputs": [],
   "source": [
    "rce.step_forward()"
   ]
  },
  {
   "cell_type": "code",
   "execution_count": 43,
   "metadata": {
    "collapsed": false
   },
   "outputs": [
    {
     "data": {
      "text/plain": [
       "{'Tatm': Field([ 129.7658189 ,  159.94981812,  176.2845473 ,  187.94499292,\n",
       "         197.15472483,  204.83154834,  211.44985204,  217.28897115,\n",
       "         222.5281989 ,  227.28992935,  231.66167863,  235.70833058,\n",
       "         239.47940899,  243.01362751,  246.34186007,  249.48914963,\n",
       "         252.47610797,  255.3199161 ,  258.03505554,  260.63385307,\n",
       "         263.1268937 ,  265.52333847,  267.83117241,  270.05740027,\n",
       "         272.20820292,  274.28906351,  276.3048701 ,  278.26000004,\n",
       "         280.15838969,  282.00359262]), 'Ts': Field([ 282.90726705])}"
      ]
     },
     "execution_count": 43,
     "metadata": {},
     "output_type": "execute_result"
    }
   ],
   "source": [
    "rce.state"
   ]
  },
  {
   "cell_type": "code",
   "execution_count": 44,
   "metadata": {
    "collapsed": false
   },
   "outputs": [
    {
     "name": "stdout",
     "output_type": "stream",
     "text": [
      "Integrating for 365 steps, 365.2422 days, or 1 years.\n",
      "Total elapsed time is 1.00207478763 years.\n"
     ]
    }
   ],
   "source": [
    "rce.integrate_years(1)"
   ]
  },
  {
   "cell_type": "code",
   "execution_count": 45,
   "metadata": {
    "collapsed": false
   },
   "outputs": [
    {
     "data": {
      "text/plain": [
       "{'Tatm': Field([ 128.88429627,  158.86325014,  175.08701455,  186.66824866,\n",
       "         195.81541719,  203.44009066,  210.01343503,  215.81288794,\n",
       "         221.01652468,  225.74590783,  230.08795902,  234.10712134,\n",
       "         237.85258214,  241.36279207,  244.66841534,  247.7943248 ,\n",
       "         250.76099219,  253.58548182,  256.28217683,  258.86332025,\n",
       "         261.33942521,  263.7195905 ,  266.01174691,  268.2228516 ,\n",
       "         270.35904346,  272.42576839,  274.42788124,  276.36972963,\n",
       "         278.25522318,  280.08789131]), 'Ts': Field([ 280.98542692])}"
      ]
     },
     "execution_count": 45,
     "metadata": {},
     "output_type": "execute_result"
    }
   ],
   "source": [
    "rce.state"
   ]
  },
  {
   "cell_type": "code",
   "execution_count": 46,
   "metadata": {
    "collapsed": false
   },
   "outputs": [
    {
     "data": {
      "text/plain": [
       "Field([ 0.299])"
      ]
     },
     "execution_count": 46,
     "metadata": {},
     "output_type": "execute_result"
    }
   ],
   "source": [
    "rce.subprocess.rad.aldif"
   ]
  },
  {
   "cell_type": "code",
   "execution_count": 47,
   "metadata": {
    "collapsed": false
   },
   "outputs": [
    {
     "data": {
      "text/plain": [
       "array([[-0.01121003]])"
      ]
     },
     "execution_count": 47,
     "metadata": {},
     "output_type": "execute_result"
    }
   ],
   "source": [
    "rce.subprocess.rad.Output['LwToa'] + rce.subprocess.rad.Output['SwToa']"
   ]
  },
  {
   "cell_type": "code",
   "execution_count": 48,
   "metadata": {
    "collapsed": false
   },
   "outputs": [
    {
     "data": {
      "text/plain": [
       "Field([  5.00000000e-06,   5.00000000e-06,   5.00000000e-06,\n",
       "         5.00000000e-06,   5.00000000e-06,   5.00000000e-06,\n",
       "         5.58222721e-06,   1.18961333e-05,   2.25302701e-05,\n",
       "         3.90592555e-05,   6.32310320e-05,   9.69338092e-05,\n",
       "         1.42166323e-04,   2.01011739e-04,   2.75615119e-04,\n",
       "         3.68164177e-04,   4.80872975e-04,   6.15968198e-04,\n",
       "         7.75677660e-04,   9.62220737e-04,   1.17780043e-03,\n",
       "         1.42459684e-03,   1.70476183e-03,   2.02041465e-03,\n",
       "         2.37363851e-03,   2.76647781e-03,   3.20093597e-03,\n",
       "         3.67897383e-03,   4.20250844e-03,   4.77341227e-03])"
      ]
     },
     "execution_count": 48,
     "metadata": {},
     "output_type": "execute_result"
    }
   ],
   "source": [
    "rce.subprocess.rad.q"
   ]
  },
  {
   "cell_type": "code",
   "execution_count": 49,
   "metadata": {
    "collapsed": true
   },
   "outputs": [],
   "source": [
    "rce.subprocess.rad.CO2 = 600."
   ]
  },
  {
   "cell_type": "code",
   "execution_count": 50,
   "metadata": {
    "collapsed": false
   },
   "outputs": [
    {
     "data": {
      "text/plain": [
       "{'Tatm': Field([ 128.88429627,  158.86325014,  175.08701455,  186.66824866,\n",
       "         195.81541719,  203.44009066,  210.01343503,  215.81288794,\n",
       "         221.01652468,  225.74590783,  230.08795902,  234.10712134,\n",
       "         237.85258214,  241.36279207,  244.66841534,  247.7943248 ,\n",
       "         250.76099219,  253.58548182,  256.28217683,  258.86332025,\n",
       "         261.33942521,  263.7195905 ,  266.01174691,  268.2228516 ,\n",
       "         270.35904346,  272.42576839,  274.42788124,  276.36972963,\n",
       "         278.25522318,  280.08789131]), 'Ts': Field([ 280.98542692])}"
      ]
     },
     "execution_count": 50,
     "metadata": {},
     "output_type": "execute_result"
    }
   ],
   "source": [
    "rce.state"
   ]
  },
  {
   "cell_type": "code",
   "execution_count": 51,
   "metadata": {
    "collapsed": false
   },
   "outputs": [
    {
     "name": "stdout",
     "output_type": "stream",
     "text": [
      "Integrating for 365 steps, 365.2422 days, or 1.0 years.\n",
      "Total elapsed time is 2.00141166601 years.\n"
     ]
    }
   ],
   "source": [
    "rce.integrate_years()"
   ]
  },
  {
   "cell_type": "code",
   "execution_count": 52,
   "metadata": {
    "collapsed": false
   },
   "outputs": [
    {
     "data": {
      "text/plain": [
       "{'Tatm': Field([ 129.40938112,  159.51047162,  175.80033294,  187.42874991,\n",
       "         196.61318474,  204.26892173,  210.86904643,  216.69212677,\n",
       "         221.91696354,  226.66561457,  231.02535563,  235.06089233,\n",
       "         238.82161243,  242.34612324,  245.66521388,  248.80385854,\n",
       "         251.78261237,  254.6186092 ,  257.32629075,  259.91794996,\n",
       "         262.40414276,  264.79400504,  267.09549987,  269.31561278,\n",
       "         271.46050766,  273.53565258,  275.54592221,  277.49568184,\n",
       "         279.38885704,  281.22899161]), 'Ts': Field([ 282.13018384])}"
      ]
     },
     "execution_count": 52,
     "metadata": {},
     "output_type": "execute_result"
    }
   ],
   "source": [
    "rce.state"
   ]
  },
  {
   "cell_type": "code",
   "execution_count": 53,
   "metadata": {
    "collapsed": false
   },
   "outputs": [
    {
     "data": {
      "text/plain": [
       "array([[ 0.00689926]])"
      ]
     },
     "execution_count": 53,
     "metadata": {},
     "output_type": "execute_result"
    }
   ],
   "source": [
    "rce.subprocess.rad.Output['SwToa'] + rce.subprocess.rad.Output['LwToa']"
   ]
  },
  {
   "cell_type": "code",
   "execution_count": 54,
   "metadata": {
    "collapsed": false
   },
   "outputs": [
    {
     "name": "stdout",
     "output_type": "stream",
     "text": [
      "climlab Process of type <class '__main__.RCEmodel'>. \n",
      "State variables and domain shapes: \n",
      "  Tatm: (30,) \n",
      "  Ts: (1,) \n",
      "The subprocess tree: \n",
      "top: <class '__main__.RCEmodel'>\n",
      "   H2O: <class 'climlab.radiation.water_vapor.ManabeWaterVapor'>\n",
      "   rad: <class 'climlab.radiation.cam3rad.CAM3Radiation'>\n",
      "   convadj: <class 'climlab.convection.convadj.ConvectiveAdjustment'>\n",
      "\n"
     ]
    }
   ],
   "source": [
    "print rce"
   ]
  },
  {
   "cell_type": "code",
   "execution_count": null,
   "metadata": {
    "collapsed": true
   },
   "outputs": [],
   "source": []
  },
  {
   "cell_type": "markdown",
   "metadata": {},
   "source": [
    "## A simple, pure dry radiative equilibrium case"
   ]
  },
  {
   "cell_type": "code",
   "execution_count": 2,
   "metadata": {
    "collapsed": false
   },
   "outputs": [],
   "source": [
    "state = climlab.column_state(num_lev=30, num_lat=1, water_depth=5.)"
   ]
  },
  {
   "cell_type": "code",
   "execution_count": 3,
   "metadata": {
    "collapsed": false
   },
   "outputs": [
    {
     "name": "stdout",
     "output_type": "stream",
     "text": [
      "\n",
      " Building _cam3_radiation.so ... \n",
      "\n",
      "f2py -c -m _cam3_radiation --fcompiler=gnu95 --noopt -I/Users/Brian/climlab/src/radiation/cam3/src --f77flags=\"-DPLEV=30 -ffixed-line-length-132 -fdefault-real-8\" --f90flags=\"-DPLEV=30 -fdefault-real-8 -fno-range-check -ffree-form\" _cam3_radiation.pyf /Users/Brian/climlab/src/radiation/cam3/src/CliMT_dimensions.F90 /Users/Brian/climlab/src/radiation/cam3/src/ppgrid.F90 /Users/Brian/climlab/src/radiation/cam3/src/pmgrid.F90 /Users/Brian/climlab/src/radiation/cam3/src/prescribed_aerosols.F90 /Users/Brian/climlab/src/radiation/cam3/src/quicksort.F90 /Users/Brian/climlab/src/radiation/cam3/src/abortutils.F90 /Users/Brian/climlab/src/radiation/cam3/src/shr_kind_mod.F90 /Users/Brian/climlab/src/radiation/cam3/src/absems.F90 /Users/Brian/climlab/src/radiation/cam3/src/wv_saturation.F90 /Users/Brian/climlab/src/radiation/cam3/src/aer_optics.F90 /Users/Brian/climlab/src/radiation/cam3/src/cmparray_mod.F90 /Users/Brian/climlab/src/radiation/cam3/src/shr_const_mod.F90 /Users/Brian/climlab/src/radiation/cam3/src/physconst.F90 /Users/Brian/climlab/src/radiation/cam3/src/pkg_cldoptics.F90 /Users/Brian/climlab/src/radiation/cam3/src/gffgch.F90 /Users/Brian/climlab/src/radiation/cam3/src/chem_surfvals.F90 /Users/Brian/climlab/src/radiation/cam3/src/volcrad.F90 /Users/Brian/climlab/src/radiation/cam3/src/radae.F90 /Users/Brian/climlab/src/radiation/cam3/src/radlw.F90 /Users/Brian/climlab/src/radiation/cam3/src/radsw.F90 /Users/Brian/climlab/src/radiation/cam3/src/crm.F90 /Users/Brian/climlab/src/radiation/cam3/Driver.f90 --quiet\n"
     ]
    }
   ],
   "source": [
    "# with default albedo\n",
    "rce2 = climlab.radiation.CAM3Radiation(state=state)"
   ]
  },
  {
   "cell_type": "code",
   "execution_count": 4,
   "metadata": {
    "collapsed": false
   },
   "outputs": [
    {
     "data": {
      "text/plain": [
       "{'Tatm': Field([ 200.        ,  202.68965517,  205.37931034,  208.06896552,\n",
       "         210.75862069,  213.44827586,  216.13793103,  218.82758621,\n",
       "         221.51724138,  224.20689655,  226.89655172,  229.5862069 ,\n",
       "         232.27586207,  234.96551724,  237.65517241,  240.34482759,\n",
       "         243.03448276,  245.72413793,  248.4137931 ,  251.10344828,\n",
       "         253.79310345,  256.48275862,  259.17241379,  261.86206897,\n",
       "         264.55172414,  267.24137931,  269.93103448,  272.62068966,\n",
       "         275.31034483,  278.        ]), 'Ts': Field([ 288.])}"
      ]
     },
     "execution_count": 4,
     "metadata": {},
     "output_type": "execute_result"
    }
   ],
   "source": [
    "rce2.state"
   ]
  },
  {
   "cell_type": "code",
   "execution_count": 5,
   "metadata": {
    "collapsed": false
   },
   "outputs": [
    {
     "name": "stdout",
     "output_type": "stream",
     "text": [
      "Integrating for 365 steps, 365.2422 days, or 1.0 years.\n",
      "Total elapsed time is 0.999336878378 years.\n"
     ]
    }
   ],
   "source": [
    "rce2.integrate_years()"
   ]
  },
  {
   "cell_type": "code",
   "execution_count": 6,
   "metadata": {
    "collapsed": false
   },
   "outputs": [
    {
     "data": {
      "text/plain": [
       "{'Tatm': Field([ 154.08186359,  168.59844694,  176.95105684,  183.327807  ,\n",
       "         188.75950868,  193.47837045,  197.58119896,  201.42638195,\n",
       "         204.99693988,  208.31491744,  211.32744024,  214.22958184,\n",
       "         217.08250696,  219.86097677,  222.54916093,  225.16586771,\n",
       "         227.72185085,  230.21487975,  232.59737076,  234.99857746,\n",
       "         237.4862417 ,  240.03301152,  242.64256201,  245.35207319,\n",
       "         248.20248741,  251.25763415,  254.64384881,  258.38005822,\n",
       "         261.21190829,  265.58906909]), 'Ts': Field([ 281.22526044])}"
      ]
     },
     "execution_count": 6,
     "metadata": {},
     "output_type": "execute_result"
    }
   ],
   "source": [
    "rce2.state"
   ]
  },
  {
   "cell_type": "code",
   "execution_count": 7,
   "metadata": {
    "collapsed": false
   },
   "outputs": [
    {
     "name": "stdout",
     "output_type": "stream",
     "text": [
      "\n",
      " Building _cam3_radiation.so ... \n",
      "\n",
      "f2py -c -m _cam3_radiation --fcompiler=gnu95 --noopt -I/Users/Brian/climlab/src/radiation/cam3/src --f77flags=\"-DPLEV=30 -ffixed-line-length-132 -fdefault-real-8\" --f90flags=\"-DPLEV=30 -fdefault-real-8 -fno-range-check -ffree-form\" _cam3_radiation.pyf /Users/Brian/climlab/src/radiation/cam3/src/CliMT_dimensions.F90 /Users/Brian/climlab/src/radiation/cam3/src/ppgrid.F90 /Users/Brian/climlab/src/radiation/cam3/src/pmgrid.F90 /Users/Brian/climlab/src/radiation/cam3/src/prescribed_aerosols.F90 /Users/Brian/climlab/src/radiation/cam3/src/quicksort.F90 /Users/Brian/climlab/src/radiation/cam3/src/abortutils.F90 /Users/Brian/climlab/src/radiation/cam3/src/shr_kind_mod.F90 /Users/Brian/climlab/src/radiation/cam3/src/absems.F90 /Users/Brian/climlab/src/radiation/cam3/src/wv_saturation.F90 /Users/Brian/climlab/src/radiation/cam3/src/aer_optics.F90 /Users/Brian/climlab/src/radiation/cam3/src/cmparray_mod.F90 /Users/Brian/climlab/src/radiation/cam3/src/shr_const_mod.F90 /Users/Brian/climlab/src/radiation/cam3/src/physconst.F90 /Users/Brian/climlab/src/radiation/cam3/src/pkg_cldoptics.F90 /Users/Brian/climlab/src/radiation/cam3/src/gffgch.F90 /Users/Brian/climlab/src/radiation/cam3/src/chem_surfvals.F90 /Users/Brian/climlab/src/radiation/cam3/src/volcrad.F90 /Users/Brian/climlab/src/radiation/cam3/src/radae.F90 /Users/Brian/climlab/src/radiation/cam3/src/radlw.F90 /Users/Brian/climlab/src/radiation/cam3/src/radsw.F90 /Users/Brian/climlab/src/radiation/cam3/src/crm.F90 /Users/Brian/climlab/src/radiation/cam3/Driver.f90 --quiet\n"
     ]
    }
   ],
   "source": [
    "#  with altered surface albedo\n",
    "albedo_sfc = 0.3\n",
    "rce_alb = climlab.radiation.CAM3Radiation(state=state,\n",
    "                                       aldif=albedo_sfc, aldir=albedo_sfc, asdif=albedo_sfc, asdir=albedo_sfc)"
   ]
  },
  {
   "cell_type": "code",
   "execution_count": 8,
   "metadata": {
    "collapsed": true
   },
   "outputs": [],
   "source": [
    "rce_alb.do_sw = 0"
   ]
  },
  {
   "cell_type": "code",
   "execution_count": 36,
   "metadata": {
    "collapsed": false
   },
   "outputs": [
    {
     "name": "stdout",
     "output_type": "stream",
     "text": [
      "Integrating for 365 steps, 365.2422 days, or 1.0 years.\n",
      "Total elapsed time is 5.99602127027 years.\n"
     ]
    }
   ],
   "source": [
    "rce_alb.integrate_years()"
   ]
  },
  {
   "cell_type": "code",
   "execution_count": 37,
   "metadata": {
    "collapsed": false
   },
   "outputs": [
    {
     "data": {
      "text/plain": [
       "{'Tatm': Field([ 112.31425543,  134.4782358 ,  144.25142882,  151.36974529,\n",
       "         157.3798156 ,  162.66502789,  167.21378226,  171.54877329,\n",
       "         175.60304892,  179.39807624,  182.87287373,  186.23910347,\n",
       "         189.5723501 ,  192.84531772,  196.03772287,  199.1685988 ,\n",
       "         202.25077325,  205.27753582,  208.20775406,  211.16340596,\n",
       "         214.20065918,  217.30190657,  220.4676676 ,  223.73393225,\n",
       "         227.16418664,  230.81945232,  234.83807302,  239.20531161,\n",
       "         242.38736921,  247.39447734]), 'Ts': Field([ 264.7995735])}"
      ]
     },
     "execution_count": 37,
     "metadata": {},
     "output_type": "execute_result"
    }
   ],
   "source": [
    "rce_alb.state"
   ]
  },
  {
   "cell_type": "markdown",
   "metadata": {},
   "source": [
    "Surface should **not** be colder than low-level air temperature in RE! \n",
    "\n",
    "Somehow there is a bug related to changing the default albedo."
   ]
  },
  {
   "cell_type": "code",
   "execution_count": 38,
   "metadata": {
    "collapsed": false
   },
   "outputs": [
    {
     "data": {
      "text/plain": [
       "array([[ 238.91]])"
      ]
     },
     "execution_count": 38,
     "metadata": {},
     "output_type": "execute_result"
    }
   ],
   "source": [
    "rce_alb.Output['SwToa']"
   ]
  },
  {
   "cell_type": "code",
   "execution_count": 39,
   "metadata": {
    "collapsed": false
   },
   "outputs": [
    {
     "data": {
      "text/plain": [
       "238.91"
      ]
     },
     "execution_count": 39,
     "metadata": {},
     "output_type": "execute_result"
    }
   ],
   "source": [
    "(1.-albedo_sfc) * const.S0/4."
   ]
  },
  {
   "cell_type": "code",
   "execution_count": 40,
   "metadata": {
    "collapsed": false
   },
   "outputs": [
    {
     "data": {
      "text/plain": [
       "array([[-238.96786049]])"
      ]
     },
     "execution_count": 40,
     "metadata": {},
     "output_type": "execute_result"
    }
   ],
   "source": [
    "rce_alb.Output['LwToa']"
   ]
  },
  {
   "cell_type": "code",
   "execution_count": 14,
   "metadata": {
    "collapsed": false
   },
   "outputs": [
    {
     "data": {
      "text/plain": [
       "array([[ 0.]])"
      ]
     },
     "execution_count": 14,
     "metadata": {},
     "output_type": "execute_result"
    }
   ],
   "source": [
    "rce_alb.Output['SwToaCf']"
   ]
  },
  {
   "cell_type": "code",
   "execution_count": null,
   "metadata": {
    "collapsed": true
   },
   "outputs": [],
   "source": []
  }
 ],
 "metadata": {
  "kernelspec": {
   "display_name": "Python 2",
   "language": "python",
   "name": "python2"
  },
  "language_info": {
   "codemirror_mode": {
    "name": "ipython",
    "version": 2
   },
   "file_extension": ".py",
   "mimetype": "text/x-python",
   "name": "python",
   "nbconvert_exporter": "python",
   "pygments_lexer": "ipython2",
   "version": "2.7.11"
  }
 },
 "nbformat": 4,
 "nbformat_minor": 0
}
