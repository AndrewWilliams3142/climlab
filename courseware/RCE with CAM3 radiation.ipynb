{
 "cells": [
  {
   "cell_type": "markdown",
   "metadata": {},
   "source": [
    "# Radiative-Convective Equilibrium with CAM3 scheme"
   ]
  },
  {
   "cell_type": "code",
   "execution_count": 1,
   "metadata": {
    "collapsed": false
   },
   "outputs": [],
   "source": [
    "%matplotlib inline\n",
    "import numpy as np\n",
    "import matplotlib.pyplot as plt\n",
    "import climlab\n",
    "from climlab import constants as const"
   ]
  },
  {
   "cell_type": "markdown",
   "metadata": {},
   "source": [
    "## Create a new custom process for RCE"
   ]
  },
  {
   "cell_type": "code",
   "execution_count": 126,
   "metadata": {
    "collapsed": true
   },
   "outputs": [],
   "source": [
    "class RCEmodel(climlab.TimeDependentProcess):\n",
    "    def __init__(self,\n",
    "                 num_lev=30,\n",
    "                 num_lat=1,\n",
    "                 lev=None,\n",
    "                 lat=None,\n",
    "                 water_depth=1.0,\n",
    "                 albedo_sfc=0.299,\n",
    "                 timestep=1. * const.seconds_per_day,\n",
    "                 # lapse rate for convective adjustment, in K / km\n",
    "                 adj_lapse_rate=6.5,\n",
    "                 # insolation\n",
    "                 Q=341.3,\n",
    "                 CO2=380.,\n",
    "                 **kwargs):\n",
    "        # Check to see if an initial state is already provided\n",
    "        #  If not, make one\n",
    "        if 'state' not in kwargs:\n",
    "            state = climlab.column_state(num_lev, num_lat, lev, lat, water_depth)\n",
    "            kwargs.update({'state': state})\n",
    "        super(RCEmodel, self).__init__(timestep=timestep, **kwargs)\n",
    "        self.param['water_depth'] = water_depth\n",
    "        self.param['albedo_sfc'] = albedo_sfc\n",
    "        self.param['Q'] = Q\n",
    "        \n",
    "        self.param['adj_lapse_rate'] = adj_lapse_rate\n",
    "        #self.add_subprocess('convadj', \n",
    "        #    climlab.convection.convadj.ConvectiveAdjustment(state=self.state, **self.param))\n",
    "\n",
    "        #  Initialize specific humidity\n",
    "        #h2o = climlab.radiation.water_vapor.ManabeWaterVapor(state=self.state, **self.param)\n",
    "        #self.add_subprocess('H2O', h2o)\n",
    "        #self.q = self.subprocess['H2O'].q\n",
    "        rad = climlab.radiation.CAM3Radiation(state=self.state, \n",
    "                                              #q=self.q, \n",
    "                                              CO2=CO2,\n",
    "                                              insolation=Q,\n",
    "                                              aldif=albedo_sfc,\n",
    "                                              aldir=albedo_sfc,\n",
    "                                              asdif=albedo_sfc,\n",
    "                                              asdir=albedo_sfc)\n",
    "        self.add_subprocess('rad', rad)"
   ]
  },
  {
   "cell_type": "code",
   "execution_count": 127,
   "metadata": {
    "collapsed": false
   },
   "outputs": [
    {
     "name": "stdout",
     "output_type": "stream",
     "text": [
      "\n",
      " Building _cam3_radiation.so ... \n",
      "\n",
      "f2py -c -m _cam3_radiation --fcompiler=gnu95 --noopt -I/Users/Brian/climlab/src/radiation/cam3/src --f77flags=\"-DPLEV=30 -ffixed-line-length-132 -fdefault-real-8\" --f90flags=\"-DPLEV=30 -fdefault-real-8 -fno-range-check -ffree-form\" _cam3_radiation.pyf /Users/Brian/climlab/src/radiation/cam3/src/CliMT_dimensions.F90 /Users/Brian/climlab/src/radiation/cam3/src/ppgrid.F90 /Users/Brian/climlab/src/radiation/cam3/src/pmgrid.F90 /Users/Brian/climlab/src/radiation/cam3/src/prescribed_aerosols.F90 /Users/Brian/climlab/src/radiation/cam3/src/quicksort.F90 /Users/Brian/climlab/src/radiation/cam3/src/abortutils.F90 /Users/Brian/climlab/src/radiation/cam3/src/shr_kind_mod.F90 /Users/Brian/climlab/src/radiation/cam3/src/absems.F90 /Users/Brian/climlab/src/radiation/cam3/src/wv_saturation.F90 /Users/Brian/climlab/src/radiation/cam3/src/aer_optics.F90 /Users/Brian/climlab/src/radiation/cam3/src/cmparray_mod.F90 /Users/Brian/climlab/src/radiation/cam3/src/shr_const_mod.F90 /Users/Brian/climlab/src/radiation/cam3/src/physconst.F90 /Users/Brian/climlab/src/radiation/cam3/src/pkg_cldoptics.F90 /Users/Brian/climlab/src/radiation/cam3/src/gffgch.F90 /Users/Brian/climlab/src/radiation/cam3/src/chem_surfvals.F90 /Users/Brian/climlab/src/radiation/cam3/src/volcrad.F90 /Users/Brian/climlab/src/radiation/cam3/src/radae.F90 /Users/Brian/climlab/src/radiation/cam3/src/radlw.F90 /Users/Brian/climlab/src/radiation/cam3/src/radsw.F90 /Users/Brian/climlab/src/radiation/cam3/src/crm.F90 /Users/Brian/climlab/src/radiation/cam3/Driver.f90 --quiet\n"
     ]
    }
   ],
   "source": [
    "rce = RCEmodel()"
   ]
  },
  {
   "cell_type": "code",
   "execution_count": 128,
   "metadata": {
    "collapsed": false
   },
   "outputs": [
    {
     "data": {
      "text/plain": [
       "{'Tatm': Field([ 200.        ,  202.68965517,  205.37931034,  208.06896552,\n",
       "         210.75862069,  213.44827586,  216.13793103,  218.82758621,\n",
       "         221.51724138,  224.20689655,  226.89655172,  229.5862069 ,\n",
       "         232.27586207,  234.96551724,  237.65517241,  240.34482759,\n",
       "         243.03448276,  245.72413793,  248.4137931 ,  251.10344828,\n",
       "         253.79310345,  256.48275862,  259.17241379,  261.86206897,\n",
       "         264.55172414,  267.24137931,  269.93103448,  272.62068966,\n",
       "         275.31034483,  278.        ]), 'Ts': Field([ 288.])}"
      ]
     },
     "execution_count": 128,
     "metadata": {},
     "output_type": "execute_result"
    }
   ],
   "source": [
    "rce.state"
   ]
  },
  {
   "cell_type": "code",
   "execution_count": 129,
   "metadata": {
    "collapsed": false
   },
   "outputs": [],
   "source": [
    "rce.compute()"
   ]
  },
  {
   "cell_type": "code",
   "execution_count": 130,
   "metadata": {
    "collapsed": true
   },
   "outputs": [],
   "source": [
    "rce.step_forward()"
   ]
  },
  {
   "cell_type": "code",
   "execution_count": 131,
   "metadata": {
    "collapsed": false
   },
   "outputs": [
    {
     "data": {
      "text/plain": [
       "{'Tatm': Field([ 199.9993146 ,  202.6893184 ,  205.37909842,  208.0688172 ,\n",
       "         210.75851198,  213.44819277,  216.13786025,  218.82752889,\n",
       "         221.51719323,  224.2068549 ,  226.89650833,  229.58616292,\n",
       "         232.27581919,  234.96547566,  237.65513006,  240.34478341,\n",
       "         243.03443567,  245.72408719,  248.41373194,  251.1033778 ,\n",
       "         253.79302659,  256.48267471,  259.17232177,  261.86196807,\n",
       "         264.55161459,  267.24126312,  269.93091668,  272.62058994,\n",
       "         275.31020436,  277.999891  ]), 'Ts': Field([ 286.00529166])}"
      ]
     },
     "execution_count": 131,
     "metadata": {},
     "output_type": "execute_result"
    }
   ],
   "source": [
    "rce.state"
   ]
  },
  {
   "cell_type": "code",
   "execution_count": 132,
   "metadata": {
    "collapsed": false
   },
   "outputs": [
    {
     "name": "stdout",
     "output_type": "stream",
     "text": [
      "Integrating for 365 steps, 365.2422 days, or 1.0 years.\n",
      "Total elapsed time is 1.00207478763 years.\n"
     ]
    }
   ],
   "source": [
    "rce.integrate_years()"
   ]
  },
  {
   "cell_type": "code",
   "execution_count": 133,
   "metadata": {
    "collapsed": false
   },
   "outputs": [
    {
     "data": {
      "text/plain": [
       "Field([ 266.1361462])"
      ]
     },
     "execution_count": 133,
     "metadata": {},
     "output_type": "execute_result"
    }
   ],
   "source": [
    "rce.Ts"
   ]
  },
  {
   "cell_type": "code",
   "execution_count": 134,
   "metadata": {
    "collapsed": false
   },
   "outputs": [
    {
     "data": {
      "text/plain": [
       "Field([ 199.75039872,  202.56630551,  205.30095789,  208.01330573,\n",
       "        210.71690958,  213.41539205,  216.10899509,  218.80296399,\n",
       "        221.49532867,  224.18667839,  226.87498654,  229.56364349,\n",
       "        232.25284022,  234.94203148,  237.63036244,  240.31817768,\n",
       "        243.00545947,  245.69227583,  248.37639381,  251.06059382,\n",
       "        253.74544391,  256.42946104,  259.11271002,  261.79457746,\n",
       "        264.47456121,  267.15109974,  269.82142117,  272.47639893,\n",
       "        275.13470473,  277.73429311])"
      ]
     },
     "execution_count": 134,
     "metadata": {},
     "output_type": "execute_result"
    }
   ],
   "source": [
    "rce.Tatm"
   ]
  },
  {
   "cell_type": "code",
   "execution_count": 108,
   "metadata": {
    "collapsed": false
   },
   "outputs": [
    {
     "data": {
      "text/plain": [
       "Field([ 0.299])"
      ]
     },
     "execution_count": 108,
     "metadata": {},
     "output_type": "execute_result"
    }
   ],
   "source": [
    "rce.subprocess.rad.aldif"
   ]
  },
  {
   "cell_type": "code",
   "execution_count": 114,
   "metadata": {
    "collapsed": false
   },
   "outputs": [
    {
     "data": {
      "text/plain": [
       "Field([-99.])"
      ]
     },
     "execution_count": 114,
     "metadata": {},
     "output_type": "execute_result"
    }
   ],
   "source": [
    "rce.subprocess.rad.flus"
   ]
  },
  {
   "cell_type": "code",
   "execution_count": 116,
   "metadata": {
    "collapsed": false
   },
   "outputs": [
    {
     "data": {
      "text/plain": [
       "['lwuflx',\n",
       " 'SrfRadFlx',\n",
       " 'swflx',\n",
       " 'LwSrfCf',\n",
       " 'SwSrf',\n",
       " 'SwToaCf',\n",
       " 'LwSrf',\n",
       " 'SwSrfCf',\n",
       " 'lwflx',\n",
       " 'swhr',\n",
       " 'lwdflx',\n",
       " 'TdotRad',\n",
       " 'LwToaCf',\n",
       " 'SwToa',\n",
       " 'LwToa',\n",
       " 'lwhr']"
      ]
     },
     "execution_count": 116,
     "metadata": {},
     "output_type": "execute_result"
    }
   ],
   "source": [
    "rce.subprocess.rad.Output.keys()"
   ]
  },
  {
   "cell_type": "code",
   "execution_count": 135,
   "metadata": {
    "collapsed": false
   },
   "outputs": [
    {
     "data": {
      "text/plain": [
       "array([[-257.06125055]])"
      ]
     },
     "execution_count": 135,
     "metadata": {},
     "output_type": "execute_result"
    }
   ],
   "source": [
    "rce.subprocess.rad.Output['LwToa']"
   ]
  },
  {
   "cell_type": "code",
   "execution_count": 118,
   "metadata": {
    "collapsed": false
   },
   "outputs": [
    {
     "data": {
      "text/plain": [
       "Field([ 288.47556621])"
      ]
     },
     "execution_count": 118,
     "metadata": {},
     "output_type": "execute_result"
    }
   ],
   "source": [
    "const.sigma * rce.Ts**4"
   ]
  },
  {
   "cell_type": "code",
   "execution_count": 136,
   "metadata": {
    "collapsed": false
   },
   "outputs": [
    {
     "data": {
      "text/plain": [
       "array([[ 234.67466759]])"
      ]
     },
     "execution_count": 136,
     "metadata": {},
     "output_type": "execute_result"
    }
   ],
   "source": [
    "rce.subprocess.rad.Output['SwToa']"
   ]
  },
  {
   "cell_type": "code",
   "execution_count": 123,
   "metadata": {
    "collapsed": false
   },
   "outputs": [
    {
     "name": "stdout",
     "output_type": "stream",
     "text": [
      "Integrating for 365 steps, 365.2422 days, or 1.0 years.\n",
      "Total elapsed time is 4.00008542277 years.\n"
     ]
    }
   ],
   "source": [
    "rce.integrate_years()"
   ]
  },
  {
   "cell_type": "code",
   "execution_count": 139,
   "metadata": {
    "collapsed": false
   },
   "outputs": [
    {
     "ename": "AttributeError",
     "evalue": "'RCEmodel' object has no attribute 'q'",
     "output_type": "error",
     "traceback": [
      "\u001b[0;31m---------------------------------------------------------------------------\u001b[0m",
      "\u001b[0;31mAttributeError\u001b[0m                            Traceback (most recent call last)",
      "\u001b[0;32m<ipython-input-139-3de72ffdbdad>\u001b[0m in \u001b[0;36m<module>\u001b[0;34m()\u001b[0m\n\u001b[0;32m----> 1\u001b[0;31m \u001b[0mrce\u001b[0m\u001b[0;34m.\u001b[0m\u001b[0mq\u001b[0m\u001b[0;34m\u001b[0m\u001b[0m\n\u001b[0m",
      "\u001b[0;31mAttributeError\u001b[0m: 'RCEmodel' object has no attribute 'q'"
     ]
    }
   ],
   "source": [
    "rce"
   ]
  },
  {
   "cell_type": "code",
   "execution_count": 140,
   "metadata": {
    "collapsed": false
   },
   "outputs": [
    {
     "data": {
      "text/plain": [
       "Field([  1.00000000e-08,   1.00000000e-08,   1.00000000e-08,\n",
       "         1.00000000e-08,   1.00000000e-08,   1.00000000e-08,\n",
       "         1.00000000e-08,   1.00000000e-08,   1.00000000e-08,\n",
       "         1.00000000e-08,   1.00000000e-08,   1.00000000e-08,\n",
       "         1.00000000e-08,   1.00000000e-08,   1.00000000e-08,\n",
       "         1.00000000e-08,   1.00000000e-08,   1.00000000e-08,\n",
       "         1.00000000e-08,   1.00000000e-08,   1.00000000e-08,\n",
       "         1.00000000e-08,   1.00000000e-08,   1.00000000e-08,\n",
       "         1.00000000e-08,   1.00000000e-08,   1.00000000e-08,\n",
       "         1.00000000e-08,   1.00000000e-08,   1.00000000e-08])"
      ]
     },
     "execution_count": 140,
     "metadata": {},
     "output_type": "execute_result"
    }
   ],
   "source": [
    "rce.subprocess.rad.q"
   ]
  },
  {
   "cell_type": "code",
   "execution_count": 141,
   "metadata": {
    "collapsed": true
   },
   "outputs": [],
   "source": [
    "rce.subprocess.rad.CO2 = 600."
   ]
  },
  {
   "cell_type": "code",
   "execution_count": 142,
   "metadata": {
    "collapsed": false
   },
   "outputs": [
    {
     "data": {
      "text/plain": [
       "{'Tatm': Field([ 199.75039872,  202.56630551,  205.30095789,  208.01330573,\n",
       "         210.71690958,  213.41539205,  216.10899509,  218.80296399,\n",
       "         221.49532867,  224.18667839,  226.87498654,  229.56364349,\n",
       "         232.25284022,  234.94203148,  237.63036244,  240.31817768,\n",
       "         243.00545947,  245.69227583,  248.37639381,  251.06059382,\n",
       "         253.74544391,  256.42946104,  259.11271002,  261.79457746,\n",
       "         264.47456121,  267.15109974,  269.82142117,  272.47639893,\n",
       "         275.13470473,  277.73429311]), 'Ts': Field([ 266.1361462])}"
      ]
     },
     "execution_count": 142,
     "metadata": {},
     "output_type": "execute_result"
    }
   ],
   "source": [
    "rce.state"
   ]
  },
  {
   "cell_type": "code",
   "execution_count": 143,
   "metadata": {
    "collapsed": false
   },
   "outputs": [
    {
     "name": "stdout",
     "output_type": "stream",
     "text": [
      "Integrating for 365 steps, 365.2422 days, or 1.0 years.\n",
      "Total elapsed time is 2.00141166601 years.\n"
     ]
    }
   ],
   "source": [
    "rce.integrate_years()"
   ]
  },
  {
   "cell_type": "code",
   "execution_count": 144,
   "metadata": {
    "collapsed": false
   },
   "outputs": [
    {
     "data": {
      "text/plain": [
       "{'Tatm': Field([ 199.46156362,  202.43503542,  205.22079681,  207.95762638,\n",
       "         210.6756725 ,  213.38302738,  216.08049781,  218.77859195,\n",
       "         221.4734666 ,  224.16631321,  226.85312716,  229.54061656,\n",
       "         232.22916981,  234.9177001 ,  237.60451235,  240.29026641,\n",
       "         242.97496311,  245.65868565,  248.33704884,  251.01551637,\n",
       "         253.69522911,  256.37325697,  259.04970979,  261.72336797,\n",
       "         264.39330748,  267.05645376,  269.7074574 ,  272.32909605,\n",
       "         274.95691132,  277.46940592]), 'Ts': Field([ 266.91411486])}"
      ]
     },
     "execution_count": 144,
     "metadata": {},
     "output_type": "execute_result"
    }
   ],
   "source": [
    "rce.state"
   ]
  },
  {
   "cell_type": "code",
   "execution_count": 145,
   "metadata": {
    "collapsed": false
   },
   "outputs": [
    {
     "data": {
      "text/plain": [
       "array([[-23.10401892]])"
      ]
     },
     "execution_count": 145,
     "metadata": {},
     "output_type": "execute_result"
    }
   ],
   "source": [
    "rce.subprocess.rad.Output['SwToa'] + rce.subprocess.rad.Output['LwToa']"
   ]
  },
  {
   "cell_type": "code",
   "execution_count": null,
   "metadata": {
    "collapsed": true
   },
   "outputs": [],
   "source": [
    "## BUGGY!!!"
   ]
  }
 ],
 "metadata": {
  "kernelspec": {
   "display_name": "Python 2",
   "language": "python",
   "name": "python2"
  },
  "language_info": {
   "codemirror_mode": {
    "name": "ipython",
    "version": 2
   },
   "file_extension": ".py",
   "mimetype": "text/x-python",
   "name": "python",
   "nbconvert_exporter": "python",
   "pygments_lexer": "ipython2",
   "version": "2.7.11"
  }
 },
 "nbformat": 4,
 "nbformat_minor": 0
}
