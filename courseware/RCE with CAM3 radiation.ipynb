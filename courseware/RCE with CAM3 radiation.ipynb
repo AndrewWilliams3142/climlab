{
 "cells": [
  {
   "cell_type": "markdown",
   "metadata": {},
   "source": [
    "# Radiative-Convective Equilibrium with CAM3 scheme"
   ]
  },
  {
   "cell_type": "code",
   "execution_count": 1,
   "metadata": {
    "collapsed": false
   },
   "outputs": [],
   "source": [
    "%matplotlib inline\n",
    "import numpy as np\n",
    "import matplotlib.pyplot as plt\n",
    "import climlab\n",
    "from climlab import constants as const"
   ]
  },
  {
   "cell_type": "markdown",
   "metadata": {},
   "source": [
    "#  Here is how to set a simple RCE in `climlab`\n",
    "\n",
    "By initializing each component with the same state object, the components are already effectively coupled. They all act to modify the same state object.\n",
    "\n",
    "No extra coupling code is necessary."
   ]
  },
  {
   "cell_type": "code",
   "execution_count": 2,
   "metadata": {
    "collapsed": true
   },
   "outputs": [],
   "source": [
    "# initial state (temperatures)\n",
    "state = climlab.column_state(num_lev=20, num_lat=1, water_depth=5.)"
   ]
  },
  {
   "cell_type": "code",
   "execution_count": 3,
   "metadata": {
    "collapsed": false
   },
   "outputs": [],
   "source": [
    "#  Create a parent process\n",
    "rce = climlab.TimeDependentProcess(state=state)\n",
    "## Create individual physical process models:\n",
    "#  fixed relative humidity\n",
    "h2o = climlab.radiation.ManabeWaterVapor(state=state)\n",
    "#  Hard convective adjustment\n",
    "convadj = climlab.convection.ConvectiveAdjustment(state=state, adj_lapse_rate=6.5)\n",
    "# CAM3 radiation with default parameters and interactive water vapor\n",
    "rad = climlab.radiation.CAM3(state=state)\n",
    "rad.q = h2o.q\n",
    "\n",
    "# Couple the models\n",
    "rce.add_subprocess('Radiation', rad)\n",
    "rce.add_subprocess('ConvectiveAdjustment', convadj)\n",
    "rce.add_subprocess('H2O', h2o)\n",
    "\n",
    "#  Make diagnostic water vapor field easy to access\n",
    "rce.q = rce.subprocess.H2O.q"
   ]
  },
  {
   "cell_type": "code",
   "execution_count": 4,
   "metadata": {
    "collapsed": false
   },
   "outputs": [
    {
     "name": "stdout",
     "output_type": "stream",
     "text": [
      "climlab Process of type <class 'climlab.process.time_dependent_process.TimeDependentProcess'>. \n",
      "State variables and domain shapes: \n",
      "  Tatm: (20,) \n",
      "  Ts: (1,) \n",
      "The subprocess tree: \n",
      "top: <class 'climlab.process.time_dependent_process.TimeDependentProcess'>\n",
      "   ConvectiveAdjustment: <class 'climlab.convection.convadj.ConvectiveAdjustment'>\n",
      "   H2O: <class 'climlab.radiation.water_vapor.ManabeWaterVapor'>\n",
      "   Radiation: <class 'climlab.radiation.cam3.CAM3'>\n",
      "\n"
     ]
    }
   ],
   "source": [
    "print rce"
   ]
  },
  {
   "cell_type": "code",
   "execution_count": 5,
   "metadata": {
    "collapsed": false
   },
   "outputs": [
    {
     "data": {
      "text/plain": [
       "{'Tatm': Field([ 200.        ,  204.10526316,  208.21052632,  212.31578947,\n",
       "         216.42105263,  220.52631579,  224.63157895,  228.73684211,\n",
       "         232.84210526,  236.94736842,  241.05263158,  245.15789474,\n",
       "         249.26315789,  253.36842105,  257.47368421,  261.57894737,\n",
       "         265.68421053,  269.78947368,  273.89473684,  278.        ]),\n",
       " 'Ts': Field([ 288.])}"
      ]
     },
     "execution_count": 5,
     "metadata": {},
     "output_type": "execute_result"
    }
   ],
   "source": [
    "rce.state"
   ]
  },
  {
   "cell_type": "code",
   "execution_count": 6,
   "metadata": {
    "collapsed": false
   },
   "outputs": [
    {
     "name": "stdout",
     "output_type": "stream",
     "text": [
      "Integrating for 1826 steps, 1826.211 days, or 5 years.\n",
      "Total elapsed time is 4.99942230115 years.\n"
     ]
    }
   ],
   "source": [
    "rce.integrate_years(5)"
   ]
  },
  {
   "cell_type": "code",
   "execution_count": 7,
   "metadata": {
    "collapsed": false
   },
   "outputs": [
    {
     "data": {
      "text/plain": [
       "{'Tatm': Field([ 149.60214563,  184.40014626,  203.23184288,  216.6747333 ,\n",
       "         227.29228779,  236.14260969,  243.77260381,  250.50430522,\n",
       "         256.5444144 ,  262.03403484,  267.07406061,  271.73929388,\n",
       "         276.08682874,  280.16129672,  283.9982912 ,  287.6266833 ,\n",
       "         291.07023553,  294.34875527,  297.4789377 ,  300.4749939 ]),\n",
       " 'Ts': Field([ 301.92660593])}"
      ]
     },
     "execution_count": 7,
     "metadata": {},
     "output_type": "execute_result"
    }
   ],
   "source": [
    "rce.state"
   ]
  },
  {
   "cell_type": "code",
   "execution_count": 8,
   "metadata": {
    "collapsed": false
   },
   "outputs": [
    {
     "data": {
      "text/plain": [
       "Field([  5.00000000e-06,   5.00000000e-06,   5.00000000e-06,\n",
       "         1.27398211e-05,   4.51006511e-05,   1.16692340e-04,\n",
       "         2.48148808e-04,   4.61837851e-04,   7.80895725e-04,\n",
       "         1.22855642e-03,   1.82769908e-03,   2.60055103e-03,\n",
       "         3.56849985e-03,   4.75198161e-03,   6.17042172e-03,\n",
       "         7.84221218e-03,   9.78471355e-03,   1.20142737e-02,\n",
       "         1.45462574e-02,   1.73950833e-02])"
      ]
     },
     "execution_count": 8,
     "metadata": {},
     "output_type": "execute_result"
    }
   ],
   "source": [
    "rce.q"
   ]
  },
  {
   "cell_type": "code",
   "execution_count": 9,
   "metadata": {
    "collapsed": false
   },
   "outputs": [
    {
     "data": {
      "text/plain": [
       "{'CFC11': 1e-09,\n",
       " 'CFC12': 1e-09,\n",
       " 'CH4': 1e-09,\n",
       " 'CO2': 380.0,\n",
       " 'N2O': 1e-09,\n",
       " 'O3': Field([  1.00000000e-09,   1.00000000e-09,   1.00000000e-09,\n",
       "          1.00000000e-09,   1.00000000e-09,   1.00000000e-09,\n",
       "          1.00000000e-09,   1.00000000e-09,   1.00000000e-09,\n",
       "          1.00000000e-09,   1.00000000e-09,   1.00000000e-09,\n",
       "          1.00000000e-09,   1.00000000e-09,   1.00000000e-09,\n",
       "          1.00000000e-09,   1.00000000e-09,   1.00000000e-09,\n",
       "          1.00000000e-09,   1.00000000e-09]),\n",
       " 'aldif': Field([ 0.07]),\n",
       " 'aldir': Field([ 0.07]),\n",
       " 'asdif': Field([ 0.07]),\n",
       " 'asdir': Field([ 0.07]),\n",
       " 'ciwp': Field([ 0.,  0.,  0.,  0.,  0.,  0.,  0.,  0.,  0.,  0.,  0.,  0.,  0.,\n",
       "         0.,  0.,  0.,  0.,  0.,  0.,  0.]),\n",
       " 'cldf': Field([ 0.,  0.,  0.,  0.,  0.,  0.,  0.,  0.,  0.,  0.,  0.,  0.,  0.,\n",
       "         0.,  0.,  0.,  0.,  0.,  0.,  0.]),\n",
       " 'clwp': Field([ 0.,  0.,  0.,  0.,  0.,  0.,  0.,  0.,  0.,  0.,  0.,  0.,  0.,\n",
       "         0.,  0.,  0.,  0.,  0.,  0.,  0.]),\n",
       " 'cosZen': Field([ 1.]),\n",
       " 'flux_from_space': Field([ 0.]),\n",
       " 'insolation': Field([ 341.3]),\n",
       " 'q': Field([  5.00000000e-06,   5.00000000e-06,   5.00000000e-06,\n",
       "          1.27398211e-05,   4.51006511e-05,   1.16692340e-04,\n",
       "          2.48148808e-04,   4.61837851e-04,   7.80895725e-04,\n",
       "          1.22855642e-03,   1.82769908e-03,   2.60055103e-03,\n",
       "          3.56849985e-03,   4.75198161e-03,   6.17042172e-03,\n",
       "          7.84221218e-03,   9.78471355e-03,   1.20142737e-02,\n",
       "          1.45462574e-02,   1.73950833e-02]),\n",
       " 'r_ice': Field([ 30.,  30.,  30.,  30.,  30.,  30.,  30.,  30.,  30.,  30.,  30.,\n",
       "         30.,  30.,  30.,  30.,  30.,  30.,  30.,  30.,  30.]),\n",
       " 'r_liq': Field([ 10.,  10.,  10.,  10.,  10.,  10.,  10.,  10.,  10.,  10.,  10.,\n",
       "         10.,  10.,  10.,  10.,  10.,  10.,  10.,  10.,  10.])}"
      ]
     },
     "execution_count": 9,
     "metadata": {},
     "output_type": "execute_result"
    }
   ],
   "source": [
    "rce.subprocess.Radiation.input"
   ]
  },
  {
   "cell_type": "markdown",
   "metadata": {},
   "source": [
    "# Latitudinally, seasonally varying RCE"
   ]
  },
  {
   "cell_type": "code",
   "execution_count": 10,
   "metadata": {
    "collapsed": true
   },
   "outputs": [],
   "source": [
    "# initial state (temperatures)\n",
    "state2 = climlab.column_state(num_lev=20, num_lat=30, water_depth=10.)"
   ]
  },
  {
   "cell_type": "code",
   "execution_count": 11,
   "metadata": {
    "collapsed": false
   },
   "outputs": [],
   "source": [
    "#  Create a parent process\n",
    "rcelat = climlab.TimeDependentProcess(state=state2)\n",
    "## Create individual physical process models:\n",
    "#  seasonal insolation\n",
    "insol = climlab.radiation.DailyInsolation(domains=rcelat.Ts.domain)\n",
    "#  fixed relative humidity\n",
    "h2o = climlab.radiation.ManabeWaterVapor(state=state2)\n",
    "#  Hard convective adjustment\n",
    "convadj = climlab.convection.ConvectiveAdjustment(state=state2, adj_lapse_rate=6.5)\n",
    "# CAM3 radiation with default parameters and interactive water vapor\n",
    "rad = climlab.radiation.CAM3(state=state2)\n",
    "#  Couple the insolation and water vapor to radiation process\n",
    "rad.q = h2o.q\n",
    "rad.insolation = insol.insolation\n",
    "\n",
    "# Add all subprocesses to the parent process\n",
    "rcelat.add_subprocess('Insolation', insol)\n",
    "rcelat.add_subprocess('Radiation', rad)\n",
    "rcelat.add_subprocess('ConvectiveAdjustment', convadj)\n",
    "rcelat.add_subprocess('H2O', h2o)\n",
    "\n",
    "#  Make diagnostic water vapor field easy to access\n",
    "rcelat.q = rcelat.subprocess.H2O.q"
   ]
  },
  {
   "cell_type": "code",
   "execution_count": 12,
   "metadata": {
    "collapsed": false
   },
   "outputs": [
    {
     "name": "stdout",
     "output_type": "stream",
     "text": [
      "Integrating for 1826 steps, 1826.211 days, or 5 years.\n",
      "Total elapsed time is 4.99942230115 years.\n"
     ]
    }
   ],
   "source": [
    "rcelat.integrate_years(5)"
   ]
  },
  {
   "cell_type": "code",
   "execution_count": 13,
   "metadata": {
    "collapsed": false
   },
   "outputs": [
    {
     "name": "stdout",
     "output_type": "stream",
     "text": [
      "Integrating for 365 steps, 365.2422 days, or 1 years.\n",
      "Total elapsed time is 5.99875917953 years.\n"
     ]
    }
   ],
   "source": [
    "rcelat.integrate_years(1)"
   ]
  },
  {
   "cell_type": "code",
   "execution_count": 14,
   "metadata": {
    "collapsed": true
   },
   "outputs": [],
   "source": [
    "def plot_temp_section(model, timeave=True):\n",
    "    fig = plt.figure()\n",
    "    ax = fig.add_subplot(111)\n",
    "    if timeave:\n",
    "        field = model.timeave['Tatm'].transpose()\n",
    "    else:\n",
    "        field = model.Tatm.transpose()\n",
    "    cax = ax.contourf(model.lat, model.lev, field)\n",
    "    ax.invert_yaxis()\n",
    "    ax.set_xlim(-90,90)\n",
    "    ax.set_xticks([-90, -60, -30, 0, 30, 60, 90])\n",
    "    fig.colorbar(cax)"
   ]
  },
  {
   "cell_type": "code",
   "execution_count": 15,
   "metadata": {
    "collapsed": false
   },
   "outputs": [
    {
     "data": {
      "image/png": "[encoded data removed]",
      "text/plain": [
       "<matplotlib.figure.Figure at 0x116092a90>"
      ]
     },
     "metadata": {},
     "output_type": "display_data"
    }
   ],
   "source": [
    "plot_temp_section(rcelat)"
   ]
  },
  {
   "cell_type": "markdown",
   "metadata": {
    "collapsed": true
   },
   "source": [
    "# Same thing, but also including meridional temperature diffusion"
   ]
  },
  {
   "cell_type": "code",
   "execution_count": 16,
   "metadata": {
    "collapsed": false
   },
   "outputs": [],
   "source": [
    "#  Create and exact clone of the previous model\n",
    "diffmodel = climlab.process_like(rcelat)"
   ]
  },
  {
   "cell_type": "code",
   "execution_count": 17,
   "metadata": {
    "collapsed": false
   },
   "outputs": [
    {
     "name": "stdout",
     "output_type": "stream",
     "text": [
      "9.7609561753e-08\n"
     ]
    }
   ],
   "source": [
    "# thermal diffusivity in W/m**2/degC\n",
    "D = 0.05\n",
    "# meridional diffusivity in 1/s\n",
    "K = D / diffmodel.Tatm.domain.heat_capacity[0]\n",
    "print K"
   ]
  },
  {
   "cell_type": "code",
   "execution_count": 18,
   "metadata": {
    "collapsed": true
   },
   "outputs": [],
   "source": [
    "d = climlab.dynamics.MeridionalDiffusion(K=K, state={'Tatm': diffmodel.state['Tatm']}, **diffmodel.param)"
   ]
  },
  {
   "cell_type": "code",
   "execution_count": 19,
   "metadata": {
    "collapsed": true
   },
   "outputs": [],
   "source": [
    "diffmodel.add_subprocess('diffusion', d)"
   ]
  },
  {
   "cell_type": "code",
   "execution_count": 20,
   "metadata": {
    "collapsed": false
   },
   "outputs": [
    {
     "name": "stdout",
     "output_type": "stream",
     "text": [
      "Integrating for 1826 steps, 1826.211 days, or 5 years.\n",
      "Total elapsed time is 10.9981814807 years.\n"
     ]
    }
   ],
   "source": [
    "diffmodel.integrate_years(5)"
   ]
  },
  {
   "cell_type": "code",
   "execution_count": 21,
   "metadata": {
    "collapsed": false
   },
   "outputs": [
    {
     "name": "stdout",
     "output_type": "stream",
     "text": [
      "Integrating for 365 steps, 365.2422 days, or 1 years.\n",
      "Total elapsed time is 11.9975183591 years.\n"
     ]
    }
   ],
   "source": [
    "diffmodel.integrate_years(1)"
   ]
  },
  {
   "cell_type": "code",
   "execution_count": 22,
   "metadata": {
    "collapsed": false
   },
   "outputs": [
    {
     "data": {
      "image/png": "[encoded data removed]",
      "text/plain": [
       "<matplotlib.figure.Figure at 0x118fad390>"
      ]
     },
     "metadata": {},
     "output_type": "display_data"
    },
    {
     "data": {
      "image/png": "[encoded data removed]",
      "text/plain": [
       "<matplotlib.figure.Figure at 0x118fad350>"
      ]
     },
     "metadata": {},
     "output_type": "display_data"
    }
   ],
   "source": [
    "plot_temp_section(rcelat)\n",
    "plot_temp_section(diffmodel)"
   ]
  },
  {
   "cell_type": "code",
   "execution_count": 23,
   "metadata": {
    "collapsed": true
   },
   "outputs": [],
   "source": [
    "def inferred_heat_transport( energy_in, lat_deg ):\n",
    "    '''Returns the inferred heat transport (in PW) by integrating the net energy imbalance from pole to pole.'''\n",
    "    from scipy import integrate\n",
    "    from climlab import constants as const\n",
    "    lat_rad = np.deg2rad( lat_deg )\n",
    "    return ( 1E-15 * 2 * np.math.pi * const.a**2 * integrate.cumtrapz( np.cos(lat_rad)*energy_in,\n",
    "            x=lat_rad, initial=0. ) )\n"
   ]
  },
  {
   "cell_type": "code",
   "execution_count": 24,
   "metadata": {
    "collapsed": false
   },
   "outputs": [
    {
     "data": {
      "text/plain": [
       "[<matplotlib.lines.Line2D at 0x119a44410>]"
      ]
     },
     "execution_count": 24,
     "metadata": {},
     "output_type": "execute_result"
    },
    {
     "data": {
      "image/png": "[encoded data removed]",
      "text/plain": [
       "<matplotlib.figure.Figure at 0x119821810>"
      ]
     },
     "metadata": {},
     "output_type": "display_data"
    }
   ],
   "source": [
    "#  Plot the northward heat transport in this model\n",
    "Rtoa = np.squeeze(diffmodel.timeave['ASR'] - diffmodel.timeave['OLR'])\n",
    "plt.plot(diffmodel.lat, inferred_heat_transport(Rtoa, diffmodel.lat))"
   ]
  },
  {
   "cell_type": "markdown",
   "metadata": {
    "collapsed": true
   },
   "source": [
    "# If you want explicit surface fluxes...\n",
    "\n",
    "All the models above use a convective adjustment that simultaneously adjustments `Tatm` and `Ts` to the prescribed lapse rate.\n",
    "\n",
    "We can instead limit the convective adjustment to just the atmosphere. To do this, we just have to change the `state` variable dictionary in the convective adjustment process.\n",
    "\n",
    "Then we can invoke process models for **sensible and latent heat fluxes** that use simple bulk formulae. Tunable parameters for these include drag coefficient and surface wind speed."
   ]
  },
  {
   "cell_type": "code",
   "execution_count": 25,
   "metadata": {
    "collapsed": false
   },
   "outputs": [
    {
     "name": "stdout",
     "output_type": "stream",
     "text": [
      "climlab Process of type <class 'climlab.process.time_dependent_process.TimeDependentProcess'>. \n",
      "State variables and domain shapes: \n",
      "  Tatm: (30, 20) \n",
      "  Ts: (30, 1) \n",
      "The subprocess tree: \n",
      "top: <class 'climlab.process.time_dependent_process.TimeDependentProcess'>\n",
      "   diffusion: <class 'climlab.dynamics.diffusion.MeridionalDiffusion'>\n",
      "   ConvectiveAdjustment: <class 'climlab.convection.convadj.ConvectiveAdjustment'>\n",
      "   H2O: <class 'climlab.radiation.water_vapor.ManabeWaterVapor'>\n",
      "   Radiation: <class 'climlab.radiation.cam3.CAM3'>\n",
      "   Insolation: <class 'climlab.radiation.insolation.DailyInsolation'>\n",
      "\n"
     ]
    }
   ],
   "source": [
    "diffmodel2 = climlab.process_like(diffmodel)\n",
    "\n",
    "#  Hard convective adjustment -- ATMOSPHERE ONLY\n",
    "convadj2 = climlab.convection.ConvectiveAdjustment(state={'Tatm':diffmodel2.state['Tatm']}, adj_lapse_rate=6.5)\n",
    "diffmodel2.add_subprocess('ConvectiveAdjustment', convadj2)\n",
    "\n",
    "print diffmodel2"
   ]
  },
  {
   "cell_type": "code",
   "execution_count": 26,
   "metadata": {
    "collapsed": false
   },
   "outputs": [
    {
     "name": "stdout",
     "output_type": "stream",
     "text": [
      "climlab Process of type <class 'climlab.process.time_dependent_process.TimeDependentProcess'>. \n",
      "State variables and domain shapes: \n",
      "  Tatm: (30, 20) \n",
      "  Ts: (30, 1) \n",
      "The subprocess tree: \n",
      "top: <class 'climlab.process.time_dependent_process.TimeDependentProcess'>\n",
      "   diffusion: <class 'climlab.dynamics.diffusion.MeridionalDiffusion'>\n",
      "   ConvectiveAdjustment: <class 'climlab.convection.convadj.ConvectiveAdjustment'>\n",
      "   H2O: <class 'climlab.radiation.water_vapor.ManabeWaterVapor'>\n",
      "   SHF: <class 'climlab.surface.turbulent.SensibleHeatFlux'>\n",
      "   LHF: <class 'climlab.surface.turbulent.LatentHeatFlux'>\n",
      "   Radiation: <class 'climlab.radiation.cam3.CAM3'>\n",
      "   Insolation: <class 'climlab.radiation.insolation.DailyInsolation'>\n",
      "\n"
     ]
    }
   ],
   "source": [
    "#  Now add surface flux processes\n",
    "#  Add surface heat fluxes\n",
    "\n",
    "shf = climlab.surface.SensibleHeatFlux(state=diffmodel2.state, Cd=0.5E-3)\n",
    "lhf = climlab.surface.LatentHeatFlux(state=diffmodel2.state, Cd=0.5E-3)\n",
    "#  set the water vapor input field for LHF process\n",
    "lhf.q = diffmodel2.subprocess['H2O'].q\n",
    "diffmodel2.add_subprocess('SHF', shf)\n",
    "diffmodel2.add_subprocess('LHF', lhf)\n",
    "\n",
    "print diffmodel2"
   ]
  },
  {
   "cell_type": "code",
   "execution_count": 27,
   "metadata": {
    "collapsed": false
   },
   "outputs": [
    {
     "name": "stdout",
     "output_type": "stream",
     "text": [
      "Integrating for 1826 steps, 1826.211 days, or 5 years.\n",
      "Total elapsed time is 16.9969406602 years.\n"
     ]
    }
   ],
   "source": [
    "diffmodel2.integrate_years(5)"
   ]
  },
  {
   "cell_type": "code",
   "execution_count": 28,
   "metadata": {
    "collapsed": false
   },
   "outputs": [
    {
     "name": "stdout",
     "output_type": "stream",
     "text": [
      "Integrating for 365 steps, 365.2422 days, or 1 years.\n",
      "Total elapsed time is 17.9962775386 years.\n"
     ]
    }
   ],
   "source": [
    "diffmodel2.integrate_years(1)"
   ]
  },
  {
   "cell_type": "code",
   "execution_count": 29,
   "metadata": {
    "collapsed": false
   },
   "outputs": [
    {
     "data": {
      "image/png": "[encoded data removed]",
      "text/plain": [
       "<matplotlib.figure.Figure at 0x119818a10>"
      ]
     },
     "metadata": {},
     "output_type": "display_data"
    },
    {
     "data": {
      "image/png": "[encoded data removed]",
      "text/plain": [
       "<matplotlib.figure.Figure at 0x119818b10>"
      ]
     },
     "metadata": {},
     "output_type": "display_data"
    }
   ],
   "source": [
    "plot_temp_section(rcelat)\n",
    "plot_temp_section(diffmodel2)"
   ]
  },
  {
   "cell_type": "code",
   "execution_count": 30,
   "metadata": {
    "collapsed": false
   },
   "outputs": [
    {
     "data": {
      "text/plain": [
       "[<matplotlib.lines.Line2D at 0x1195ded90>]"
      ]
     },
     "execution_count": 30,
     "metadata": {},
     "output_type": "execute_result"
    },
    {
     "data": {
      "image/png": "[encoded data removed]",
      "text/plain": [
       "<matplotlib.figure.Figure at 0x11689fd10>"
      ]
     },
     "metadata": {},
     "output_type": "display_data"
    }
   ],
   "source": [
    "#  Plot the northward heat transport in this model\n",
    "Rtoa = np.squeeze(diffmodel2.timeave['ASR'] - diffmodel2.timeave['OLR'])\n",
    "plt.plot(diffmodel2.lat, inferred_heat_transport(Rtoa, diffmodel2.lat))"
   ]
  },
  {
   "cell_type": "code",
   "execution_count": null,
   "metadata": {
    "collapsed": true
   },
   "outputs": [],
   "source": []
  }
 ],
 "metadata": {
  "anaconda-cloud": {},
  "kernelspec": {
   "display_name": "Python [default]",
   "language": "python",
   "name": "python2"
  },
  "language_info": {
   "codemirror_mode": {
    "name": "ipython",
    "version": 2
   },
   "file_extension": ".py",
   "mimetype": "text/x-python",
   "name": "python",
   "nbconvert_exporter": "python",
   "pygments_lexer": "ipython2",
   "version": "2.7.12"
  }
 },
 "nbformat": 4,
 "nbformat_minor": 0
}
